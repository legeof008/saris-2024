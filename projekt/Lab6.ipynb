{
 "cells": [
  {
   "cell_type": "markdown",
   "metadata": {},
   "source": [
    "# Wprowadzenie do głębokiego uczenia w PyTorch\n",
    "\n",
    "W tym notatniku zapoznasz się z [PyTorch](http://pytorch.org/), pakietem do tworzenia i trenowania sieci neuronowych. PyTorch na wiele sposobów zachowuje się jak tablice z Numpy, które nazywane są tutaj tensorami. PyTorch wykorzystuje  tensory i ułatwia przenoszenie ich na procesory graficzne w celu szybszego przetwarzania potrzebnego podczas uczenia sieci neuronowych. Zawiera również moduł, który automatycznie oblicza gradienty (dla propagacji wstecznej!) oraz inny moduł przeznaczony specjalnie do budowania sieci neuronowych."
   ]
  },
  {
   "cell_type": "markdown",
   "metadata": {},
   "source": [
    "## Sieć Neuronowa\n",
    "\n",
    "Głębokie uczenie opiera się na sztucznych sieciach neuronowych, które istnieją w jakiejś formie od późnych lat pięćdziesiątych. Sieci są zbudowane z pojedynczych części aproksymujących neurony, zwykle nazywanych jednostkami lub po prostu „neuronami”. Każda jednostka ma pewną ilość ważonych wejść. Przeważone dane wejściowe są sumowane (przy pomocy kombinacji liniowej), a następnie przepuszczane przez funkcję aktywacji, w celu otrzymania danych wyjściowych. \n",
    "\n",
    "<img src=\"assets/simple_neuron.png\" width=400px>\n",
    "\n",
    "Formalnie wygląda to następująco: \n",
    "\n",
    "$$\n",
    "\\begin{align}\n",
    "y &= f(w_1 x_1 + w_2 x_2 + b) \\\\\n",
    "y &= f\\left(\\sum_i w_i x_i +b \\right)\n",
    "\\end{align}\n",
    "$$\n",
    "\n",
    "W przypadku wektorów jest to iloczyn skalarny/wewnętrzny dwóch wektorów (ang. dot/inner product of two vectors):\n",
    "\n",
    "$$\n",
    "h = \\begin{bmatrix}\n",
    "x_1 \\, x_2 \\cdots  x_n\n",
    "\\end{bmatrix}\n",
    "\\cdot \n",
    "\\begin{bmatrix}\n",
    "           w_1 \\\\\n",
    "           w_2 \\\\\n",
    "           \\vdots \\\\\n",
    "           w_n\n",
    "\\end{bmatrix}\n",
    "$$"
   ]
  },
  {
   "cell_type": "markdown",
   "metadata": {},
   "source": [
    "## Tensory\n",
    "\n",
    "Okazuje się, że obliczenia w sieciach neuronowych są tylko zbiorem operacji algebry liniowej na *tensorach*, uogólnieniu macierzy. Wektor jest tensorem jednowymiarowym, macierz jest tensorem dwuwymiarowym, tablica z trzema indeksami jest tensorem trójwymiarowym (na przykład kolorowe obrazy RGB). Podstawową strukturą danych dla sieci neuronowych są tensory, a PyTorch (podobnie jak prawie każdy inny framework do głębokiego uczenia się) jest zbudowany wokół tensorów. \n",
    "\n",
    "<img src=\"assets/tensor_examples.svg\" width=600px>\n",
    "\n",
    "Po omówieniu podstaw nadszedł czas, aby zbadać, w jaki sposób możemy wykorzystać PyTorch do zbudowania prostej sieci neuronowej. "
   ]
  },
  {
   "cell_type": "code",
   "execution_count": 1,
   "metadata": {},
   "outputs": [],
   "source": [
    "# First, import PyTorch\n",
    "import torch"
   ]
  },
  {
   "cell_type": "code",
   "execution_count": 2,
   "metadata": {},
   "outputs": [],
   "source": [
    "def activation(x):\n",
    "    \"\"\" Sigmoid activation function \n",
    "    \n",
    "        Arguments\n",
    "        ---------\n",
    "        x: torch.Tensor\n",
    "    \"\"\"\n",
    "    return 1/(1+torch.exp(-x))"
   ]
  },
  {
   "cell_type": "code",
   "execution_count": 3,
   "metadata": {},
   "outputs": [],
   "source": [
    "### Generowanie danych\n",
    "torch.manual_seed(7) # Ustawienie ziarna\n",
    "\n",
    "# Losujemy 5 zmiennych (wektor danych wejściowych)\n",
    "features = torch.randn((1, 5))\n",
    "# Losujemy wagi dla naszych danych wejściowych\n",
    "weights = torch.randn_like(features)\n",
    "# i bias\n",
    "bias = torch.randn((1, 1))"
   ]
  },
  {
   "cell_type": "markdown",
   "metadata": {},
   "source": [
    "Powyżej wygenerowaliśy dane, które możemy wykorzystać do uzyskania wyniku naszej prostej sieci. Na razie to wszystko jest po prostu losowe, w przyszłości zaczniemy używać normalnych danych. Analizując każdą powyższą linię:\n",
    "\n",
    "`features = torch.randn((1, 5))` tworzy tensor o wymiarach `(1, 5)`, jednym wierszu i pięciu kolumnach, który zawiera losowe wartości z rozkładu normalnego (średnia 0 i odchylenie standardowe 1). \n",
    "\n",
    "`weights = torch.randn_like(features)` tworzy losowy tensor o wymiarach tensora `features`, również używając rozkładu normalnego.\n",
    "\n",
    "Ostatecznie, `bias = torch.randn((1, 1))` losuje pojedynczą wartość z rozkładu normalnego. \n",
    "\n",
    "Tensory PyTorch można dodawać, mnożyć, odejmować itp., podobnie jak tablice Numpy. Ogólnie rzecz biorąc, będziemy używać tensorów PyTorch w taki sam sposób, w jaki używa się tablic Numpy. Mają one jednak kilka fajnych korzyści, takich jak przyspieszenie GPU, do którego przejdziemy później. Na razie użyj wygenerowanych danych, aby obliczyć dane wyjściowe tej prostej sieci jednowarstwowej.\n",
    "> **Ćwiczenie**: oblicz wyjście sieci za pomocą danych wejściowych „features”, wag „weights” i wyrazu wolnego „bias”. Podobnie jak Numpy, PyTorch ma funkcję [`torch.sum()`](https://pytorch.org/docs/stable/torch.html#torch.sum), a także metodę `.sum()` na tensorach, do liczenia sum. Użyj funkcji „activation” zdefiniowanej powyżej jako funkcji aktywacji. "
   ]
  },
  {
   "cell_type": "code",
   "execution_count": 4,
   "metadata": {},
   "outputs": [],
   "source": [
    "## Oblicz wynik tej sieci za pomocą wag i tensorów odchylenia \n",
    "\n",
    "w = activation(weights * features + bias)\n",
    "\n",
    "r = torch.sum(w)"
   ]
  },
  {
   "cell_type": "code",
   "execution_count": 5,
   "metadata": {},
   "outputs": [
    {
     "data": {
      "text/plain": [
       "torch.Size([1, 5])"
      ]
     },
     "execution_count": 5,
     "metadata": {},
     "output_type": "execute_result"
    }
   ],
   "source": [
    "features.shape"
   ]
  },
  {
   "cell_type": "code",
   "execution_count": 6,
   "metadata": {},
   "outputs": [
    {
     "data": {
      "text/plain": [
       "torch.Size([1, 5])"
      ]
     },
     "execution_count": 6,
     "metadata": {},
     "output_type": "execute_result"
    }
   ],
   "source": [
    "weights.shape"
   ]
  },
  {
   "cell_type": "code",
   "execution_count": 7,
   "metadata": {},
   "outputs": [
    {
     "ename": "RuntimeError",
     "evalue": "mat1 and mat2 shapes cannot be multiplied (1x5 and 1x5)",
     "output_type": "error",
     "traceback": [
      "\u001b[0;31m---------------------------------------------------------------------------\u001b[0m",
      "\u001b[0;31mRuntimeError\u001b[0m                              Traceback (most recent call last)",
      "Cell \u001b[0;32mIn[7], line 1\u001b[0m\n\u001b[0;32m----> 1\u001b[0m \u001b[43mtorch\u001b[49m\u001b[38;5;241;43m.\u001b[39;49m\u001b[43mmm\u001b[49m\u001b[43m(\u001b[49m\u001b[43mfeatures\u001b[49m\u001b[43m,\u001b[49m\u001b[43m \u001b[49m\u001b[43mweights\u001b[49m\u001b[43m)\u001b[49m\n",
      "\u001b[0;31mRuntimeError\u001b[0m: mat1 and mat2 shapes cannot be multiplied (1x5 and 1x5)"
     ]
    }
   ],
   "source": [
    "torch.mm(features, weights)"
   ]
  },
  {
   "cell_type": "markdown",
   "metadata": {},
   "source": [
    "Możesz wykonać mnożenie i sumowanie w tej samej operacji, używając mnożenia macierzy. Ogólnie rzecz biorąc warto używać mnożenia macierzy, ponieważ są one bardziej wydajne i przyspieszane przy użyciu nowoczesnych bibliotek i obliczeń o wysokiej wydajności na procesorach graficznych.\n",
    "\n",
    "Tutaj chcemy wykonać macierzowe pomnożenie cech i wag. W tym celu możemy użyć [`torch.mm()`](https://pytorch.org/docs/stable/torch.html#torch.mm) lub [`torch.matmul()`](https:// pytorch.org/docs/stable/torch.html#torch.matmul), który jest nieco bardziej skomplikowany i obsługuje rozgłoszenia (ang. broadcasting). Jeśli spróbujesz użyć tej funkcji z `features` i `weights` w takiej formie w jakiej są otrzymasz błąd.\n",
    "\n",
    "Powstały błąd jest wynikiem tego, że nasze tensory nie mają odpowiednich wymiarów do mnożenia macierzy. Pamiętaj, że w przypadku mnożenia macierzy liczba kolumn w pierwszym tensorze musi być równa liczbie wierszy w drugim.  Tensory `features` oraz `weights` mają ten sam wymiar, `(1, 5)`. Oznacza to, że musimy zmienić kształt `weights` aby mnożenie macierzy zadziałało. \n",
    "\n",
    "**Uwaga:** aby zobaczyć kształt tensora o nazwie `tensor`, użyj `tensor.shape`. Jeśli budujesz sieci neuronowe, będziesz często używać tej metody. \n",
    "\n",
    "Mamy kilka możliwości: [`weights.reshape()`](https://pytorch.org/docs/stable/tensors.html#torch.Tensor.reshape), [`weights.resize_()`]( https://pytorch.org/docs/stable/tensors.html#torch.Tensor.resize_) i [`weights.view()`](https://pytorch.org/docs/stable/tensors.html# torch.tensor.view).\n",
    "\n",
    "* `weights.reshape(a, b)` zwróci nowy tensor z tymi samymi danymi co `weights` o rozmiarze `(a, b)` czasami, a czasami klon, ponieważ kopiuje dane do innej części pamięć.\n",
    "* `weights.resize_(a, b)` zwraca ten sam tensor o innym kształcie. Jeśli jednak nowy kształt da w wyniku mniej elementów niż oryginalny tensor, niektóre elementy zostaną usunięte z tensora (ale nie z pamięci). Jeśli nowy kształt da w wyniku więcej elementów niż oryginalny tensor, nowe elementy nie zostaną zainicjowane w pamięci. W tym miejscu można zauważyć, że podkreślenie na końcu metody oznacza, że ​​metoda ta jest wykonywana **w miejscu**. Oto świetny wątek na forum, aby [przeczytać więcej o operacjach w miejscu](https://discuss.pytorch.org/t/what-is-in-place-operation/16244) w PyTorch.\n",
    "* `weights.view(a, b)` zwróci nowy tensor z takimi samymi danymi jak `weights` o rozmiarze `(a, b)`.\n",
    "\n",
    "Zwykle używa się `.view()`, ale każda z trzech metod będzie działać. Tak więc, teraz możemy zmienić kształt `weights`, aby mieć pięć wierszy i jedną kolumnę za pomocą komendy `weights.view(5, 1)`.\n",
    "\n",
    "> **Ćwiczenie**: Oblicz wynik naszej małej sieci za pomocą mnożenia macierzy. "
   ]
  },
  {
   "cell_type": "code",
   "execution_count": 8,
   "metadata": {},
   "outputs": [
    {
     "data": {
      "text/plain": [
       "tensor([[-1.9796]])"
      ]
     },
     "execution_count": 8,
     "metadata": {},
     "output_type": "execute_result"
    }
   ],
   "source": [
    "## Wyliczenie wyjścia sieci przy pomocy mnożenia macierzy\n",
    "y = torch.mm(features, weights.view(5,1))\n",
    "y"
   ]
  },
  {
   "cell_type": "markdown",
   "metadata": {},
   "source": [
    "### Układanie neuronów w stos\n",
    "\n",
    "Łącząc neuronwy w stos możemy zobaczyć prawdziwą moc algorytmu pojawia. W tym celu lączymy pojedyncze jednostki w warstwy i stosy warstw w sieć neuronów. Wyjście jednej warstwy neuronów staje się wejściem dla następnej warstwy. Przy wielu jednostkach wejściowych i jednostkach wyjściowych musimy teraz wyrazić wagi jako macierz. \n",
    "\n",
    "<img src='assets/multilayer_diagram_weights.png' width=450px>\n",
    "\n",
    "Pierwsza warstwa pokazana na dole to dane wejściowe, co zrozumiałe nazywa się **warstwą wejściową**. Warstwa środkowa to **warstwa ukryta**, a warstwa końcowa (po prawej) to **warstwa wyjściowa**. Możemy ponownie wyrazić tę sieć matematycznie za pomocą macierzy i użyć mnożenia macierzy, aby uzyskać kombinacje liniowe dla każdej jednostki w jednej operacji. Na przykład można obliczyć ukrytą warstwę ($h_1$ i $h_2$) \n",
    "\n",
    "$$\n",
    "\\vec{h} = [h_1 \\, h_2] = \n",
    "\\begin{bmatrix}\n",
    "x_1 \\, x_2 \\cdots \\, x_n\n",
    "\\end{bmatrix}\n",
    "\\cdot \n",
    "\\begin{bmatrix}\n",
    "           w_{11} & w_{12} \\\\\n",
    "           w_{21} &w_{22} \\\\\n",
    "           \\vdots &\\vdots \\\\\n",
    "           w_{n1} &w_{n2}\n",
    "\\end{bmatrix}\n",
    "$$\n",
    "\n",
    "Dane wyjściowe dla tej małej sieci można znaleźć, traktując ukrytą warstwę jako dane wejściowe dla jednostki wyjściowej. Dane wyjściowe sieci są wyrażane w prosty sposób \n",
    "\n",
    "$$\n",
    "y =  f_2 \\! \\left(\\, f_1 \\! \\left(\\vec{x} \\, \\mathbf{W_1}\\right) \\mathbf{W_2} \\right)\n",
    "$$"
   ]
  },
  {
   "cell_type": "code",
   "execution_count": 9,
   "metadata": {},
   "outputs": [],
   "source": [
    "### Generowanie danych\n",
    "torch.manual_seed(7) # Ustaw ziarno\n",
    "\n",
    "# Wylosowanie wektora 3 cech\n",
    "features = torch.randn((1, 3))\n",
    "\n",
    "# Określenie rozmiaru każdej warstwy w naszej sieci \n",
    "n_input = features.shape[1]     # Ilość neuronów wejściowych, musi być zgodna z wielkością wektora wejściowego\n",
    "n_hidden = 2                    # Ilość neuronów ukrytych\n",
    "n_output = 1                    # Ilośc neuronów wyjściowych\n",
    "\n",
    "# Wagi dla sygnałów przechodzących z wejścia do ukrytej warstwy \n",
    "W1 = torch.randn(n_input, n_hidden)\n",
    "# Wagi dla sygnałów przechodzących z warstwy ukrytej do warstwy wyjściowej \n",
    "W2 = torch.randn(n_hidden, n_output)\n",
    "\n",
    "# i bias dla warstwy ukrytej i wyjściowej \n",
    "B1 = torch.randn((1, n_hidden))\n",
    "B2 = torch.randn((1, n_output))"
   ]
  },
  {
   "cell_type": "markdown",
   "metadata": {},
   "source": [
    "> **Ćwiczenie:** Oblicz wynik dla tej sieci wielowarstwowej wykorzystując wagi  `W1` & `W2` i biasów, `B1` & `B2`. "
   ]
  },
  {
   "cell_type": "code",
   "execution_count": 10,
   "metadata": {},
   "outputs": [
    {
     "data": {
      "text/plain": [
       "tensor([[0.3171]])"
      ]
     },
     "execution_count": 10,
     "metadata": {},
     "output_type": "execute_result"
    }
   ],
   "source": [
    "## Miejsce na rozwiązanie\n",
    "Whx = activation(torch.mm(features, W1) + B1)\n",
    "Why = activation(torch.mm(Whx, W2) + B2)\n",
    "\n",
    "Why"
   ]
  },
  {
   "cell_type": "markdown",
   "metadata": {},
   "source": [
    "Poprawny wynik wynosi  `tensor([[ 0.3171]])`.\n",
    "\n",
    "Liczba jednostek ukrytych to parametr sieci, często nazywany **hiperparametrem** w celu odróżnienia go od parametrów wag i odchyleń. Jak zobaczysz później, gdy będziemy omawiać uczenie sieci neuronowej, im więcej ukrytych jednostek ma sieć i im więcej warstw, tym lepiej jest w stanie uczyć się na podstawie danych i dokonywać dokładnych prognoz. "
   ]
  },
  {
   "cell_type": "markdown",
   "metadata": {},
   "source": [
    "## Numpy do Torch i z powrotem\n",
    "\n",
    "PyTorch ma świetną funkcję do konwersji między tablicami Numpy i tensorami Torch. Aby utworzyć tensor z tablicy Numpy, użyj `torch.from_numpy()`. Aby przekonwertować tensor na tablicę Numpy, użyj metody `.numpy()`. "
   ]
  },
  {
   "cell_type": "code",
   "execution_count": 11,
   "metadata": {},
   "outputs": [
    {
     "data": {
      "text/plain": [
       "array([[0.94830006, 0.04281766, 0.39272678],\n",
       "       [0.73669471, 0.39496956, 0.21414976],\n",
       "       [0.31792966, 0.58949968, 0.86949089],\n",
       "       [0.28563749, 0.09882535, 0.29148487]])"
      ]
     },
     "execution_count": 11,
     "metadata": {},
     "output_type": "execute_result"
    }
   ],
   "source": [
    "import numpy as np\n",
    "a = np.random.rand(4,3)\n",
    "a"
   ]
  },
  {
   "cell_type": "code",
   "execution_count": 12,
   "metadata": {},
   "outputs": [
    {
     "data": {
      "text/plain": [
       "tensor([[0.9483, 0.0428, 0.3927],\n",
       "        [0.7367, 0.3950, 0.2141],\n",
       "        [0.3179, 0.5895, 0.8695],\n",
       "        [0.2856, 0.0988, 0.2915]], dtype=torch.float64)"
      ]
     },
     "execution_count": 12,
     "metadata": {},
     "output_type": "execute_result"
    }
   ],
   "source": [
    "b = torch.from_numpy(a)\n",
    "b"
   ]
  },
  {
   "cell_type": "code",
   "execution_count": 13,
   "metadata": {},
   "outputs": [
    {
     "data": {
      "text/plain": [
       "array([[0.94830006, 0.04281766, 0.39272678],\n",
       "       [0.73669471, 0.39496956, 0.21414976],\n",
       "       [0.31792966, 0.58949968, 0.86949089],\n",
       "       [0.28563749, 0.09882535, 0.29148487]])"
      ]
     },
     "execution_count": 13,
     "metadata": {},
     "output_type": "execute_result"
    }
   ],
   "source": [
    "b.numpy()"
   ]
  },
  {
   "cell_type": "markdown",
   "metadata": {},
   "source": [
    "Pamięć jest dzielona między tablicę Numpy i tensor Torch, więc jeśli zmienisz wartości w miejscu jednego obiektu, drugi również się zmieni. "
   ]
  },
  {
   "cell_type": "code",
   "execution_count": 14,
   "metadata": {},
   "outputs": [
    {
     "data": {
      "text/plain": [
       "tensor([[1.8966, 0.0856, 0.7855],\n",
       "        [1.4734, 0.7899, 0.4283],\n",
       "        [0.6359, 1.1790, 1.7390],\n",
       "        [0.5713, 0.1977, 0.5830]], dtype=torch.float64)"
      ]
     },
     "execution_count": 14,
     "metadata": {},
     "output_type": "execute_result"
    }
   ],
   "source": [
    "# Pomnóż tensor PyTorch przez 2\n",
    "b.mul_(2)"
   ]
  },
  {
   "cell_type": "code",
   "execution_count": 15,
   "metadata": {},
   "outputs": [
    {
     "data": {
      "text/plain": [
       "array([[1.89660013, 0.08563532, 0.78545356],\n",
       "       [1.47338943, 0.78993911, 0.42829952],\n",
       "       [0.63585932, 1.17899936, 1.73898177],\n",
       "       [0.57127498, 0.1976507 , 0.58296974]])"
      ]
     },
     "execution_count": 15,
     "metadata": {},
     "output_type": "execute_result"
    }
   ],
   "source": [
    "# Tablica Numpy pasuje do nowych wartości Tensora \n",
    "a"
   ]
  },
  {
   "cell_type": "markdown",
   "metadata": {},
   "source": [
    "# Sieci neuronowe z PyTorch \n",
    "\n",
    "Sieci uczenia głębokiego są zwykle ogromne i składają się z dziesiątek lub setek warstw, stąd termin „głęboki”. Możesz zbudować jedną z tych głębokich sieci, używając tylko macierzy wag, tak jak to zrobiliśmy poprzednio, ale generalnie jest to bardzo kłopotliwe i trudne do zaimplementowania. PyTorch posiada moduł `nn`, który zapewnia dobry sposób na wydajne budowanie dużych sieci neuronowych. "
   ]
  },
  {
   "cell_type": "code",
   "execution_count": 16,
   "metadata": {},
   "outputs": [],
   "source": [
    "# Import wymaganych pakietów\n",
    "\n",
    "%matplotlib inline\n",
    "%config InlineBackend.figure_format = 'retina'\n",
    "\n",
    "import numpy as np\n",
    "import torch\n",
    "\n",
    "import helper\n",
    "\n",
    "import matplotlib.pyplot as plt"
   ]
  },
  {
   "cell_type": "markdown",
   "metadata": {},
   "source": [
    "Teraz zbudujemy większą sieć, która może rozwiązać (wcześniej) trudny problem, identyfikując tekst na obrazie. Tutaj użyjemy zestawu danych MNIST, który składa się z odręcznych cyfr w skali szarości. Każdy obraz ma wymiary 28x28 pikseli. Poniżej przykładowa próbka danych\n",
    "\n",
    "<img src='assets/mnist.png'>\n",
    "\n",
    "Naszym celem jest zbudowanie sieci neuronowej, która może wziąć jeden z tych obrazów i przewidzieć cyfrę na nim zapisaną.\n",
    "\n",
    "Najpierw musimy pobrać nasz zestaw danych. Zapewnia to pakiet `torchvision`. Poniższy kod pobierze zestaw danych MNIST, a następnie utworzy dla nas zestawy danych treningowych i testowych. "
   ]
  },
  {
   "cell_type": "code",
   "execution_count": 3,
   "metadata": {},
   "outputs": [],
   "source": [
    "### Uruchom blok\n",
    "\n",
    "from torchvision import datasets, transforms\n",
    "\n",
    "# Zdefiniuj transformację, aby znormalizować dane \n",
    "transform = transforms.Compose([transforms.ToTensor(),\n",
    "                              transforms.Normalize((0.5,), (0.5,)),\n",
    "                              ])\n",
    "\n",
    "# Pobierz i załaduj dane treningowe \n",
    "trainset = datasets.MNIST('~/.pytorch/MNIST_data/', download=True, train=True, transform=transform)\n",
    "trainloader = torch.utils.data.DataLoader(trainset, batch_size=64, shuffle=True)"
   ]
  },
  {
   "cell_type": "markdown",
   "metadata": {},
   "source": [
    "Mamy dane treningowe załadowane do `trainloader` i robimy z niego iterator za pomocą `iter(trainloader)`. Później użyjemy tego, aby przejść przez zbiór danych do treningu, na przykład\n",
    "\n",
    "```python\n",
    "for image, label in trainloader:\n",
    "    ## rób rzeczy z obrazami i etykietami\n",
    "```\n",
    "\n",
    "Zauważysz, że stworzyliśmy `trainloader` z wielkością partii 64 i `shuffle=True`. Rozmiar partii/wsadu (batcha) to liczba obrazów, które otrzymujemy w jednej iteracji z modułu ładującego dane i przechodzimy przez naszą sieć. A `shuffle=True` mówi, aby tasował zestaw danych za każdym razem, gdy zaczynamy ponownie przechodzić przez program ładujący dane. Ale tutaj po prostu chwytam pierwszą partię, abyśmy mogli sprawdzić dane. Jak widać poniżej, `images` to tensor o rozmiarze `(64, 1, 28, 28)`. Tak więc 64 obrazy na partię, 1 kanał koloru i rozmiar obrazu 28x28. "
   ]
  },
  {
   "cell_type": "code",
   "execution_count": 4,
   "metadata": {},
   "outputs": [
    {
     "name": "stdout",
     "output_type": "stream",
     "text": [
      "<class 'torch.Tensor'>\n",
      "torch.Size([64, 1, 28, 28])\n",
      "torch.Size([64])\n"
     ]
    }
   ],
   "source": [
    "dataiter = iter(trainloader)\n",
    "images, labels = next(dataiter)\n",
    "print(type(images))\n",
    "print(images.shape)\n",
    "print(labels.shape)"
   ]
  },
  {
   "cell_type": "markdown",
   "metadata": {},
   "source": [
    "Tak wygląda jeden z obrazów. "
   ]
  },
  {
   "cell_type": "code",
   "execution_count": 19,
   "metadata": {},
   "outputs": [
    {
     "data": {
      "image/png": "[encoded data removed]",
      "text/plain": [
       "<Figure size 640x480 with 1 Axes>"
      ]
     },
     "metadata": {
      "image/png": {
       "height": 413,
       "width": 417
      }
     },
     "output_type": "display_data"
    }
   ],
   "source": [
    "plt.imshow(images[1].numpy().squeeze(), cmap='Greys_r');"
   ]
  },
  {
   "cell_type": "markdown",
   "metadata": {},
   "source": [
    "Najpierw spróbujmy zbudować prostą sieć dla tego zbioru danych, używając macierzy wag i mnożenia macierzy. Następnie zobaczymy, jak to zrobić za pomocą modułu `nn` PyTorch, który zapewnia znacznie wygodniejszą i wydajniejszą metodę definiowania architektur sieciowych.\n",
    "\n",
    "Sieci, które były prezentowane do tej pory, nazywają się *w pełni połączonymi* lub *gęstymi* sieciami. Każda jednostka w jednej warstwie jest połączona z każdą jednostką w następnej warstwie. W całkowicie połączonych sieciach dane wejściowe do każdej warstwy muszą być jednowymiarowym wektorem (który można ułożyć w tensor 2D jako partię wielu przykładów). Jednak nasze obrazy to 28x28 tensory 2D, więc musimy je przekonwertować na wektory 1D. Myśląc o rozmiarach, musimy przekonwertować partię obrazków o kształcie `(64, 1, 28, 28)` na kształt `(64, 784)`, 784 to 28 razy 28. Zwykle nazywa się to *flattening*, spłaszczyliśmy obrazy 2D do wektorów 1D.\n",
    "\n",
    "Wcześniej budowaliśmy sieć z jedną jednostką wyjściową. Tutaj potrzebujemy 10 jednostek wyjściowych, po jednej dla każdej cyfry. Chcemy, aby nasza sieć przewidziała cyfrę pokazaną na obrazku, więc obliczymy prawdopodobieństwa, że ​​obraz ma jedną cyfrę lub klasę. To kończy się dyskretnym rozkładem prawdopodobieństwa na klasy (cyfry), który mówi nam o najbardziej prawdopodobnej klasie obrazu. Oznacza to, że potrzebujemy 10 jednostek wyjściowych dla 10 klas (cyfr). Zobaczymy, jak przekonwertować wynik sieciowy na rozkład prawdopodobieństwa.\n",
    "\n",
    "> **Ćwiczenie:** spłaszcz partię obrazów „images”. Następnie zbuduj wielowarstwową sieć z 784 jednostkami wejściowymi, 256 jednostkami ukrytymi i 10 jednostkami wyjściowymi, używając losowych tensorów dla wag i obciążeń. Na razie użyj sigmoidalnej funkcji aktywacji dla ukrytej warstwy. Pozostaw warstwę wyjściową bez aktywacji, dodamy taką, która da nam rozkład prawdopodobieństwa."
   ]
  },
  {
   "cell_type": "code",
   "execution_count": 20,
   "metadata": {},
   "outputs": [
    {
     "data": {
      "text/plain": [
       "torch.Size([64, 10])"
      ]
     },
     "execution_count": 20,
     "metadata": {},
     "output_type": "execute_result"
    }
   ],
   "source": [
    "import torch.nn as nn\n",
    "## Twoje rozwiązanie\n",
    "def activation(x):\n",
    "    return 1/(1+torch.exp(-x))\n",
    "\n",
    "flatten = nn.Flatten()\n",
    "features = flatten(images)\n",
    "\n",
    "n_input = features.shape[1]     # Ilość neuronów wejściowych, musi być zgodna z wielkością wektora wejściowego\n",
    "n_hidden = 256                  # Ilość neuronów ukrytych\n",
    "n_output = 10                   # Ilośc neuronów wyjściowych\n",
    "\n",
    "W1 = torch.randn(n_input, n_hidden)\n",
    "W2 = torch.randn(n_hidden, n_output)\n",
    "\n",
    "B1 = torch.randn((1, n_hidden))\n",
    "B2 = torch.randn((1, n_output))\n",
    "    \n",
    "Whx = activation(torch.mm(features, W1) + B1)\n",
    "Why = activation(torch.mm(Whx, W2) + B2)\n",
    "\n",
    "Why.shape\n",
    "# wyjście Twojej sieci powinno mieć kształt  (64,10)"
   ]
  },
  {
   "cell_type": "markdown",
   "metadata": {},
   "source": [
    "Teraz mamy sieć z 10 wyjściami. Chcemy przekazać obraz do naszej sieci i uzyskać rozkład prawdopodobieństwa w klasach, który mówi nam o prawdopodobieństwie z jakim przypisalibyśmy obraz do danej klasy. Wyglądać to będzie tak:\n",
    "<img src='assets/image_distribution.png' width=500px>\n",
    "\n",
    "Widzimy, że prawdopodobieństwo dla każdej klasy jest mniej więcej takie samo. Reprezentuje to sieć niewytrenowaną, która nie widziała jeszcze żadnych danych, więc po prostu zwraca jednolitą dystrybucję z równymi prawdopodobieństwami dla każdej klasy.\n",
    "\n",
    "Aby obliczyć ten rozkład prawdopodobieństwa, często używamy [funkcji **softmax**](https://en.wikipedia.org/wiki/Softmax_function). Opisana jest ona następującym równaniem:\n",
    "\n",
    "$$\n",
    "\\Large \\sigma(x_i) = \\cfrac{e^{x_i}}{\\sum_k^K{e^{x_k}}}\n",
    "$$\n",
    "\n",
    "To, co robi, to skaluje każde wejście $x_i$ między 0 a 1 i normalizuje wartości, aby uzyskać właściwy rozkład prawdopodobieństwa, w którym prawdopodobieństwa sumują się do jednego.\n",
    "\n",
    "> **Ćwiczenie:** Zaimplementuj funkcję `softmax`, która wykonuje obliczenia softmax i zwraca rozkłady prawdopodobieństwa dla każdego przykładu w partii. Pamiętaj, że podczas wykonywania tej czynności musisz zwracać uwagę na kształty. Jeśli masz tensor `a` o kształcie `(64, 10)` i tensor `b` o kształcie `(64,)`, wykonanie `a/b` da ci błąd, ponieważ PyTorch spróbuje wykonać podział na kolumny (tzw. rozgłaszanie), ale otrzymasz niezgodność rozmiaru. Sposób myślenia o tym jest taki, że dla każdego z 64 przykładów chcesz podzielić tylko przez jedną wartość, sumę w mianowniku. Musisz więc `b` mieć w rozmiarze `(64, 1)`. W ten sposób PyTorch podzieli 10 wartości w każdym wierszu `a` przez jedną wartość w każdym wierszu `b`. Zwróć również uwagę na to, jaką bierzesz sumę. Musisz zdefiniować wymiar `dim` po którym sumujesz `torch.sum`. Ustawienie `dim=0` powoduje wyznaczenie sumy w wierszy, a `dim=1` kolumn."
   ]
  },
  {
   "cell_type": "code",
   "execution_count": 21,
   "metadata": {},
   "outputs": [
    {
     "data": {
      "text/plain": [
       "tensor([[12.4543],\n",
       "        [14.0399],\n",
       "        [15.6889],\n",
       "        [17.0876],\n",
       "        [15.7748],\n",
       "        [15.0760],\n",
       "        [15.5452],\n",
       "        [18.1084],\n",
       "        [14.5636],\n",
       "        [12.1056],\n",
       "        [13.4510],\n",
       "        [12.9508],\n",
       "        [18.2560],\n",
       "        [15.3718],\n",
       "        [16.9756],\n",
       "        [13.5189],\n",
       "        [13.9343],\n",
       "        [19.1256],\n",
       "        [15.1089],\n",
       "        [19.3441],\n",
       "        [17.5144],\n",
       "        [15.5068],\n",
       "        [15.7190],\n",
       "        [15.7923],\n",
       "        [14.6779],\n",
       "        [17.3039],\n",
       "        [16.8244],\n",
       "        [15.6675],\n",
       "        [13.3755],\n",
       "        [16.5081],\n",
       "        [15.1201],\n",
       "        [16.2007],\n",
       "        [18.4347],\n",
       "        [13.0772],\n",
       "        [13.3234],\n",
       "        [16.6217],\n",
       "        [20.0367],\n",
       "        [16.1778],\n",
       "        [15.7310],\n",
       "        [15.6055],\n",
       "        [17.0848],\n",
       "        [16.5489],\n",
       "        [14.1911],\n",
       "        [16.5382],\n",
       "        [15.0867],\n",
       "        [19.4835],\n",
       "        [13.9839],\n",
       "        [19.2850],\n",
       "        [16.1379],\n",
       "        [14.9589],\n",
       "        [17.6232],\n",
       "        [16.4617],\n",
       "        [15.5182],\n",
       "        [11.8178],\n",
       "        [17.1546],\n",
       "        [17.2751],\n",
       "        [19.5539],\n",
       "        [15.0171],\n",
       "        [13.5192],\n",
       "        [16.9420],\n",
       "        [13.9011],\n",
       "        [12.0290],\n",
       "        [14.7848],\n",
       "        [18.2771]])"
      ]
     },
     "execution_count": 21,
     "metadata": {},
     "output_type": "execute_result"
    }
   ],
   "source": [
    "torch.sum(torch.exp(Why), dim=1).view(64,1)"
   ]
  },
  {
   "cell_type": "code",
   "execution_count": 22,
   "metadata": {},
   "outputs": [
    {
     "name": "stdout",
     "output_type": "stream",
     "text": [
      "torch.Size([64, 10])\n",
      "tensor(1.0000)\n"
     ]
    }
   ],
   "source": [
    "def softmax(x):\n",
    "    ## TODO: Zaimplementuj funkcję softmax\n",
    "    return torch.exp(x)/torch.sum(torch.exp(x), dim=1).view(64,1)\n",
    "\n",
    "# W tym miejscu out to wyjście sieci z poprzedniego ćwiczenia o rozmiarze (64,10)\n",
    "probabilities = softmax(Why)\n",
    "\n",
    "# Sprawdźmy czy rozmiar jest właściwy. Powinien być (64, 10)\n",
    "print(probabilities.shape)\n",
    "# Czy prawdopodobieństwa sumują się do 1?\n",
    "print(torch.sum(probabilities[0]))"
   ]
  },
  {
   "cell_type": "code",
   "execution_count": 23,
   "metadata": {},
   "outputs": [
    {
     "name": "stdout",
     "output_type": "stream",
     "text": [
      "tensor([0.0803, 0.0803, 0.1385, 0.0803, 0.2119, 0.0833, 0.0803, 0.0805, 0.0803,\n",
      "        0.0843])\n"
     ]
    }
   ],
   "source": [
    "print(probabilities[0])"
   ]
  },
  {
   "cell_type": "markdown",
   "metadata": {},
   "source": [
    "## Budowanie sieci za pomocą PyTorch\n",
    "\n",
    "PyTorch dostarcza moduł `nn`, który znacznie upraszcza budowanie sieci. Tutaj pokażemy, jak zbudować taką samą architekturę, jak powyżej, z 784 wejściami, 256 ukrytymi jednostkami, 10 jednostkami wyjściowymi i wyjściem softmax. "
   ]
  },
  {
   "cell_type": "code",
   "execution_count": 24,
   "metadata": {},
   "outputs": [],
   "source": [
    "from torch import nn"
   ]
  },
  {
   "cell_type": "code",
   "execution_count": 25,
   "metadata": {},
   "outputs": [],
   "source": [
    "class Network(nn.Module):\n",
    "    def __init__(self):\n",
    "        super().__init__()\n",
    "        \n",
    "        # Dane wejściowe do transformacji liniowej warstwy ukrytej \n",
    "        self.hidden = nn.Linear(784, 256)\n",
    "        # Warstwa wyjściowa, 10 neuronów - jeden na każdą cyfrę \n",
    "        self.output = nn.Linear(256, 10)\n",
    "        \n",
    "        # Zdefiniuj aktywację sigmoidalną i wyjście softmax \n",
    "        self.sigmoid = nn.Sigmoid()\n",
    "        self.softmax = nn.Softmax(dim=1)\n",
    "        \n",
    "    def forward(self, x):\n",
    "        # Przekaż tensor wejściowy przez każdą z naszych operacji \n",
    "        x = self.hidden(x)\n",
    "        x = self.sigmoid(x)\n",
    "        x = self.output(x)\n",
    "        x = self.softmax(x)\n",
    "        \n",
    "        return x"
   ]
  },
  {
   "cell_type": "code",
   "execution_count": 26,
   "metadata": {},
   "outputs": [
    {
     "data": {
      "text/plain": [
       "Network(\n",
       "  (hidden): Linear(in_features=784, out_features=256, bias=True)\n",
       "  (output): Linear(in_features=256, out_features=10, bias=True)\n",
       "  (sigmoid): Sigmoid()\n",
       "  (softmax): Softmax(dim=1)\n",
       ")"
      ]
     },
     "execution_count": 26,
     "metadata": {},
     "output_type": "execute_result"
    }
   ],
   "source": [
    "# Utwórz sieć i spójrz na jej reprezentację tekstową \n",
    "model = Network()\n",
    "model"
   ]
  },
  {
   "cell_type": "markdown",
   "metadata": {},
   "source": [
    "Możesz zdefiniować sieć nieco bardziej zwięźle i przejrzyście za pomocą modułu `torch.nn.functional`. Jest to najczęstszy sposób, w jaki definiuje się sieci, ponieważ wiele operacji to proste funkcje oparte na podstawowych elementach. Normalnie importujemy ten moduł jako `F`, `import torch.nn.functional as F`. "
   ]
  },
  {
   "cell_type": "code",
   "execution_count": 27,
   "metadata": {},
   "outputs": [],
   "source": [
    "import torch.nn.functional as F\n",
    "\n",
    "class Network(nn.Module):\n",
    "    def __init__(self):\n",
    "        super().__init__()\n",
    "        # Dane wejściowe do transformacji liniowej warstwy ukrytej\n",
    "        self.hidden = nn.Linear(784, 256)\n",
    "        # Warstwa wyjściowa, 10 neuronów - jeden na każdą cyfrę\n",
    "        self.output = nn.Linear(256, 10)\n",
    "        \n",
    "    def forward(self, x):\n",
    "        # Warstwa ukryta z sigmoidalną funkcją aktywacji\n",
    "        x = F.sigmoid(self.hidden(x))\n",
    "        # Warstwa wyjściowa z funkcją aktywacji softmax\n",
    "        x = F.softmax(self.output(x), dim=1)\n",
    "        \n",
    "        return x"
   ]
  },
  {
   "cell_type": "markdown",
   "metadata": {},
   "source": [
    "### Funkcje aktywacji\n",
    "\n",
    "Do tej pory przyglądaliśmy się tylko sigmoidalnej funkcji aktywacji, ale ogólnie każda funkcja może być używana jako funkcja aktywacji. Jedynym wymaganiem jest to, że aby sieć mogła aproksymować funkcję nieliniową, funkcje aktywacji muszą być nieliniowe. Oto kilka innych przykładów typowych funkcji aktywacji: Tanh (tangens hiperboliczny) i ReLU (rektyfikowana jednostka liniowa).\n",
    "\n",
    "<img src=\"assets/activation.png\" width=700px>\n",
    "\n",
    "W praktyce funkcja ReLU jest wykorzystywana prawie wyłącznie jako funkcja aktywacji dla warstw ukrytych. "
   ]
  },
  {
   "cell_type": "markdown",
   "metadata": {},
   "source": [
    "### Twoja kolej na zbudowanie sieci\n",
    "\n",
    "<img src=\"assets/mlp_mnist.png\" width=600px>\n",
    "\n",
    "> **Ćwiczenie:** Utwórz sieć z 784 jednostkami wejściowymi, warstwą ukrytą z 128 jednostkami i aktywacją ReLU, następnie warstwę ukrytą z 64 jednostkami i aktywacją ReLU, a na koniec warstwę wyjściową z aktywacją softmax, jak pokazano powyżej. Możesz użyć aktywacji ReLU z modułem `nn.ReLU` lub funkcją `F.relu`.\n",
    "\n",
    "Dobrą praktyką jest nazywanie warstw według ich typu sieci, na przykład 'fc', aby reprezentować w pełni połączoną warstwę. Podczas kodowania rozwiązania użyj `fc1`, `fc2` i `fc3` jako nazw warstw. "
   ]
  },
  {
   "cell_type": "code",
   "execution_count": 28,
   "metadata": {},
   "outputs": [
    {
     "data": {
      "text/plain": [
       "Network(\n",
       "  (fc1): Linear(in_features=784, out_features=128, bias=True)\n",
       "  (fc2): Linear(in_features=128, out_features=64, bias=True)\n",
       "  (fc3): Linear(in_features=64, out_features=10, bias=True)\n",
       ")"
      ]
     },
     "execution_count": 28,
     "metadata": {},
     "output_type": "execute_result"
    }
   ],
   "source": [
    "## Miejsce na rozwiązanie\n",
    "import torch.nn.functional as F\n",
    "\n",
    "class Network(nn.Module):\n",
    "    def __init__(self):\n",
    "        super().__init__()\n",
    "        self.fc1 = nn.Linear(784, 128)\n",
    "        self.fc2 = nn.Linear(128, 64)\n",
    "        self.fc3 = nn.Linear(64, 10)\n",
    "        \n",
    "    def forward(self, x):\n",
    "        x = F.relu(self.fc1(x))\n",
    "        x = F.relu(self.fc2(x))\n",
    "        x = F.softmax(self.fc3(x), dim=1)\n",
    "        \n",
    "        return x\n",
    "\n",
    "model = Network()\n",
    "model"
   ]
  },
  {
   "cell_type": "markdown",
   "metadata": {},
   "source": [
    "### Inicjowanie wag i odchyleń\n",
    "\n",
    "Wagi i tym podobne są automatycznie inicjowane, ale można dostosować sposób ich inicjowania. Wagi i obciążenia to tensory dołączone do zdefiniowanej warstwy, można je uzyskać na przykład za pomocą `model.fc1.weight`. "
   ]
  },
  {
   "cell_type": "code",
   "execution_count": 29,
   "metadata": {},
   "outputs": [
    {
     "name": "stdout",
     "output_type": "stream",
     "text": [
      "Parameter containing:\n",
      "tensor([[ 0.0303,  0.0047, -0.0060,  ...,  0.0235,  0.0012, -0.0335],\n",
      "        [ 0.0141,  0.0220,  0.0141,  ..., -0.0081,  0.0335, -0.0211],\n",
      "        [-0.0301, -0.0065,  0.0150,  ...,  0.0091, -0.0224, -0.0060],\n",
      "        ...,\n",
      "        [ 0.0126,  0.0191,  0.0257,  ..., -0.0219,  0.0255, -0.0272],\n",
      "        [ 0.0334, -0.0019, -0.0155,  ..., -0.0205,  0.0314, -0.0051],\n",
      "        [-0.0152,  0.0289,  0.0296,  ..., -0.0032,  0.0309,  0.0017]],\n",
      "       requires_grad=True)\n",
      "Parameter containing:\n",
      "tensor([ 0.0203, -0.0101,  0.0036, -0.0251, -0.0256, -0.0087,  0.0092, -0.0355,\n",
      "         0.0127, -0.0146, -0.0254, -0.0126, -0.0269,  0.0212,  0.0112, -0.0237,\n",
      "         0.0278,  0.0016, -0.0003,  0.0029, -0.0072,  0.0156,  0.0173, -0.0053,\n",
      "         0.0148,  0.0055,  0.0167, -0.0079,  0.0071,  0.0239,  0.0309,  0.0081,\n",
      "         0.0260,  0.0178, -0.0177,  0.0286, -0.0192,  0.0316, -0.0331, -0.0061,\n",
      "        -0.0203, -0.0219,  0.0069, -0.0191,  0.0133, -0.0211,  0.0017,  0.0135,\n",
      "        -0.0236, -0.0094,  0.0270,  0.0357, -0.0104,  0.0139,  0.0025, -0.0290,\n",
      "         0.0053, -0.0285,  0.0193, -0.0171,  0.0198,  0.0064,  0.0045,  0.0033,\n",
      "        -0.0205, -0.0122,  0.0348, -0.0299, -0.0246,  0.0097, -0.0101, -0.0285,\n",
      "         0.0185,  0.0236,  0.0244, -0.0269, -0.0338, -0.0353,  0.0282,  0.0088,\n",
      "        -0.0025, -0.0083, -0.0050,  0.0320, -0.0272, -0.0181,  0.0189,  0.0148,\n",
      "        -0.0171, -0.0174, -0.0209, -0.0208, -0.0314, -0.0042, -0.0348, -0.0181,\n",
      "         0.0190, -0.0095, -0.0222, -0.0178, -0.0203,  0.0185,  0.0187,  0.0090,\n",
      "        -0.0006,  0.0076,  0.0315,  0.0056, -0.0163, -0.0264,  0.0211,  0.0257,\n",
      "        -0.0102,  0.0162, -0.0246, -0.0264, -0.0353,  0.0094,  0.0132,  0.0222,\n",
      "         0.0061, -0.0267,  0.0225,  0.0054,  0.0100,  0.0295,  0.0133, -0.0244],\n",
      "       requires_grad=True)\n"
     ]
    }
   ],
   "source": [
    "print(model.fc1.weight)\n",
    "print(model.fc1.bias)"
   ]
  },
  {
   "cell_type": "markdown",
   "metadata": {},
   "source": [
    "W przypadku niestandardowej inicjalizacji chcemy zmodyfikować te tensory na miejscu. W rzeczywistości są to *Zmienne* autogradientu, więc musimy odzyskać rzeczywiste tensory za pomocą `model.fc1.weight.data`. Kiedy już mamy tensory, możemy wypełnić je zerami (dla błędów systematycznych) lub losowymi wartościami normalnymi. "
   ]
  },
  {
   "cell_type": "code",
   "execution_count": 30,
   "metadata": {},
   "outputs": [
    {
     "data": {
      "text/plain": [
       "tensor([0., 0., 0., 0., 0., 0., 0., 0., 0., 0., 0., 0., 0., 0., 0., 0., 0., 0., 0., 0., 0., 0., 0., 0.,\n",
       "        0., 0., 0., 0., 0., 0., 0., 0., 0., 0., 0., 0., 0., 0., 0., 0., 0., 0., 0., 0., 0., 0., 0., 0.,\n",
       "        0., 0., 0., 0., 0., 0., 0., 0., 0., 0., 0., 0., 0., 0., 0., 0., 0., 0., 0., 0., 0., 0., 0., 0.,\n",
       "        0., 0., 0., 0., 0., 0., 0., 0., 0., 0., 0., 0., 0., 0., 0., 0., 0., 0., 0., 0., 0., 0., 0., 0.,\n",
       "        0., 0., 0., 0., 0., 0., 0., 0., 0., 0., 0., 0., 0., 0., 0., 0., 0., 0., 0., 0., 0., 0., 0., 0.,\n",
       "        0., 0., 0., 0., 0., 0., 0., 0.])"
      ]
     },
     "execution_count": 30,
     "metadata": {},
     "output_type": "execute_result"
    }
   ],
   "source": [
    "# Ustawiamy biasy na zero\n",
    "model.fc1.bias.data.fill_(0)"
   ]
  },
  {
   "cell_type": "code",
   "execution_count": 31,
   "metadata": {},
   "outputs": [
    {
     "data": {
      "text/plain": [
       "tensor([[ 0.0044,  0.0075, -0.0091,  ..., -0.0029, -0.0191, -0.0109],\n",
       "        [-0.0039,  0.0115,  0.0018,  ...,  0.0032, -0.0116,  0.0238],\n",
       "        [ 0.0001, -0.0048, -0.0022,  ..., -0.0073,  0.0073, -0.0150],\n",
       "        ...,\n",
       "        [ 0.0003, -0.0006,  0.0089,  ..., -0.0065,  0.0105, -0.0093],\n",
       "        [ 0.0069, -0.0074,  0.0049,  ..., -0.0027,  0.0132,  0.0289],\n",
       "        [ 0.0017,  0.0128, -0.0048,  ..., -0.0103, -0.0042, -0.0028]])"
      ]
     },
     "execution_count": 31,
     "metadata": {},
     "output_type": "execute_result"
    }
   ],
   "source": [
    "# Losujemy wagi z rozkładu normalnego dla odchylenia standardowego = 0.01\n",
    "model.fc1.weight.data.normal_(std=0.01)"
   ]
  },
  {
   "cell_type": "markdown",
   "metadata": {},
   "source": [
    "### Propagacja w przodu\n",
    "\n",
    "Teraz, gdy mamy sieć, zobaczmy, co się dzieje, gdy przechodzimy przez nią obraz podanym na wejście. "
   ]
  },
  {
   "cell_type": "code",
   "execution_count": 32,
   "metadata": {},
   "outputs": [
    {
     "data": {
      "image/png": "[encoded data removed]",
      "text/plain": [
       "<Figure size 600x900 with 2 Axes>"
      ]
     },
     "metadata": {
      "image/png": {
       "height": 327,
       "width": 589
      }
     },
     "output_type": "display_data"
    }
   ],
   "source": [
    "# Zbież partię danych \n",
    "dataiter = iter(trainloader)\n",
    "images, labels = next(dataiter)\n",
    "\n",
    "# Zmień rozmiar obrazów na wektor 1D, nowy kształt to (rozmiar wsadu, kanały kolorów, piksele obrazu) \n",
    "images.resize_(64, 1, 784)\n",
    "# lub images.resize_(images.shape[0], 1, 784) aby automatycznie uzyskać rozmiar partii\n",
    "\n",
    "# Przekazywanie przez sieć \n",
    "img_idx = 0\n",
    "ps = model.forward(images[img_idx,:])\n",
    "\n",
    "img = images[img_idx]\n",
    "helper.view_classify(img.view(1, 28, 28), ps)"
   ]
  },
  {
   "cell_type": "markdown",
   "metadata": {},
   "source": [
    "Jak widać powyżej, nasza sieć w zasadzie nie ma pojęcia, co to za cyfra. To dlatego, że jeszcze tego nie trenowaliśmy, wszystkie ciężary są losowe!\n",
    "\n",
    "### Używanie `nn.Sequential`\n",
    "\n",
    "PyTorch zapewnia wygodny sposób budowania takich sieci, w których tensor jest przekazywany sekwencyjnie przez operacje `nn.Sequential` ([dokumentacja](https://pytorch.org/docs/master/nn.html#torch.nn.Sequential )). Używaj jej do zbudowania równoważnej sieci: "
   ]
  },
  {
   "cell_type": "code",
   "execution_count": 33,
   "metadata": {},
   "outputs": [
    {
     "name": "stdout",
     "output_type": "stream",
     "text": [
      "Sequential(\n",
      "  (0): Linear(in_features=784, out_features=128, bias=True)\n",
      "  (1): ReLU()\n",
      "  (2): Linear(in_features=128, out_features=64, bias=True)\n",
      "  (3): ReLU()\n",
      "  (4): Linear(in_features=64, out_features=10, bias=True)\n",
      "  (5): Softmax(dim=1)\n",
      ")\n"
     ]
    },
    {
     "data": {
      "image/png": "[encoded data removed]",
      "text/plain": [
       "<Figure size 600x900 with 2 Axes>"
      ]
     },
     "metadata": {
      "image/png": {
       "height": 327,
       "width": 589
      }
     },
     "output_type": "display_data"
    }
   ],
   "source": [
    "# Hiperparametery sieci\n",
    "input_size = 784\n",
    "hidden_sizes = [128, 64]\n",
    "output_size = 10\n",
    "\n",
    "# Buduj feed-forward network\n",
    "model = nn.Sequential(nn.Linear(input_size, hidden_sizes[0]),\n",
    "                      nn.ReLU(),\n",
    "                      nn.Linear(hidden_sizes[0], hidden_sizes[1]),\n",
    "                      nn.ReLU(),\n",
    "                      nn.Linear(hidden_sizes[1], output_size),\n",
    "                      nn.Softmax(dim=1))\n",
    "print(model)\n",
    "\n",
    "# Przekazywanie dalej przez sieć i wyświetlanie danych wyjściowych \n",
    "images, labels = next(iter(trainloader))\n",
    "images.resize_(images.shape[0], 1, 784)\n",
    "ps = model.forward(images[0,:])\n",
    "helper.view_classify(images[0].view(1, 28, 28), ps)"
   ]
  },
  {
   "cell_type": "markdown",
   "metadata": {},
   "source": [
    "Tutaj nasz model jest taki sam jak poprzednio: 784 jednostki wejściowe, warstwa ukryta z 128 jednostkami, aktywacja ReLU, ukryta warstwa 64 jednostek, kolejne ReLU, następnie warstwa wyjściowa z 10 jednostkami i wyjście softmax.\n",
    "\n",
    "Operacje są dostępne po przekazaniu odpowiedniego indeksu. Na przykład, jeśli chcesz uzyskać pierwszą operację liniową i spojrzeć na wagi, użyjesz `model[0]`. "
   ]
  },
  {
   "cell_type": "code",
   "execution_count": 34,
   "metadata": {},
   "outputs": [
    {
     "name": "stdout",
     "output_type": "stream",
     "text": [
      "Linear(in_features=784, out_features=128, bias=True)\n"
     ]
    },
    {
     "data": {
      "text/plain": [
       "Parameter containing:\n",
       "tensor([[ 0.0026,  0.0080,  0.0260,  ...,  0.0217,  0.0317, -0.0096],\n",
       "        [ 0.0108,  0.0118, -0.0082,  ...,  0.0040, -0.0005,  0.0038],\n",
       "        [ 0.0108, -0.0025,  0.0052,  ..., -0.0143,  0.0148,  0.0338],\n",
       "        ...,\n",
       "        [-0.0324, -0.0356,  0.0314,  ...,  0.0274, -0.0233, -0.0136],\n",
       "        [-0.0095,  0.0325,  0.0225,  ...,  0.0056,  0.0022,  0.0118],\n",
       "        [-0.0028,  0.0075,  0.0171,  ..., -0.0240, -0.0354,  0.0122]],\n",
       "       requires_grad=True)"
      ]
     },
     "execution_count": 34,
     "metadata": {},
     "output_type": "execute_result"
    }
   ],
   "source": [
    "print(model[0])\n",
    "model[0].weight"
   ]
  },
  {
   "cell_type": "markdown",
   "metadata": {},
   "source": [
    "Możesz również przekazać `OrderedDict`, aby nazwać poszczególne warstwy i operacje, zamiast używać przyrostowych liczb całkowitych. Zauważ, że klucze słownika muszą być unikalne, więc _każda operacja musi mieć inną nazwę_. "
   ]
  },
  {
   "cell_type": "code",
   "execution_count": 35,
   "metadata": {},
   "outputs": [
    {
     "data": {
      "text/plain": [
       "Sequential(\n",
       "  (fc1): Linear(in_features=784, out_features=128, bias=True)\n",
       "  (relu1): ReLU()\n",
       "  (fc2): Linear(in_features=128, out_features=64, bias=True)\n",
       "  (relu2): ReLU()\n",
       "  (output): Linear(in_features=64, out_features=10, bias=True)\n",
       "  (softmax): Softmax(dim=1)\n",
       ")"
      ]
     },
     "execution_count": 35,
     "metadata": {},
     "output_type": "execute_result"
    }
   ],
   "source": [
    "from collections import OrderedDict\n",
    "model = nn.Sequential(OrderedDict([\n",
    "                      ('fc1', nn.Linear(input_size, hidden_sizes[0])),\n",
    "                      ('relu1', nn.ReLU()),\n",
    "                      ('fc2', nn.Linear(hidden_sizes[0], hidden_sizes[1])),\n",
    "                      ('relu2', nn.ReLU()),\n",
    "                      ('output', nn.Linear(hidden_sizes[1], output_size)),\n",
    "                      ('softmax', nn.Softmax(dim=1))]))\n",
    "model"
   ]
  },
  {
   "cell_type": "markdown",
   "metadata": {},
   "source": [
    "Teraz możesz uzyskać dostęp do warstw za pomocą liczby całkowitej lub nazwy "
   ]
  },
  {
   "cell_type": "code",
   "execution_count": 36,
   "metadata": {},
   "outputs": [
    {
     "name": "stdout",
     "output_type": "stream",
     "text": [
      "Linear(in_features=784, out_features=128, bias=True)\n",
      "Linear(in_features=784, out_features=128, bias=True)\n"
     ]
    }
   ],
   "source": [
    "print(model[0])\n",
    "print(model.fc1)"
   ]
  },
  {
   "cell_type": "markdown",
   "metadata": {},
   "source": [
    "# Trenowanie sieci neuronowej\n",
    "\n",
    "Sieć, którą zbudowaliśmy w poprzedniej części, nie jest tak sprytna, nie wie nic o naszych odręcznych cyfrach. Sieci neuronowe z nieliniowymi aktywacjami działają jak uniwersalne aproksymatory funkcji. Istnieje pewna funkcja, która mapuje dane wejściowe na dane wyjściowe. Na przykład obrazy odręcznych cyfr do prawdopodobieństw klas. Siła sieci neuronowych polega na tym, że możemy nauczyć je przybliżać tę funkcję i w zasadzie każdą funkcję, mając wystarczającą ilość danych i czasu obliczeniowego.\n",
    "\n",
    "<img src=\"assets/function_approx.png\" width=500px>\n",
    "\n",
    "Początkowo sieć jest naiwna, nie zna funkcji mapującej wejścia na wyjścia. Szkolimy sieć, pokazując jej przykłady z rzeczywistych danych, a następnie dostosowując parametry sieci tak, aby aproksymowała tę funkcję.\n",
    "\n",
    "Aby znaleźć te parametry, musimy wiedzieć, jak słabo sieć przewiduje rzeczywiste wyniki. W tym celu obliczamy **funkcję straty** (zwaną również kosztem), będącą miarą naszego błędu przewidywania. Na przykład średnia kwadratowa strata jest często używana w problemach regresji i klasyfikacji binarnej\n",
    "\n",
    "$$\n",
    "\\large \\ell = \\frac{1}{2n}\\sum_i^n{\\left(y_i - \\hat{y}_i\\right)^2},\n",
    "$$\n",
    "\n",
    "gdzie $n$ to liczba przykładów uczących, $y_i$ to etykiety prawdziwe, a $\\hat{y}_i$ to etykiety przewidywane.\n",
    "\n",
    "Minimalizując tę stratę w odniesieniu do parametrów sieci, możemy znaleźć konfiguracje, w których strata jest minimalna, a sieć jest w stanie przewidzieć prawidłowe etykiety z dużą dokładnością. Znajdujemy to minimum za pomocą procesu zwanego **spadkiem gradientu**. Gradient jest nachyleniem funkcji straty i wskazuje kierunek najszybszej zmiany. Aby w jak najkrótszym czasie dojść do minimum, chcemy podążać za gradientem (w dół). Można to potraktować jak zejście z góry, podążając po najbardziej stromym zboczu do podstawy.\n",
    "\n",
    "<img src='assets/gradient_descent.png' width=350px>"
   ]
  },
  {
   "cell_type": "markdown",
   "metadata": {},
   "source": [
    "## Propagacja wsteczna\n",
    "\n",
    "W przypadku sieci jednowarstwowych opadanie gradientowe jest proste do zaimplementowania. Jednak jest to bardziej skomplikowane w przypadku głębszych, wielowarstwowych sieci neuronowych, takich jak ta, którą zbudowaliśmy. Na tyle skomplikowane, że zanim naukowcy odkryli, jak trenować sieci wielowarstwowe, minęło około 30 lat.\n",
    "\n",
    "Uczenie sieci wielowarstwowych odbywa się poprzez **propagację wsteczną**, która w rzeczywistości jest tylko zastosowaniem reguły łańcucha z rachunku różniczkowego. Najłatwiej to zrozumieć, jeśli przekształcimy sieć dwuwarstwową w reprezentację graficzną.\n",
    "\n",
    "<img src='assets/backprop_diagram.png' width=550px>\n",
    "\n",
    "W przypadku przesyłania dalej przez sieć nasze dane i operacje przechodzą tutaj od dołu do góry. Przekazujemy dane wejściowe $x$ przez transformację liniową $L_1$ z wagami $W_1$ i obciążeniami $b_1$. Wyjście przechodzi następnie przez operację sigmoidalną $S$ i kolejną transformację liniową $L_2$. Na koniec obliczamy stratę $\\ell$. Stratę wykorzystujemy jako miarę tego, jak złe są prognozy sieci. Celem jest zatem takie dostosowanie wag i odchyleń, aby zminimalizować straty.\n",
    "\n",
    "Aby trenować wagi ze spadkiem gradientu, propagujemy gradient straty wstecz przez sieć. Każda operacja ma pewien gradient między wejściami i wyjściami. Gdy wysyłamy gradienty wstecz, mnożymy przychodzący gradient przez gradient dla operacji. Matematycznie jest to po prostu obliczenie gradientu straty w odniesieniu do wag przy użyciu reguły łańcucha.\n",
    "\n",
    "$$\n",
    "\\large \\frac{\\partial \\ell}{\\partial W_1} = \\frac{\\partial L_1}{\\partial W_1} \\frac{\\partial S}{\\partial L_1} \\frac{\\partial L_2}{\\partial S} \\frac{\\partial \\ell}{\\partial L_2}\n",
    "$$\n",
    "\n",
    "**Uwaga:** pomijam tutaj kilka szczegółów, które wymagają znajomości rachunku wektorowego, ale po każdy student powienie go znać.\n",
    "\n",
    "Aktualizujemy nasze wagi za pomocą tego gradientu z pewnym współczynnikiem uczenia się $\\alpha$.\n",
    "\n",
    "$$\n",
    "\\large W^\\prime_1 = W_1 - \\alpha \\frac{\\partial \\ell}{\\partial W_1}\n",
    "$$\n",
    "\n",
    "Szybkość uczenia $\\alpha$ jest ustawiona w taki sposób, że kroki aktualizacji wagi są na tyle małe, że metoda iteracyjna ustala się na minimum."
   ]
  },
  {
   "cell_type": "markdown",
   "metadata": {},
   "source": [
    "## Funkcje straty w PyTorch\n",
    "\n",
    "Zacznijmy od tego, jak obliczamy stratę za pomocą PyTorch. Poprzez moduł `nn` PyTorch zapewnia straty, takie jak strata entropii krzyżowej (`nn.CrossEntropyLoss`). Zwykle zobaczysz stratę przypisaną do „kryterium”. Jak wspomniano w ostatniej części, w przypadku problemu z klasyfikacją, takiego jak MNIST, używamy funkcji softmax do przewidywania prawdopodobieństw klas. Z softmax na wyjściu, chcemyz użyć entropii krzyżowej jako funkcji straty. Aby faktycznie obliczyć stratę, najpierw definiujemy kryterium, a następnie przekazujesz dane wyjściowe swojej sieci i prawidłowe etykiety.\n",
    "\n",
    "Coś naprawdę ważnego do odnotowania tutaj. Patrząc na [dokumentację dla `nn.CrossEntropyLoss`](https://pytorch.org/docs/stable/nn.html#torch.nn.CrossEntropyLoss),\n",
    "\n",
    "> To kryterium łączy `nn.LogSoftmax()` i `nn.NLLLoss()` w jednej klasie.\n",
    ">\n",
    "> Oczekuje się, że dane wejściowe będą zawierać wyniki dla każdej klasy.\n",
    "\n",
    "Oznacza to, że musimy przekazać do strat surowe dane wyjściowe naszej sieci, a nie dane wyjściowe funkcji softmax. Te nieprzetworzone dane wyjściowe są zwykle nazywane *logitami* lub *scores*. Używamy logitów, ponieważ softmax daje prawdopodobieństwa, które często będą bardzo bliskie zeru lub jednego, ale liczby zmiennoprzecinkowe nie mogą dokładnie reprezentować wartości bliskich zeru lub jednego ([czytaj więcej tutaj](https://docs.python.org /3/tutorial/floatingpoint.html)). Zwykle najlepiej jest unikać wykonywania obliczeń z prawdopodobieństwami, zwykle używamy prawdopodobieństw logarytmicznych. "
   ]
  },
  {
   "cell_type": "code",
   "execution_count": 12,
   "metadata": {},
   "outputs": [],
   "source": [
    "import torch\n",
    "from torch import nn\n",
    "import torch.nn.functional as F\n",
    "from torchvision import datasets, transforms\n",
    "\n",
    "# Zdefiniuj przekształcenia, aby znormalizować dane \n",
    "transform = transforms.Compose([transforms.ToTensor(),\n",
    "                                transforms.Normalize((0.5), (0.5)),\n",
    "                              ])\n",
    "# Pobierz i załaduj dane treningowe\n",
    "trainset = datasets.MNIST('~/.pytorch/MNIST_data/', download=True, train=True, transform=transform)\n",
    "trainloader = torch.utils.data.DataLoader(trainset, batch_size=64, shuffle=True)"
   ]
  },
  {
   "cell_type": "code",
   "execution_count": 13,
   "metadata": {},
   "outputs": [
    {
     "name": "stdout",
     "output_type": "stream",
     "text": [
      "tensor(2.2954, grad_fn=<NllLossBackward0>)\n"
     ]
    }
   ],
   "source": [
    "# Budowa struktury sieć feed-forward \n",
    "model = nn.Sequential(nn.Linear(784, 128),\n",
    "                      nn.ReLU(),\n",
    "                      nn.Linear(128, 64),\n",
    "                      nn.ReLU(),\n",
    "                      nn.Linear(64, 10))\n",
    "\n",
    "# Definicja funkcji straty\n",
    "criterion = nn.CrossEntropyLoss()\n",
    "\n",
    "# Pobranie danych\n",
    "images, labels = next(iter(trainloader))\n",
    "# Spłaszczenie obrazów\n",
    "images = images.view(images.shape[0], -1)\n",
    "\n",
    "# Przejście przez sieć \n",
    "logits = model(images)\n",
    "# Wyznaczenie błędu predykcji\n",
    "loss = criterion(logits, labels)\n",
    "\n",
    "print(loss)"
   ]
  },
  {
   "cell_type": "markdown",
   "metadata": {},
   "source": [
    "Wygodniej jest zbudować model z wyjściem log-softmax za pomocą `nn.LogSoftmax` lub `F.log_softmax` ([dokumentacja](https://pytorch.org/docs/stable/generated/torch.nn.Softmax.html#torch.nn.Softmax)). Następnie możesz uzyskać rzeczywiste prawdopodobieństwa, biorąc funkcję wykładniczą `torch.exp(output)`. W przypadku danych wyjściowych log-softmax chcemy z reguły używać ujemnej straty logarytmowanego prawdopodobieństwa, `nn.NLLLoss` ([dokumentacja](https://pytorch.org/docs/stable/generated/torch.nn.NLLLoss.html#torch.nn.NLLLoss)) .\n",
    "\n",
    ">**Ćwiczenie:** Zbuduj model, który jako wynik zwraca log-softmax i oblicz stratę przy użyciu ujemnego logarytmu strat prawdopodobieństwa. Zauważ, że dla `nn.LogSoftmax` i `F.log_softmax` musisz odpowiednio ustawić argument słowa kluczowego `dim`. `dim=0` oblicza softmax w wierszach, więc każda kolumna sumuje się do 1, podczas gdy `dim=1` oblicza w kolumnach, więc każdy wiersz sumuje się do 1. Zastanów się, jaki ma być wynik i wybierz odpowiednio `dim` . "
   ]
  },
  {
   "cell_type": "code",
   "execution_count": 18,
   "metadata": {},
   "outputs": [
    {
     "name": "stdout",
     "output_type": "stream",
     "text": [
      "tensor(-0.0987, grad_fn=<NllLossBackward0>)\n"
     ]
    }
   ],
   "source": [
    "# TODO: Zbuduj sieć feed-forward \n",
    "model = nn.Sequential(nn.Linear(784, 128),\n",
    "                      nn.ReLU(),\n",
    "                      nn.Linear(128, 64),\n",
    "                      nn.ReLU(),\n",
    "                      nn.Linear(64,10),\n",
    "                      nn.Softmax(dim=1))\n",
    "\n",
    "# TODO: Zdefiniuj stratę \n",
    "criterion = nn.NLLLoss()\n",
    "\n",
    "### Uruchom, aby sprawdzić wyniki swojej pracy \n",
    "# Pobranie danych\n",
    "images, labels = next(iter(trainloader))\n",
    "# Spłaszczenie obrazów\n",
    "images = images.view(images.shape[0], -1)\n",
    "\n",
    "# Przejście przez sieć \n",
    "logits = model(images)\n",
    "# Wyznaczenie błędu predykcji\n",
    "loss = criterion(logits, labels)\n",
    "\n",
    "\n",
    "print(loss)"
   ]
  },
  {
   "cell_type": "markdown",
   "metadata": {},
   "source": [
    "## Autograd\n",
    "\n",
    "Skoro już wiemy, jak obliczyć stratę, w jaki sposób możemy jej użyć do wykonania wstecznej propagacji błędów? Torch dostarcza moduł `autograd` do automatycznego obliczania gradientów tensorów. Możemy go użyć do obliczenia gradientów wszystkich naszych parametrów w odniesieniu do straty. Autograd działa, śledząc operacje wykonywane na tensorach, a następnie przechodząc wstecz przez te operacje, obliczając po drodze gradienty. Aby upewnić się, że PyTorch śledzi operacje na tensorze i oblicza gradienty, musisz ustawić `requires_grad = True` na tensorze. Możesz to zrobić podczas tworzenia za pomocą słowa kluczowego `requires_grad` lub w dowolnym momencie za pomocą `x.requires_grad_(True)`.\n",
    "\n",
    "Możesz wyłączyć gradienty dla bloku kodu z zawartością `torch.no_grad()`:\n",
    "```python\n",
    "x = torch.zeros(1, requires_grad=True)\n",
    ">>> with torch.no_grad():\n",
    "...     y = x * 2\n",
    ">>> y.requires_grad\n",
    "False\n",
    "```\n",
    "\n",
    "Możesz także włączać i wyłączać gradienty za pomocą `torch.set_grad_enabled(True|False)`.\n",
    "\n",
    "Gradienty są obliczane w odniesieniu do pewnej zmiennej `z` za pomocą `z.backward()`. To wykonuje wsteczne przejście przez operacje, które stworzyły `z`. "
   ]
  },
  {
   "cell_type": "code",
   "execution_count": 19,
   "metadata": {},
   "outputs": [
    {
     "name": "stdout",
     "output_type": "stream",
     "text": [
      "tensor([[ 0.2771,  1.2729],\n",
      "        [-0.3430,  0.4110]], requires_grad=True)\n"
     ]
    }
   ],
   "source": [
    "x = torch.randn(2,2, requires_grad=True)\n",
    "print(x)"
   ]
  },
  {
   "cell_type": "code",
   "execution_count": 20,
   "metadata": {},
   "outputs": [
    {
     "name": "stdout",
     "output_type": "stream",
     "text": [
      "tensor([[0.0768, 1.6203],\n",
      "        [0.1176, 0.1689]], grad_fn=<PowBackward0>)\n"
     ]
    }
   ],
   "source": [
    "y = x**2\n",
    "print(y)"
   ]
  },
  {
   "cell_type": "markdown",
   "metadata": {},
   "source": [
    "Poniżej widzimy operację, która utworzyła `y`, operację mocy `PowBackward0`. "
   ]
  },
  {
   "cell_type": "code",
   "execution_count": 21,
   "metadata": {},
   "outputs": [
    {
     "name": "stdout",
     "output_type": "stream",
     "text": [
      "<PowBackward0 object at 0x7f4e91194be0>\n"
     ]
    }
   ],
   "source": [
    "## grad_fn pokazuje funkcję, która wygenerowała tą zmienną \n",
    "print(y.grad_fn)"
   ]
  },
  {
   "cell_type": "markdown",
   "metadata": {},
   "source": [
    "Moduł autogradu śledzi te operacje i wie, jak obliczyć gradient dla każdej z nich. W ten sposób jest w stanie obliczyć gradienty dla łańcucha operacji w odniesieniu do dowolnego tensora. Zredukujmy tensor `y` do wartości skalarnej, czyli średniej. "
   ]
  },
  {
   "cell_type": "code",
   "execution_count": 22,
   "metadata": {},
   "outputs": [
    {
     "name": "stdout",
     "output_type": "stream",
     "text": [
      "tensor(0.4959, grad_fn=<MeanBackward0>)\n"
     ]
    }
   ],
   "source": [
    "z = y.mean()\n",
    "print(z)"
   ]
  },
  {
   "cell_type": "markdown",
   "metadata": {},
   "source": [
    "Możesz sprawdzić gradienty dla `x` i `y`, ale obecnie są one puste. "
   ]
  },
  {
   "cell_type": "code",
   "execution_count": 23,
   "metadata": {},
   "outputs": [
    {
     "name": "stdout",
     "output_type": "stream",
     "text": [
      "None\n"
     ]
    }
   ],
   "source": [
    "print(x.grad)"
   ]
  },
  {
   "cell_type": "markdown",
   "metadata": {},
   "source": [
    "Aby obliczyć gradienty, musisz uruchomić metodę `.backward` na zmiennej, na przykład `z`. Spowoduje to obliczenie gradientu dla `z` w odniesieniu do `x`\n",
    "\n",
    "$$\n",
    "\\frac{\\partial z}{\\partial x} = \\frac{\\partial}{\\partial x}\\left[\\frac{1}{n}\\sum_i^n x_i^2\\right] = \\frac{x }{2}\n",
    "$$"
   ]
  },
  {
   "cell_type": "code",
   "execution_count": 24,
   "metadata": {},
   "outputs": [
    {
     "name": "stdout",
     "output_type": "stream",
     "text": [
      "tensor([[ 0.1386,  0.6365],\n",
      "        [-0.1715,  0.2055]])\n",
      "tensor([[ 0.1386,  0.6365],\n",
      "        [-0.1715,  0.2055]], grad_fn=<DivBackward0>)\n"
     ]
    }
   ],
   "source": [
    "z.backward()\n",
    "print(x.grad)\n",
    "print(x/2)"
   ]
  },
  {
   "cell_type": "markdown",
   "metadata": {},
   "source": [
    "Te obliczenia gradientów są szczególnie przydatne w przypadku sieci neuronowych. Do treningu potrzebujemy gradientów kosztów w odniesieniu do wag. Dzięki PyTorch przesyłamy dane do przodu przez sieć, aby obliczyć straty, a następnie cofamy się, aby obliczyć gradienty w odniesieniu do strat. Gdy mamy już gradienty, możemy wykonać krok w dół gradientu. "
   ]
  },
  {
   "cell_type": "markdown",
   "metadata": {},
   "source": [
    "## Strata i Autograd razem\n",
    "\n",
    "Kiedy tworzymy sieć za pomocą PyTorch, wszystkie parametry są inicjowane za pomocą `requires_grad = True`. Oznacza to, że kiedy obliczamy stratę i wywołujemy `loss.backward()`, obliczane są gradienty parametrów. Te gradienty są używane do aktualizacji wag za pomocą spadku gradientu. Poniżej możesz zobaczyć przykład obliczania gradientów za pomocą przejścia do tyłu."
   ]
  },
  {
   "cell_type": "code",
   "execution_count": 25,
   "metadata": {},
   "outputs": [],
   "source": [
    "# Budowanie sieci typu feed-forward\n",
    "model = nn.Sequential(nn.Linear(784, 128),\n",
    "                      nn.ReLU(),\n",
    "                      nn.Linear(128, 64),\n",
    "                      nn.ReLU(),\n",
    "                      nn.Linear(64, 10),\n",
    "                      nn.LogSoftmax(dim=1))\n",
    "\n",
    "criterion = nn.NLLLoss()\n",
    "images, labels = next(iter(trainloader))\n",
    "images = images.view(images.shape[0], -1)\n",
    "\n",
    "logits = model(images)\n",
    "loss = criterion(logits, labels)"
   ]
  },
  {
   "cell_type": "code",
   "execution_count": 26,
   "metadata": {},
   "outputs": [
    {
     "name": "stdout",
     "output_type": "stream",
     "text": [
      "Przed przejściem do tyłu: \n",
      " None\n",
      "Po przejściem do tyłu: \n",
      " tensor([[-0.0010, -0.0010, -0.0010,  ..., -0.0010, -0.0010, -0.0010],\n",
      "        [ 0.0013,  0.0013,  0.0013,  ...,  0.0013,  0.0013,  0.0013],\n",
      "        [-0.0009, -0.0009, -0.0009,  ..., -0.0009, -0.0009, -0.0009],\n",
      "        ...,\n",
      "        [ 0.0020,  0.0020,  0.0020,  ...,  0.0020,  0.0020,  0.0020],\n",
      "        [ 0.0003,  0.0003,  0.0003,  ...,  0.0003,  0.0003,  0.0003],\n",
      "        [ 0.0011,  0.0011,  0.0011,  ...,  0.0011,  0.0011,  0.0011]])\n"
     ]
    }
   ],
   "source": [
    "print('Przed przejściem do tyłu: \\n', model[0].weight.grad)\n",
    "\n",
    "loss.backward()\n",
    "\n",
    "print('Po przejściem do tyłu: \\n', model[0].weight.grad)"
   ]
  },
  {
   "cell_type": "markdown",
   "metadata": {},
   "source": [
    "## Trenowanie sieci!\n",
    "\n",
    "Jest jeszcze ostatni element, którego potrzebujemy, aby rozpocząć trening, jest nim optymalizator, którego użyjemy do aktualizacji wag wraz z gradientami. Uzyskujemy je z [pakietu `optim`] (https://pytorch.org/docs/stable/optim.html) PyTorch. Na przykład możemy użyć gradientu stochastycznego z `optim.SGD`. Poniżej możesz zobaczyć, jak zdefiniować optymalizator. "
   ]
  },
  {
   "cell_type": "code",
   "execution_count": 27,
   "metadata": {},
   "outputs": [],
   "source": [
    "from torch import optim\n",
    "\n",
    "# Optymalizator wymaga podania parametrów modelu oraz współczynnika uczenia\n",
    "optimizer = optim.SGD(model.parameters(), lr=0.01)"
   ]
  },
  {
   "cell_type": "markdown",
   "metadata": {},
   "source": [
    "Teraz wiemy, jak korzystać ze wszystkich poszczególnych części, więc nadszedł czas, aby zobaczyć, jak ze sobą współpracują. Rozważmy tylko jeden krok uczenia się przed przejrzeniem wszystkich danych. Ogólny proces z PyTorch:\n",
    "\n",
    "* Wykonaj przejście do w przód sieci\n",
    "* Użyj danych wyjściowych, aby obliczyć straty\n",
    "* Wykonaj wsteczne przejście przez sieć za pomocą `loss.backward()`, aby obliczyć gradienty\n",
    "* Zrób krok z optymalizatorem, aby zaktualizować wagi\n",
    "\n",
    "Poniższy kod wykonuje jeden krok treningowy i wypisuje wagi oraz gradienty, po to by zobaczyć, jak się zmieniają. Zauważ, że mamy linijkę `optimizer.zero_grad()`. Kiedy wykonujemy wiele przejść wstecz z tymi samymi parametrami, gradienty są kumulowane. Oznacza to, że musisz wyzerować gradienty na każdym przejściu treningowym. W innym wypadku gradienty z poprzednich partii treningowych zostaną zachowane."
   ]
  },
  {
   "cell_type": "code",
   "execution_count": 28,
   "metadata": {},
   "outputs": [
    {
     "name": "stdout",
     "output_type": "stream",
     "text": [
      "Inicjacja wag -  Parameter containing:\n",
      "tensor([[ 2.4278e-02, -2.3785e-02,  9.2740e-03,  ..., -3.4949e-02,\n",
      "         -1.3039e-02,  2.8164e-02],\n",
      "        [ 5.5557e-03, -1.5828e-02,  2.4985e-02,  ...,  6.1103e-03,\n",
      "          2.7238e-02,  2.2511e-04],\n",
      "        [ 2.5185e-02,  3.0458e-02,  1.3974e-02,  ..., -3.3777e-02,\n",
      "         -5.7686e-03,  4.6649e-03],\n",
      "        ...,\n",
      "        [-1.0615e-02, -2.2955e-02,  1.4232e-02,  ...,  3.2308e-02,\n",
      "         -2.6906e-02, -1.1792e-02],\n",
      "        [-3.1567e-02,  2.9661e-02,  2.7743e-02,  ..., -7.1108e-03,\n",
      "          1.3121e-02,  1.9321e-02],\n",
      "        [ 1.3977e-02,  1.5875e-02, -9.6687e-05,  ...,  7.2223e-03,\n",
      "         -2.8970e-02,  1.0285e-02]], requires_grad=True)\n",
      "Gradient - tensor([[ 0.0012,  0.0012,  0.0012,  ...,  0.0012,  0.0012,  0.0012],\n",
      "        [ 0.0045,  0.0045,  0.0045,  ...,  0.0045,  0.0045,  0.0045],\n",
      "        [-0.0009, -0.0009, -0.0009,  ..., -0.0009, -0.0009, -0.0009],\n",
      "        ...,\n",
      "        [-0.0013, -0.0013, -0.0013,  ..., -0.0013, -0.0013, -0.0013],\n",
      "        [ 0.0025,  0.0025,  0.0025,  ...,  0.0025,  0.0025,  0.0025],\n",
      "        [-0.0009, -0.0009, -0.0009,  ..., -0.0009, -0.0009, -0.0009]])\n"
     ]
    }
   ],
   "source": [
    "print('Inicjacja wag - ', model[0].weight)\n",
    "\n",
    "images, labels = next(iter(trainloader))\n",
    "images.resize_(64, 784)\n",
    "\n",
    "# Wyczyść gradienty, zrób to, ponieważ gradienty się kumulują \n",
    "optimizer.zero_grad()\n",
    "\n",
    "# Przejście w przodu, następnie do tyłu i zaktualizacja wagi \n",
    "output = model(images)\n",
    "loss = criterion(output, labels)\n",
    "loss.backward()\n",
    "print('Gradient -', model[0].weight.grad)"
   ]
  },
  {
   "cell_type": "code",
   "execution_count": 29,
   "metadata": {},
   "outputs": [
    {
     "name": "stdout",
     "output_type": "stream",
     "text": [
      "Updated weights -  Parameter containing:\n",
      "tensor([[ 2.4266e-02, -2.3797e-02,  9.2615e-03,  ..., -3.4961e-02,\n",
      "         -1.3052e-02,  2.8152e-02],\n",
      "        [ 5.5106e-03, -1.5873e-02,  2.4940e-02,  ...,  6.0652e-03,\n",
      "          2.7193e-02,  1.7998e-04],\n",
      "        [ 2.5194e-02,  3.0467e-02,  1.3982e-02,  ..., -3.3768e-02,\n",
      "         -5.7599e-03,  4.6736e-03],\n",
      "        ...,\n",
      "        [-1.0602e-02, -2.2943e-02,  1.4244e-02,  ...,  3.2320e-02,\n",
      "         -2.6893e-02, -1.1779e-02],\n",
      "        [-3.1592e-02,  2.9636e-02,  2.7718e-02,  ..., -7.1361e-03,\n",
      "          1.3096e-02,  1.9296e-02],\n",
      "        [ 1.3986e-02,  1.5884e-02, -8.7754e-05,  ...,  7.2312e-03,\n",
      "         -2.8961e-02,  1.0294e-02]], requires_grad=True)\n"
     ]
    }
   ],
   "source": [
    "# Wykonaj krok aktualizacji i dodaj kilka nowych wag\n",
    "optimizer.step()\n",
    "print('Updated weights - ', model[0].weight)"
   ]
  },
  {
   "cell_type": "markdown",
   "metadata": {},
   "source": [
    "### Pełny trening\n",
    "\n",
    "Teraz umieścimy ten algorytm w pętli, dzięki czemu będziemy mogli przejrzeć wszystkie obrazy. Przejście przez cały zbiór danych nazywana jest *epoką*. Więc tutaj przejdziemy przez `trainloader`, aby uzyskać nasze partie treningowe. Dla każdej partii wykonamy przebieg treningowy, w którym obliczymy stratę, wykonamy przejście wstecz i zaktualizujemy wagi.\n",
    "\n",
    ">**Ćwiczenie:** Implementuj szkolenie naszej sieci. Przy poprawnej implementacji, powinieneś zaobserwować spadek strat treningowych z każdą epoką. "
   ]
  },
  {
   "cell_type": "code",
   "execution_count": 31,
   "metadata": {},
   "outputs": [
    {
     "name": "stdout",
     "output_type": "stream",
     "text": [
      "Training loss: 1.897002504324354\n",
      "Training loss: 0.8682981986544533\n",
      "Training loss: 0.5352280606656695\n",
      "Training loss: 0.4357164472595715\n",
      "Training loss: 0.38963346567743623\n"
     ]
    }
   ],
   "source": [
    "## Miejsce na rozwiązanie\n",
    "\n",
    "model = nn.Sequential(nn.Linear(784, 128),\n",
    "                      nn.ReLU(),\n",
    "                      nn.Linear(128, 64),\n",
    "                      nn.ReLU(),\n",
    "                      nn.Linear(64, 10),\n",
    "                      nn.LogSoftmax(dim=1))\n",
    "\n",
    "criterion = nn.NLLLoss()\n",
    "optimizer = optim.SGD(model.parameters(), lr=0.003)\n",
    "\n",
    "epochs = 5\n",
    "for e in range(epochs):\n",
    "    running_loss = 0\n",
    "    for images, labels in trainloader:\n",
    "        # Spłaszcz obrazy MNIST do wektora o długości 784 \n",
    "        images = images.view(images.shape[0], -1)\n",
    "    \n",
    "        optimizer.zero_grad()\n",
    "        output = model(images)\n",
    "        \n",
    "        loss = criterion(output, labels)\n",
    "        loss.backward()\n",
    "        optimizer.step()\n",
    "        \n",
    "        running_loss += loss.item()\n",
    "    else:\n",
    "        print(f\"Training loss: {running_loss/len(trainloader)}\")"
   ]
  },
  {
   "cell_type": "markdown",
   "metadata": {},
   "source": [
    "Po wytrenowaniu sieci możemy sprawdzić jej prognozy. "
   ]
  },
  {
   "cell_type": "code",
   "execution_count": 35,
   "metadata": {},
   "outputs": [
    {
     "data": {
      "image/png": "[encoded data removed]",
      "text/plain": [
       "<Figure size 600x900 with 2 Axes>"
      ]
     },
     "metadata": {},
     "output_type": "display_data"
    }
   ],
   "source": [
    "%matplotlib inline\n",
    "import helper\n",
    "\n",
    "images, labels = next(iter(trainloader))\n",
    "\n",
    "img = images[0].view(1, 784)\n",
    "# Wyłącz gradienty, aby przyspieszyć tę część \n",
    "with torch.no_grad():\n",
    "    logps = model(img)\n",
    "\n",
    "# Dane wyjściowe sieci to logarytmiczne prawdopodobieństwa,\n",
    "# Prawdopodobieństw należy wyznaczyć przy pomocy funkcji wykładniczej  \n",
    "ps = torch.exp(logps)\n",
    "helper.view_classify(img.view(1, 28, 28), ps)"
   ]
  },
  {
   "cell_type": "markdown",
   "metadata": {},
   "source": [
    "Teraz nasza sieć potrafi dokładnie przewidzieć cyfry na naszych obrazach. Na kolejnych zajęciach napiszemy kod do trenowania sieci neuronowej na bardziej złożonym zbiorze danych. "
   ]
  }
 ],
 "metadata": {
  "kernelspec": {
   "display_name": "Python 3 (ipykernel)",
   "language": "python",
   "name": "python3"
  },
  "language_info": {
   "codemirror_mode": {
    "name": "ipython",
    "version": 3
   },
   "file_extension": ".py",
   "mimetype": "text/x-python",
   "name": "python",
   "nbconvert_exporter": "python",
   "pygments_lexer": "ipython3",
   "version": "3.10.12"
  }
 },
 "nbformat": 4,
 "nbformat_minor": 4
}
