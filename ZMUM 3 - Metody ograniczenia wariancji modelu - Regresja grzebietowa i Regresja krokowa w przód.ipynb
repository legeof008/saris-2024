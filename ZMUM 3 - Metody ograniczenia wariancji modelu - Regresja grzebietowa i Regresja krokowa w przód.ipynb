{
 "cells": [
  {
   "cell_type": "markdown",
   "metadata": {},
   "source": [
    "\n",
    "## ZMUM 3\n",
    "\n",
    "# Metody ograniczenia wariancji modelu\n",
    "\n",
    "Poszukując modelu regresji czy klasyfikacji staramy się, by powstały estymator posiadał porządane statystycznie cechy: był zgodny, nieobciążony i najbardziej efektywny. W rzeczywistości trudno jest pogodzić dwie ostatnie własności. Przez brak obciążenia (ang. bias) rozumie się bowiem jak najlepsze dopasowanie do danych uczących. Przez największą efektywność rozumie się zwykle jak najmniejszy błąd estymacji dla zbioru testowego (każdego innego niż uczący) - najmniejszą wariancję modelu. Dla rzeczywistych zbiorów danych, na ogół, im mniejsze jest obciążenie, tym większa jest wariancja modelu i odwrotnie. Z uwagi jednak na fakt, iż celem dla którego powstaje model estymatora, jest jak najskuteczniejsze jego działanie dla nowych danych (innych niż uczące), przy tworzeniu modelu stosuje się metody, które kosztem zwiększenia obciążenia, zmniejszają wariancję modelu. W praktyce jest to osiągane przez poszukiwanie, w procesie uczenia,  modelu na tyle prostego by właściwie odwzorowywać trend, niekoniecznie idealnie dopasowującego się do danych zbioru uczącego.  \n",
    "\n",
    "Zwiększając liczbę cech modelu oraz tworząc nowe zmienne opisujące zwiększa się zwykle jego wariancja. Widać to wyraźnie w przypadku zastosowania regresji wielomianowej. Zwiększanie stopnia wielomianu opisującego trend naszych danych zwiększane zostają współczynniki stojące przy kolejnych potęgach, co pozwala na dokładne dopasowanie modelu do danych uczących, jednak kosztem zwiększenia jego wariancji. Mimo iż obciążenie modelu z punktu widzenia danych uczących spada do zera, to tracimy jego zdolności uogólnienia (błąd estymacji wartości na podstawie zbioru testowego rośnie), co oznacza przeuczenie/nadmierne dopasowanie (ang. overfitting) naszego modelu.\n",
    "\n",
    "Sposobem na redukcję stopnia przeuczenia/nadmiernego dopasowania modelu, a zatem ograniczenia jego wariancji, w przypadku regresji wielomianowej, są techniki regularyzacji. Generalnie mamy dwie możliwości działania:\n",
    "\n",
    "1. Redukujemy wpływ cech nieznaczących na model tj. pozostawiamy wszystkie cechy ale w modelu realny wpływ na wyjście mają jedynie cechy znaczące - działa jeśli mamy dużo cech, z których każda skorelowana jest z wyjściem (regularyzacja Tichonowa, regresja grzbietowa - ang. ridge regression).\n",
    "       \n",
    "2. Redukujemy liczbę cech na jeden z trzech sposobów:\n",
    "\n",
    "    a) selekcja manualna - używamy ważniejszych cech (w przypadku unormowanych wartości atrybutów opisujących będą to cechy, przy których wartość modułu współczynnika jest najwyższa)    \n",
    "    \n",
    "    b) używamy algorytmu do wyboru cech modelu (metoda zachłanna - analizujemy które cechy najlepiej minimalizują sumę kwadratu błędów)\n",
    "    \n",
    "    c) używamy metody regularyzacji eliminującej zbędne cechy (metoda lasso). "
   ]
  },
  {
   "cell_type": "markdown",
   "metadata": {},
   "source": [
    "Regresja grzebietowa (ang. Ridge) i Lasso to efektywne techniki zwykle stosowane do tworzenia oszczędnych modeli w obecności „dużej” liczby funkcji. Tutaj „duże” może zwykle oznaczać jedną z dwóch rzeczy:\n",
    "\n",
    "1. Wystarczająco duży, aby zwiększyć tendencję modelu do nadmiernego dopasowania (tak niskie, jak 10 zmiennych może powodować nadmierne dopasowanie)\n",
    "    \n",
    "2. Wystarczająco duży, aby powodować wyzwania obliczeniowe. W przypadku nowoczesnych systemów taka sytuacja może wystąpić w przypadku milionów lub miliardów cech.\n",
    "\n",
    "Chociaż metoda grzebietowa i Lasso mogą wydawać się bardzo do siebie  podobne, dzięki specyficznym własnościom ich praktyczne zastosowania różnią się znacznie. Działają one poprzez karanie wielkości współczynników cech oraz minimalizowanie błędu między przewidywanymi a rzeczywistymi obserwacjami. Kluczowa różnica polega na sposobie przypisywania kary do współczynników:\n",
    "\n",
    "* Regresja grzbietowa (ridge regression, regularyzacja Tichonowa):\n",
    "        Dokonuje normalizacji L2, tj. Dodaje karę równą kwadratowi wielkości współczynników\n",
    "        Cel minimalizacji = RSS + α * (suma kwadratów współczynników)\n",
    "* Regresja lasso:\n",
    "        Dokonuje normalizacji L1, tj. Dodaje karę równoważną wartości bezwzględnej wielkości współczynników\n",
    "        Cel minimalizacji = RSS + α * (suma wartości bezwzględnych współczynników)\n",
    "\n",
    "„RSS” odnosi się do „celu najmniejszych kwadratów”, tj. Celu regresji liniowej bez regularyzacji.\n",
    "\n",
    "**Celem tego laboratorium jest zapoznanie się z działaniem metod regularyzacji i dobru cech modelu**.\n"
   ]
  },
  {
   "cell_type": "markdown",
   "metadata": {},
   "source": [
    "Materiały pomocnicze, lekkie (wideo) wprowadzenia do :\n",
    "\n",
    "* [Ridge regression](https://www.youtube.com/watch?v=Q81RR3yKn30)\n",
    "* [Metody lasso](https://www.youtube.com/watch?v=NGf0voTMlcs)\n",
    "* [i połączenie obu (elastic net)](https://www.youtube.com/watch?v=1dKRdX9bfIo)"
   ]
  },
  {
   "cell_type": "markdown",
   "metadata": {},
   "source": [
    "Na początek - wczytanie bibliotek oraz wygenerowanie zbioru danych:"
   ]
  },
  {
   "cell_type": "code",
   "metadata": {
    "ExecuteTime": {
     "end_time": "2024-11-04T08:40:38.018204Z",
     "start_time": "2024-11-04T08:40:38.015843Z"
    }
   },
   "source": [
    "# Wczytaj bilbioteki podstawowe\n",
    "import math \n",
    "import matplotlib.pyplot as plt \n",
    "import pandas as pd\n",
    "import numpy as np"
   ],
   "outputs": [],
   "execution_count": 48
  },
  {
   "cell_type": "code",
   "metadata": {
    "ExecuteTime": {
     "end_time": "2024-11-04T08:40:38.032460Z",
     "start_time": "2024-11-04T08:40:38.030080Z"
    }
   },
   "source": [
    "# Wczytaj biblioteki potrzebne do zajęć\n",
    "from sklearn.linear_model import Ridge\n",
    "from sklearn.linear_model import LinearRegression\n",
    "from sklearn.datasets import make_regression\n",
    "from sklearn.model_selection import train_test_split\n",
    "from sklearn.model_selection import cross_val_score"
   ],
   "outputs": [],
   "execution_count": 49
  },
  {
   "cell_type": "code",
   "metadata": {
    "ExecuteTime": {
     "end_time": "2024-11-04T08:40:38.108863Z",
     "start_time": "2024-11-04T08:40:38.044921Z"
    }
   },
   "source": [
    "np.random.seed(5)\n",
    "x = 2 - 3 * np.random.normal(0, 0.5, 50)\n",
    "y = 30 + x - 8 * (x ** 2) - 0.5 * (x ** 3)+ 0.15 * (x ** 5)  + np.random.normal(-3, 5, 50)\n",
    "plt.scatter(x,y, s=10)\n",
    "plt.show()"
   ],
   "outputs": [
    {
     "data": {
      "text/plain": [
       "<Figure size 640x480 with 1 Axes>"
      ],
      "image/png": "[encoded data removed]"
     },
     "metadata": {},
     "output_type": "display_data"
    }
   ],
   "execution_count": 50
  },
  {
   "cell_type": "markdown",
   "metadata": {},
   "source": [
    "### Zadanie 1 - regresja grzbietowa (ridge regression)\n",
    "\n",
    "Zadanie polega na znalezieniu wielomianu $\\hat{f}(x)$ postaci:\n",
    "\n",
    "$$\\hat{f}(x)=\\omega_0+\\omega_1 x^1+\\omega_2x^2+ … +\\omega_n x^n,$$\n",
    "\n",
    "który mimo wysokiej złożoności modelu nie powoduje nadmiernego dopasowania do danych uczących poprzez zastosowanie regularyzacji L2.\n",
    "\n",
    "Chcemy by nasza funkcja kosztu J($\\omega$) miała postać:\n",
    "\n",
    "$$J_{ridge}(\\omega)=\\sum_{i=1}^{m}\\left(\\hat{f}(x_i)−y_i\\right)^2+\\lambda \\sum_{j=1}^n{\\omega^2_j},$$\n",
    "\n",
    "gdzie $i$ oznacza numer obserwacji, a $j$ kolejność współczynnika.\n",
    "\n",
    "Wtedy rozwiązanie naszego równania wyzaczającego współczynniki wygląda w następujący sposób:\n",
    "\n",
    "$$ \\omega=\\left(X^T X + \\lambda \\begin{bmatrix}\n",
    "0 & 0 & 0 & 0 \\\\ \n",
    "0 & 1 & 0 & 0 \\\\ \n",
    "0 & 0 & \\ddots & 0\\\\ \n",
    "0 & 0 & 0  & 1 \\\\ \n",
    "\\end{bmatrix}\\right) ^{-1} X^Ty $$\n",
    "\n",
    "**Należy pamiętać, że wyrazu wolnego nie poddajemy regularyzacji !**\n",
    "\n",
    "A zatem - do dzieła!!!"
   ]
  },
  {
   "metadata": {
    "ExecuteTime": {
     "end_time": "2024-11-04T08:40:38.130837Z",
     "start_time": "2024-11-04T08:40:38.127751Z"
    }
   },
   "cell_type": "code",
   "source": "x",
   "outputs": [
    {
     "data": {
      "text/plain": [
       "array([ 1.33815877e+00,  2.49630523e+00, -1.64615678e+00,  2.37813819e+00,\n",
       "        1.83558524e+00, -3.73721676e-01,  3.36384861e+00,  2.88745499e+00,\n",
       "        1.71859516e+00,  2.49480494e+00,  3.78914692e+00,  2.30731477e+00,\n",
       "        2.53824342e+00,  1.09479260e+00,  4.49718279e+00,  3.05026856e+00,\n",
       "        2.72913486e-01, -7.85996511e-01,  4.26676934e+00,  1.03272873e+00,\n",
       "        3.47091183e+00,  3.28527973e+00,  3.30781877e+00,  2.63376189e+00,\n",
       "        5.05340260e-01,  9.31368094e-01,  1.91128364e+00,  2.54496632e+00,\n",
       "        1.99506674e+00,  2.15889566e+00,  8.10420021e-01,  2.94735744e+00,\n",
       "        2.00929236e+00,  2.15160142e+00,  2.07846223e+00,  1.62617351e+00,\n",
       "        1.70350986e+00, -2.27286136e-03,  2.13031341e+00, -3.42298440e-01,\n",
       "        2.45877953e+00,  2.71659713e+00,  1.84889272e+00,  1.46684229e+00,\n",
       "        1.59558139e+00,  6.20549249e-02,  2.90985532e-01,  1.25833940e+00,\n",
       "        2.50450439e+00,  2.15092152e+00])"
      ]
     },
     "execution_count": 51,
     "metadata": {},
     "output_type": "execute_result"
    }
   ],
   "execution_count": 51
  },
  {
   "cell_type": "markdown",
   "metadata": {},
   "source": [
    "W ramach pierwszej części zadania należy napisać funkcję wyznaczającą współczynniki $\\omega$ wielomianowej funkcji regresji zgodnie z powyższym wzorem."
   ]
  },
  {
   "metadata": {
    "ExecuteTime": {
     "end_time": "2024-11-04T08:40:38.147258Z",
     "start_time": "2024-11-04T08:40:38.145084Z"
    }
   },
   "cell_type": "code",
   "source": [
    "def create_matrix(x, st):\n",
    "    X = np.ones((len(x),1))\n",
    "    for i in range(1,st+1):\n",
    "        X = np.c_[X, x**i]\n",
    "    return X"
   ],
   "outputs": [],
   "execution_count": 52
  },
  {
   "metadata": {
    "ExecuteTime": {
     "end_time": "2024-11-04T08:40:38.181316Z",
     "start_time": "2024-11-04T08:40:38.176445Z"
    }
   },
   "cell_type": "code",
   "source": "create_matrix(x,5)",
   "outputs": [
    {
     "data": {
      "text/plain": [
       "array([[ 1.00000000e+00,  1.33815877e+00,  1.79066889e+00,\n",
       "         2.39619928e+00,  3.20649508e+00,  4.29079952e+00],\n",
       "       [ 1.00000000e+00,  2.49630523e+00,  6.23153979e+00,\n",
       "         1.55558254e+01,  3.88320882e+01,  9.69367447e+01],\n",
       "       [ 1.00000000e+00, -1.64615678e+00,  2.70983215e+00,\n",
       "        -4.46080856e+00,  7.34319026e+00, -1.20880424e+01],\n",
       "       [ 1.00000000e+00,  2.37813819e+00,  5.65554127e+00,\n",
       "         1.34496587e+01,  3.19851471e+01,  7.60650999e+01],\n",
       "       [ 1.00000000e+00,  1.83558524e+00,  3.36937316e+00,\n",
       "         6.18477164e+00,  1.13526755e+01,  2.08388036e+01],\n",
       "       [ 1.00000000e+00, -3.73721676e-01,  1.39667891e-01,\n",
       "        -5.21969182e-02,  1.95071197e-02, -7.29023347e-03],\n",
       "       [ 1.00000000e+00,  3.36384861e+00,  1.13154775e+01,\n",
       "         3.80635531e+01,  1.28040030e+02,  4.30707277e+02],\n",
       "       [ 1.00000000e+00,  2.88745499e+00,  8.33739630e+00,\n",
       "         2.40738565e+01,  6.95121771e+01,  2.00713282e+02],\n",
       "       [ 1.00000000e+00,  1.71859516e+00,  2.95356933e+00,\n",
       "         5.07598996e+00,  8.72357178e+00,  1.49922882e+01],\n",
       "       [ 1.00000000e+00,  2.49480494e+00,  6.22405167e+00,\n",
       "         1.55277948e+01,  3.87388192e+01,  9.66457974e+01],\n",
       "       [ 1.00000000e+00,  3.78914692e+00,  1.43576344e+01,\n",
       "         5.44031860e+01,  2.06141665e+02,  7.81101054e+02],\n",
       "       [ 1.00000000e+00,  2.30731477e+00,  5.32370143e+00,\n",
       "         1.22834549e+01,  2.83417969e+01,  6.53934465e+01],\n",
       "       [ 1.00000000e+00,  2.53824342e+00,  6.44267966e+00,\n",
       "         1.63530893e+01,  4.15081212e+01,  1.05357716e+02],\n",
       "       [ 1.00000000e+00,  1.09479260e+00,  1.19857083e+00,\n",
       "         1.31218647e+00,  1.43657203e+00,  1.57274842e+00],\n",
       "       [ 1.00000000e+00,  4.49718279e+00,  2.02246531e+01,\n",
       "         9.09539619e+01,  4.09036592e+02,  1.83951233e+03],\n",
       "       [ 1.00000000e+00,  3.05026856e+00,  9.30413827e+00,\n",
       "         2.83801204e+01,  8.65669889e+01,  2.64052564e+02],\n",
       "       [ 1.00000000e+00,  2.72913486e-01,  7.44817707e-02,\n",
       "         2.03270797e-02,  5.54753417e-03,  1.51399689e-03],\n",
       "       [ 1.00000000e+00, -7.85996511e-01,  6.17790515e-01,\n",
       "        -4.85581189e-01,  3.81665121e-01, -2.99987453e-01],\n",
       "       [ 1.00000000e+00,  4.26676934e+00,  1.82053206e+01,\n",
       "         7.76779036e+01,  3.31433697e+02,  1.41415114e+03],\n",
       "       [ 1.00000000e+00,  1.03272873e+00,  1.06652864e+00,\n",
       "         1.10143477e+00,  1.13748333e+00,  1.17471172e+00],\n",
       "       [ 1.00000000e+00,  3.47091183e+00,  1.20472289e+01,\n",
       "         4.18148693e+01,  1.45135725e+02,  5.03753303e+02],\n",
       "       [ 1.00000000e+00,  3.28527973e+00,  1.07930629e+01,\n",
       "         3.54582309e+01,  1.16490207e+02,  3.82702917e+02],\n",
       "       [ 1.00000000e+00,  3.30781877e+00,  1.09416650e+01,\n",
       "         3.61930451e+01,  1.19720034e+02,  3.96012176e+02],\n",
       "       [ 1.00000000e+00,  2.63376189e+00,  6.93670171e+00,\n",
       "         1.82696206e+01,  4.81178307e+01,  1.26730909e+02],\n",
       "       [ 1.00000000e+00,  5.05340260e-01,  2.55368778e-01,\n",
       "         1.29048125e-01,  6.52132128e-02,  3.29548619e-02],\n",
       "       [ 1.00000000e+00,  9.31368094e-01,  8.67446526e-01,\n",
       "         8.07912017e-01,  7.52463475e-01,  7.00820473e-01],\n",
       "       [ 1.00000000e+00,  1.91128364e+00,  3.65300513e+00,\n",
       "         6.98192893e+00,  1.33444465e+01,  2.55050222e+01],\n",
       "       [ 1.00000000e+00,  2.54496632e+00,  6.47685356e+00,\n",
       "         1.64833742e+01,  4.19496320e+01,  1.06760401e+02],\n",
       "       [ 1.00000000e+00,  1.99506674e+00,  3.98029128e+00,\n",
       "         7.94094673e+00,  1.58427187e+01,  3.16072810e+01],\n",
       "       [ 1.00000000e+00,  2.15889566e+00,  4.66083048e+00,\n",
       "         1.00622467e+01,  2.17233408e+01,  4.68984262e+01],\n",
       "       [ 1.00000000e+00,  8.10420021e-01,  6.56780610e-01,\n",
       "         5.32268156e-01,  4.31360770e-01,  3.49583404e-01],\n",
       "       [ 1.00000000e+00,  2.94735744e+00,  8.68691591e+00,\n",
       "         2.56034463e+01,  7.54625080e+01,  2.22414985e+02],\n",
       "       [ 1.00000000e+00,  2.00929236e+00,  4.03725580e+00,\n",
       "         8.11202724e+00,  1.62994344e+01,  3.27503290e+01],\n",
       "       [ 1.00000000e+00,  2.15160142e+00,  4.62938866e+00,\n",
       "         9.96059921e+00,  2.14312394e+01,  4.61114850e+01],\n",
       "       [ 1.00000000e+00,  2.07846223e+00,  4.32000523e+00,\n",
       "         8.97896768e+00,  1.86624452e+01,  3.87891873e+01],\n",
       "       [ 1.00000000e+00,  1.62617351e+00,  2.64444029e+00,\n",
       "         4.30031876e+00,  6.99306446e+00,  1.13719362e+01],\n",
       "       [ 1.00000000e+00,  1.70350986e+00,  2.90194585e+00,\n",
       "         4.94349339e+00,  8.42128974e+00,  1.43457501e+01],\n",
       "       [ 1.00000000e+00, -2.27286136e-03,  5.16589877e-06,\n",
       "        -1.17413717e-08,  2.66865101e-11, -6.06547378e-14],\n",
       "       [ 1.00000000e+00,  2.13031341e+00,  4.53823522e+00,\n",
       "         9.66786335e+00,  2.05955789e+01,  4.38750380e+01],\n",
       "       [ 1.00000000e+00, -3.42298440e-01,  1.17168222e-01,\n",
       "        -4.01064997e-02,  1.37283923e-02, -4.69920726e-03],\n",
       "       [ 1.00000000e+00,  2.45877953e+00,  6.04559679e+00,\n",
       "         1.48647896e+01,  3.65492405e+01,  8.98665244e+01],\n",
       "       [ 1.00000000e+00,  2.71659713e+00,  7.37989994e+00,\n",
       "         2.00482150e+01,  5.44629232e+01,  1.47953821e+02],\n",
       "       [ 1.00000000e+00,  1.84889272e+00,  3.41840428e+00,\n",
       "         6.32026277e+00,  1.16854878e+01,  2.16052133e+01],\n",
       "       [ 1.00000000e+00,  1.46684229e+00,  2.15162631e+00,\n",
       "         3.15609646e+00,  4.62949577e+00,  6.79074018e+00],\n",
       "       [ 1.00000000e+00,  1.59558139e+00,  2.54587997e+00,\n",
       "         4.06215871e+00,  6.48150484e+00,  1.03417685e+01],\n",
       "       [ 1.00000000e+00,  6.20549249e-02,  3.85081371e-03,\n",
       "         2.38961955e-04,  1.48287662e-05,  9.20197973e-07],\n",
       "       [ 1.00000000e+00,  2.90985532e-01,  8.46725797e-02,\n",
       "         2.46384956e-02,  7.16944575e-03,  2.08620498e-03],\n",
       "       [ 1.00000000e+00,  1.25833940e+00,  1.58341805e+00,\n",
       "         1.99247733e+00,  2.50721273e+00,  3.15492457e+00],\n",
       "       [ 1.00000000e+00,  2.50450439e+00,  6.27254223e+00,\n",
       "         1.57096096e+01,  3.93447861e+01,  9.85391894e+01],\n",
       "       [ 1.00000000e+00,  2.15092152e+00,  4.62646338e+00,\n",
       "         9.95115965e+00,  2.14041634e+01,  4.60386757e+01]])"
      ]
     },
     "execution_count": 53,
     "metadata": {},
     "output_type": "execute_result"
    }
   ],
   "execution_count": 53
  },
  {
   "cell_type": "code",
   "metadata": {
    "ExecuteTime": {
     "end_time": "2024-11-04T08:40:38.220198Z",
     "start_time": "2024-11-04T08:40:38.217434Z"
    }
   },
   "source": [
    "def create_ones_matrix(X):\n",
    "    # Miejsce na kod\n",
    "    macierz_regularyzacji = np.eye(X.shape[1])\n",
    "    macierz_regularyzacji[0,0] = 0\n",
    "    return macierz_regularyzacji"
   ],
   "outputs": [],
   "execution_count": 54
  },
  {
   "cell_type": "code",
   "metadata": {
    "ExecuteTime": {
     "end_time": "2024-11-04T08:40:38.262871Z",
     "start_time": "2024-11-04T08:40:38.260211Z"
    }
   },
   "source": [
    "# Napisz funkcję dopasowującą model regresji wielomianowej z regularyzacją L2 \n",
    "# (wykorzystując rozwiązanie równania normalnego)\n",
    "def regresja_L2(x, y, lamb, stopien_wielomianu):\n",
    "    # Miejsce na kod\n",
    "    X = create_matrix(x,stopien_wielomianu)\n",
    "    macierz_reg = create_ones_matrix(X)\n",
    "    w = np.linalg.inv(X.T @ X + lamb * macierz_reg) @ X.T @ y\n",
    "    return w"
   ],
   "outputs": [],
   "execution_count": 55
  },
  {
   "cell_type": "markdown",
   "metadata": {},
   "source": [
    "Poprawne (lub nie) działanie powyższej funkcji należy sprawdzić rysując jej wykres na wykresie punktowym zbioru danych"
   ]
  },
  {
   "metadata": {
    "ExecuteTime": {
     "end_time": "2024-11-04T08:40:38.292028Z",
     "start_time": "2024-11-04T08:40:38.286644Z"
    }
   },
   "cell_type": "code",
   "source": [
    "# Rysowanie wykresu\n",
    "stopien_wiel = 10\n",
    "w = regresja_L2(x,y,0.1,stopien_wiel)\n",
    "df = pd.DataFrame({'x': x, 'y': np.dot(create_matrix(x,stopien_wiel),w)})\n",
    "df = df.sort_values('x')\n",
    "w"
   ],
   "outputs": [
    {
     "data": {
      "text/plain": [
       "array([ 2.77677036e+01, -2.70243309e-01, -7.42519374e+00,  1.11370484e+00,\n",
       "       -2.14235575e+00,  1.03750161e+00,  1.19690409e-01, -2.94984361e-01,\n",
       "        1.40787085e-01, -3.02597674e-02,  2.45002105e-03])"
      ]
     },
     "execution_count": 56,
     "metadata": {},
     "output_type": "execute_result"
    }
   ],
   "execution_count": 56
  },
  {
   "metadata": {
    "ExecuteTime": {
     "end_time": "2024-11-04T08:40:51.449913Z",
     "start_time": "2024-11-04T08:40:51.370337Z"
    }
   },
   "cell_type": "code",
   "source": [
    "plt.scatter(x, y)\n",
    "plt.plot(df.x, df.y, c='red')"
   ],
   "outputs": [
    {
     "data": {
      "text/plain": [
       "[<matplotlib.lines.Line2D at 0x119ace690>]"
      ]
     },
     "execution_count": 64,
     "metadata": {},
     "output_type": "execute_result"
    },
    {
     "data": {
      "text/plain": [
       "<Figure size 640x480 with 1 Axes>"
      ],
      "image/png": "[encoded data removed]"
     },
     "metadata": {},
     "output_type": "display_data"
    }
   ],
   "execution_count": 64
  },
  {
   "cell_type": "markdown",
   "metadata": {},
   "source": [
    "Podobnie jak wiele innych metod uczenia maszynowego, także i metoda regresji grzbietowej została zaimplementowana w jednym z pakietów języka Python. W kolejnym kroku nalezy znaleźć stosowną funkcję oraz porównać wyniki jej działania z własną funkcją."
   ]
  },
  {
   "cell_type": "code",
   "metadata": {
    "ExecuteTime": {
     "end_time": "2024-11-04T08:40:41.881594Z",
     "start_time": "2024-11-04T08:40:41.878904Z"
    }
   },
   "source": "stopien_wiel=10",
   "outputs": [],
   "execution_count": 60
  },
  {
   "cell_type": "code",
   "metadata": {
    "ExecuteTime": {
     "end_time": "2024-11-04T08:40:45.421150Z",
     "start_time": "2024-11-04T08:40:45.417454Z"
    }
   },
   "source": [
    "# miejsce na kod\n",
    "from sklearn.linear_model import Ridge\n",
    "w = Ridge(alpha=0.1).fit(create_matrix(x,stopien_wiel),y)\n",
    "yn = w.predict(create_matrix(x,stopien_wiel))"
   ],
   "outputs": [],
   "execution_count": 61
  },
  {
   "metadata": {
    "ExecuteTime": {
     "end_time": "2024-11-04T08:40:47.632278Z",
     "start_time": "2024-11-04T08:40:47.628920Z"
    }
   },
   "cell_type": "code",
   "source": [
    "df = pd.DataFrame({'x': x, 'y': yn})\n",
    "df = df.sort_values('x')"
   ],
   "outputs": [],
   "execution_count": 62
  },
  {
   "metadata": {
    "ExecuteTime": {
     "end_time": "2024-11-04T08:41:19.615967Z",
     "start_time": "2024-11-04T08:41:19.537267Z"
    }
   },
   "cell_type": "code",
   "source": [
    "plt.scatter(x, y)\n",
    "plt.plot(df.x, df.y, c='red')"
   ],
   "outputs": [
    {
     "data": {
      "text/plain": [
       "[<matplotlib.lines.Line2D at 0x118e50250>]"
      ]
     },
     "execution_count": 66,
     "metadata": {},
     "output_type": "execute_result"
    },
    {
     "data": {
      "text/plain": [
       "<Figure size 640x480 with 1 Axes>"
      ],
      "image/png": "[encoded data removed]"
     },
     "metadata": {},
     "output_type": "display_data"
    }
   ],
   "execution_count": 66
  },
  {
   "cell_type": "markdown",
   "metadata": {},
   "source": [
    "Celem wyznaczenia funkcji regresji na całym zbiorze, tak jak to miało miejsce powyżej, było praktyczne sprawdzenie jej działania. W przypadku, gdy uzyskany model estymatora miałby być zastosowany do estymacji wartości wyjściowej dla nieznanych wartości wejściowych (a zwykle tak to właśnie wygląda), oryginalny zbiór danych powinien zostać podzielony na zbiór uczący i testowy."
   ]
  },
  {
   "cell_type": "code",
   "execution_count": 7,
   "metadata": {},
   "outputs": [],
   "source": [
    "# Ze zbioru danych wydzielamy zbiór testowy zawierający 20% danych.\n"
   ]
  },
  {
   "cell_type": "markdown",
   "metadata": {},
   "source": [
    "Do oceny modelu w procesie uczenia stosuje się często walidację krzyżową. W omawianym przypadku wyróżnia się dwa parametry metody - stopień wielomianu funkcji regresji oraz parametr $\\lambda$. Zwykle pierwszy z nich jest ustalany a-priori, zaś drugi podlega weryfikacji poprzez wykonanie walidacji krzyżowej estymatorów dla różnych jego wartości. "
   ]
  },
  {
   "cell_type": "markdown",
   "metadata": {},
   "source": [
    "Korzystając z walidacji krzyżowej (5-krotny wybór zbioru) na zbiorze treningowym napisz funkcję, która dla wielomianu stopnia 15 narysuje wykres średniego błędu uczenia i średniego błędu walidacji, jak również wykres przedstawiający wartości współczynników modelu w funkcji zmiany parametru regularyzacji $\\lambda=[0, 0.01, 0.02, 0.04, 0.08, \\cdots, 10]$. Można przyjąć, że $\\lambda_{a+1}=24\\lambda_a$. Można skorzystać z funkcji [cross_validation](https://scikit-learn.org/stable/modules/cross_validation.html) lub [Search_Grid_CV](https://scikit-learn.org/stable/modules/generated/sklearn.model_selection.GridSearchCV.html)."
   ]
  },
  {
   "cell_type": "code",
   "execution_count": 4,
   "metadata": {},
   "outputs": [],
   "source": [
    "# Miejsce na potrzebne funkcje\n"
   ]
  },
  {
   "cell_type": "markdown",
   "metadata": {},
   "source": [
    "**Pytania:**\n",
    "1. Jak zmieniają się wartości współczynników ze zmianą współczynnika regularyzacji $\\lambda$?\n",
    "2. Która wartość współczynnika regularyzacji $\\lambda$ jest najlepsza dla wybranego modelu?"
   ]
  },
  {
   "cell_type": "markdown",
   "metadata": {},
   "source": [
    "**Odpowiedź:**\n",
    "\n",
    "(Proszę wpisać swoją odpowiedź)\n",
    "\n",
    "\n",
    "\n"
   ]
  },
  {
   "cell_type": "markdown",
   "metadata": {},
   "source": [
    "Wyucz opracowany model (stopnia 15) dla wybranego współczynnik $\\lambda$ (uczenie na całym zbiorze treningowym). Wyznacz $\\mbox{RMSE}=\\sqrt{\\frac{1}{m}\\sum_{i=1}^{m}\\left(\\hat{f}(x_i)−y_i\\right)^2}$ (pierwiastek błędu średniokwadratowego) dla zbioru uczącego i testowego i porównaj z wynikiem otrzymanym dla modelu stopnia 5.  "
   ]
  },
  {
   "cell_type": "code",
   "execution_count": 5,
   "metadata": {},
   "outputs": [],
   "source": [
    "# Miejsce na potrzebne funkcje\n"
   ]
  },
  {
   "cell_type": "markdown",
   "metadata": {},
   "source": [
    "### Zadanie 2\n",
    "Dla stopnia wielomian = 10 namalować wykres przedstawiający zmianęwartości parametrów modelu (wag) w funkcji lambda."
   ]
  },
  {
   "cell_type": "code",
   "execution_count": null,
   "metadata": {},
   "outputs": [],
   "source": [
    "# Miejsce na rozwiązanie\n"
   ]
  },
  {
   "cell_type": "markdown",
   "metadata": {},
   "source": [
    "### Zadanie 3 - Metoda doboru cech modelu\n",
    "\n",
    "Pierwszą metodą doboru cech modelu, która zostanie przetestowana jest metoda zachłanna (algorytm w przód). W każdym kroku tej metody poszukujemy cechy, która najlepiej minimalizuje nam średni błąd CV (walidacji krzyżowej), a następnie dodajemy ją do zbioru cech.   \n",
    "\n",
    "Do tego celu wykorzystamy zbiór przedstawiający ceny mieszkań z King County (do pobrania z MSTeams)."
   ]
  },
  {
   "cell_type": "code",
   "execution_count": null,
   "metadata": {},
   "outputs": [],
   "source": [
    "# Wczytanie danych\n",
    "import pandas as pd\n",
    "\n",
    "dtype_dict = {'bathrooms':float, 'waterfront':int, 'sqft_above':int, 'sqft_living15':float, 'grade':int, 'yr_renovated':int, 'price':float, 'bedrooms':float, 'zipcode':str, 'long':float, 'sqft_lot15':float, 'sqft_living':float, 'floors':float, 'condition':int, 'lat':float, 'date':str, 'sqft_basement':int, 'yr_built':int, 'id':str, 'sqft_lot':int, 'view':int}\n",
    "\n",
    "sales = pd.read_csv('kc_house_data.csv', dtype=dtype_dict)"
   ]
  },
  {
   "cell_type": "code",
   "execution_count": 2,
   "metadata": {},
   "outputs": [],
   "source": [
    "# Stworzenie nowych zmiennych\n",
    "from math import log, sqrt\n",
    "sales['sqft_living_sqrt'] = sales['sqft_living'].apply(sqrt)\n",
    "sales['sqft_lot_sqrt'] = sales['sqft_lot'].apply(sqrt)\n",
    "sales['bedrooms_square'] = sales['bedrooms']*sales['bedrooms']\n",
    "sales['floors_square'] = sales['floors']*sales['floors']"
   ]
  },
  {
   "cell_type": "code",
   "execution_count": 6,
   "metadata": {},
   "outputs": [],
   "source": [
    "# Ze zbioru danych wydzielamy zbiór testowy zawierający 20% danych.\n"
   ]
  },
  {
   "cell_type": "markdown",
   "metadata": {},
   "source": [
    "Na zbiorze treningowym, dla cech \n",
    "['bedrooms', 'bedrooms_square', 'bathrooms', 'sqft_living', 'sqft_living_sqrt', 'sqft_lot', 'sqft_lot_sqrt', 'floors', 'floors_square', 'waterfront', 'view', 'condition', 'grade', 'sqft_above', 'sqft_basement', 'yr_built', 'yr_renovated']\n",
    "przy pomocy walidacji krzyżowej wyznaczamy wykresy błąd modelu, który będzie miał tylko wyraz wolny, a następnie biorąc pojedynczą cechę, a następnie wszystkie podwójne, potrójne itd. cechy wyznaczamy błędy modelu. Na podstawie tych błędów wyznaczamy, które zbiory cech (1, 2, 3, ...) elementowe nalepiej minimalizują nam błąd CV. "
   ]
  },
  {
   "cell_type": "code",
   "execution_count": 20,
   "metadata": {},
   "outputs": [],
   "source": [
    "# Miejsce na kod\n",
    "from sklearn.linear_model import LinearRegression\n",
    "\n",
    "lr = LinearRegression()\n",
    "features =  ['bedrooms', 'bedrooms_square', 'bathrooms', 'sqft_living', 'sqft_living_sqrt', 'sqft_lot', 'sqft_lot_sqrt', 'floors', 'floors_square', 'waterfront', 'view', 'condition', 'grade', 'sqft_above', 'sqft_basement', 'yr_built', 'yr_renovated']\n",
    "for i, value in enumerate(features):\n",
    "    tmp_features = \n",
    "    lr.fit(sales[tmp_features], sales['price'])\n",
    "    error = \n",
    "# Wypisz zestawy cech najlepiej minimalizujące błąd CV dla różnej ilości cech. (Wyraz wolny pozostawiamy.)"
   ]
  },
  {
   "cell_type": "markdown",
   "metadata": {},
   "source": [
    "Następnie wykorzystując powyższe wyniki lub opracowując nową funkcję napisz algorytm zachłanny wyboru cech, który do nowego zbioru cech dorzucać będzie cechę, która najlepiej minimalizuje błąd naszego modelu."
   ]
  },
  {
   "cell_type": "code",
   "execution_count": 21,
   "metadata": {},
   "outputs": [],
   "source": [
    "# Miejce na kod\n"
   ]
  },
  {
   "cell_type": "markdown",
   "metadata": {},
   "source": [
    "**Prowównaj jak powyżej otrzymane cechy dla algorytmu zachłannego różnią się od najlepszych zbiorów cech.**"
   ]
  },
  {
   "cell_type": "code",
   "execution_count": null,
   "metadata": {},
   "outputs": [],
   "source": []
  }
 ],
 "metadata": {
  "kernelspec": {
   "display_name": "Python 3",
   "language": "python",
   "name": "python3"
  },
  "language_info": {
   "codemirror_mode": {
    "name": "ipython",
    "version": 3
   },
   "file_extension": ".py",
   "mimetype": "text/x-python",
   "name": "python",
   "nbconvert_exporter": "python",
   "pygments_lexer": "ipython3",
   "version": "3.7.6"
  }
 },
 "nbformat": 4,
 "nbformat_minor": 4
}
