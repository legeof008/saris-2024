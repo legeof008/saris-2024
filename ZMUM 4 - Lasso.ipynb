{
 "cells": [
  {
   "cell_type": "markdown",
   "metadata": {},
   "source": [
    "\n",
    "## ZMUM 4 - Lasso\n",
    "\n",
    "Metodę regularyzacji Lasso używamy do ograniczenia wariancji modelu poprzez eliminację zbędnych cech.\n",
    "\n",
    "W metodzie LASSO (Least Absolute Shrinkage and Selection Operator) wykorzystujemy normę L1 do wygaszenia cech, które nia mają znaczącego wpływu na model. W przypadku tej metody funkcja kosztu $J_{lasso}(\\omega)$ ma następującą postać:\n",
    "\n",
    "$$J_{lasso}(\\omega)=\\sum_{i=1}^{m}\\left(\\hat{f}(x_i)−y_i\\right)^2+\\lambda \\sum_{j=1}^n{|\\omega_j|},$$\n",
    "\n",
    "W przypadku regularyzacji metodą Lasso dokonuje się normalizacji zmiennych opisujących. \n",
    "\n",
    "**Celem tego laboratorium jest zapoznanie się z działaniem metod Lasso**."
   ]
  },
  {
   "cell_type": "markdown",
   "metadata": {},
   "source": [
    "Materiały pomocnicze, lekkie (wideo) wprowadzenia do :\n",
    "\n",
    "* [Metody lasso](https://www.youtube.com/watch?v=NGf0voTMlcs)\n",
    "* [Połączenie regresji Ridge i Lasso - Elastic Net](https://www.youtube.com/watch?v=1dKRdX9bfIo)"
   ]
  },
  {
   "cell_type": "markdown",
   "metadata": {},
   "source": [
    "Na początek - wczytanie bibliotek oraz wygenerowanie zbioru danych:"
   ]
  },
  {
   "cell_type": "code",
   "metadata": {
    "ExecuteTime": {
     "end_time": "2024-11-14T12:33:23.634006Z",
     "start_time": "2024-11-14T12:33:23.150254Z"
    }
   },
   "source": [
    "# Wczytaj bilbioteki podstawowe\n",
    "import math \n",
    "import matplotlib.pyplot as plt \n",
    "import pandas as pd\n",
    "import numpy as np"
   ],
   "outputs": [],
   "execution_count": 2
  },
  {
   "cell_type": "code",
   "metadata": {
    "ExecuteTime": {
     "end_time": "2024-11-14T12:33:23.727635Z",
     "start_time": "2024-11-14T12:33:23.638612Z"
    }
   },
   "source": [
    "# Wczytaj biblioteki potrzebne do zajęć\n",
    "from sklearn.linear_model import Ridge\n",
    "from sklearn.linear_model import LinearRegression\n",
    "from sklearn.datasets import make_regression\n",
    "from sklearn.model_selection import train_test_split\n",
    "from sklearn.model_selection import cross_val_score"
   ],
   "outputs": [],
   "execution_count": 3
  },
  {
   "cell_type": "code",
   "metadata": {
    "ExecuteTime": {
     "end_time": "2024-11-14T12:33:23.813327Z",
     "start_time": "2024-11-14T12:33:23.733201Z"
    }
   },
   "source": [
    "np.random.seed(5)\n",
    "x = 2 - 3 * np.random.normal(0, 0.5, 50)\n",
    "y = 30 + x - 8 * (x ** 2) - 0.5 * (x ** 3)+ 0.15 * (x ** 5)  + np.random.normal(-3, 5, 50)\n",
    "plt.scatter(x,y, s=10)\n",
    "plt.show()"
   ],
   "outputs": [
    {
     "data": {
      "text/plain": [
       "<Figure size 640x480 with 1 Axes>"
      ],
      "image/png": "[encoded data removed]"
     },
     "metadata": {},
     "output_type": "display_data"
    }
   ],
   "execution_count": 4
  },
  {
   "cell_type": "markdown",
   "metadata": {},
   "source": [
    "W przypadku, gdy uzyskany model estymatora miałby być zastosowany do estymacji wartości wyjściowej dla nieznanych wartości wejściowych (a zwykle tak to właśnie wygląda), oryginalny zbiór danych powinien zostać podzielony na zbiór uczący i testowy."
   ]
  },
  {
   "cell_type": "code",
   "metadata": {
    "ExecuteTime": {
     "end_time": "2024-11-14T12:33:23.824215Z",
     "start_time": "2024-11-14T12:33:23.821742Z"
    }
   },
   "source": [
    "# Ze zbioru danych wydzielamy zbiór testowy zawierający 20% danych.\n",
    "x_test, x_train, y_test, y_train = train_test_split(x, y, test_size=0.2)"
   ],
   "outputs": [],
   "execution_count": 5
  },
  {
   "cell_type": "markdown",
   "metadata": {},
   "source": [
    "### Zadanie 1:\n",
    "\n",
    "Do oceny modelu w procesie uczenia stosuje się często walidację krzyżową. W omawianym przypadku wyróżnia się dwa parametry metody - stopień wielomianu funkcji regresji oraz parametr $\\lambda$. Zwykle pierwszy z nich jest ustalany a-priori, zaś drugi podlega weryfikacji poprzez wykonanie walidacji krzyżowej estymatorów dla różnych jego wartości. "
   ]
  },
  {
   "cell_type": "markdown",
   "metadata": {},
   "source": [
    "Korzystając z walidacji krzyżowej (5-krotny wybór zbioru) na zbiorze treningowym napisz funkcję, która dla wielomianu stopnia 15 narysuje wykres średniego błędu uczenia i średniego błędu walidacji, jak również wykres przedstawiający wartości współczynników modelu w funkcji zmiany parametru regularyzacji $\\lambda=[0, 0.01, 0.02, 0.04, 0.08, \\cdots, 10]$. Można przyjąć, że $\\lambda_{a+1}=24\\lambda_a$. Można skorzystać z funkcji [cross_validation](https://scikit-learn.org/stable/modules/cross_validation.html) lub [Search_Grid_CV](https://scikit-learn.org/stable/modules/generated/sklearn.model_selection.GridSearchCV.html)."
   ]
  },
  {
   "cell_type": "code",
   "metadata": {
    "ExecuteTime": {
     "end_time": "2024-11-14T13:10:32.489412Z",
     "start_time": "2024-11-14T13:10:32.202156Z"
    }
   },
   "source": [
    "# Miejsce na potrzebne funkcje\n",
    "from sklearn import linear_model  # using scikit-learn\n",
    "from sklearn.linear_model import Lasso\n",
    "from sklearn.model_selection import cross_val_score\n",
    "from sklearn.preprocessing import PolynomialFeatures, StandardScaler\n",
    "from sklearn.pipeline import make_pipeline\n",
    "\n",
    "model_lasso = linear_model.Lasso(alpha=5e2) # set parameters\n",
    "alphas = [0.01/24., 0.01, 0.02, 0.04, 0.08, 0.16, 0.32, 0.64, 1.28, 2.56, 5.12, 10.24]\n",
    "\n",
    "val_err = []\n",
    "train_err = []\n",
    "for alfa in alphas:\n",
    "    model = make_pipeline(PolynomialFeatures(degree=15),StandardScaler(), Lasso(alpha=alfa, max_iter=100000,tol=0.001))\n",
    "    scores = cross_val_score(model, x_train.reshape(-1,1), y_train, cv=5, scoring='neg_mean_squared_error')\n",
    "    iteration_train_err = -scores.mean()\n",
    "    train_err.append(iteration_train_err)\n",
    "    # calculate mean of validation error on x_test and y_test for each alpha\n",
    "    model.fit(x_train.reshape(-1,1), y_train)\n",
    "    # validation error is calculated as mean of squared differences between predicted and real values\n",
    "    iteration_validation_err = np.mean((model.predict(x_test.reshape(-1,1)) - y_test) ** 2)\n",
    "\n",
    "    val_err.append(iteration_validation_err)\n",
    "    print(f'alpha={alfa}, train_err={iteration_train_err}, val_err={iteration_validation_err}')\n"
   ],
   "outputs": [
    {
     "name": "stderr",
     "output_type": "stream",
     "text": [
      "/Users/maciejmichalski/PycharmProjects/saris-2024/venv/lib/python3.11/site-packages/sklearn/linear_model/_coordinate_descent.py:697: ConvergenceWarning: Objective did not converge. You might want to increase the number of iterations, check the scale of the features or consider increasing regularisation. Duality gap: 3.733e+01, tolerance: 1.285e+00\n",
      "  model = cd_fast.enet_coordinate_descent(\n",
      "/Users/maciejmichalski/PycharmProjects/saris-2024/venv/lib/python3.11/site-packages/sklearn/linear_model/_coordinate_descent.py:697: ConvergenceWarning: Objective did not converge. You might want to increase the number of iterations, check the scale of the features or consider increasing regularisation. Duality gap: 1.230e+01, tolerance: 2.166e+00\n",
      "  model = cd_fast.enet_coordinate_descent(\n",
      "/Users/maciejmichalski/PycharmProjects/saris-2024/venv/lib/python3.11/site-packages/sklearn/linear_model/_coordinate_descent.py:697: ConvergenceWarning: Objective did not converge. You might want to increase the number of iterations, check the scale of the features or consider increasing regularisation. Duality gap: 3.468e+01, tolerance: 2.190e+00\n",
      "  model = cd_fast.enet_coordinate_descent(\n",
      "/Users/maciejmichalski/PycharmProjects/saris-2024/venv/lib/python3.11/site-packages/sklearn/linear_model/_coordinate_descent.py:697: ConvergenceWarning: Objective did not converge. You might want to increase the number of iterations, check the scale of the features or consider increasing regularisation. Duality gap: 5.622e+01, tolerance: 2.452e+00\n",
      "  model = cd_fast.enet_coordinate_descent(\n"
     ]
    },
    {
     "name": "stdout",
     "output_type": "stream",
     "text": [
      "alpha=0.0004166666666666667, train_err=208082.3369035982, val_err=1026.470028222715\n",
      "alpha=0.01, train_err=1049579.4888528974, val_err=35.42184767105272\n",
      "alpha=0.02, train_err=267.98724800824436, val_err=34.94015998563414\n",
      "alpha=0.04, train_err=72.43724961226619, val_err=37.371462506588\n",
      "alpha=0.08, train_err=89.82989473967513, val_err=40.46338154405397\n",
      "alpha=0.16, train_err=119.78699176016883, val_err=57.27683715792544\n",
      "alpha=0.32, train_err=234.68786183015717, val_err=67.89928981345442\n",
      "alpha=0.64, train_err=269.8432951569907, val_err=92.54399822908587\n",
      "alpha=1.28, train_err=258.4759866407859, val_err=65.85361211854816\n",
      "alpha=2.56, train_err=217.28968039840476, val_err=12.527591901174262\n",
      "alpha=5.12, train_err=195.3156098625139, val_err=13.238342160099247\n",
      "alpha=10.24, train_err=244.9796578808865, val_err=15.384559603731555\n"
     ]
    }
   ],
   "execution_count": 33
  },
  {
   "metadata": {
    "ExecuteTime": {
     "end_time": "2024-11-14T13:10:36.373426Z",
     "start_time": "2024-11-14T13:10:36.273758Z"
    }
   },
   "cell_type": "code",
   "source": [
    "fig, axs = plt.subplots(2)\n",
    "fig.suptitle('Validation and training error')\n",
    "fig.tight_layout()\n",
    "axs[0].plot(range(len(alphas)), train_err, label='train')\n",
    "axs[0].set_title('Train error')\n",
    "axs[1].plot(range(len(alphas)), val_err, label='validation')\n",
    "axs[1].set_title('Validation error')"
   ],
   "outputs": [
    {
     "data": {
      "text/plain": [
       "Text(0.5, 1.0, 'Validation error')"
      ]
     },
     "execution_count": 34,
     "metadata": {},
     "output_type": "execute_result"
    },
    {
     "data": {
      "text/plain": [
       "<Figure size 640x480 with 2 Axes>"
      ],
      "image/png": "[encoded data removed]"
     },
     "metadata": {},
     "output_type": "display_data"
    }
   ],
   "execution_count": 34
  },
  {
   "cell_type": "markdown",
   "metadata": {},
   "source": [
    "**Pytania:**\n",
    "1. Jak zmieniają się wartości współczynników ze zmianą współczynnika regularyzacji $\\lambda$?\n",
    "2. Która wartość współczynnika regularyzacji $\\lambda$ jest najlepsza dla wybranego modelu?"
   ]
  },
  {
   "cell_type": "markdown",
   "metadata": {},
   "source": [
    "Wyucz opracowany model (stopnia 15) dla wybranego współczynnik $\\lambda$ (uczenie na całym zbiorze treningowym). Wyznacz $\\mbox{RMSE}=\\sqrt{\\frac{1}{m}\\sum_{i=1}^{m}\\left(\\hat{f}(x_i)−y_i\\right)^2}$ (pierwiastek błędu średniokwadratowego) dla zbioru uczącego i testowego i porównaj z wynikiem otrzymanym dla modelu stopnia 5.  "
   ]
  },
  {
   "cell_type": "code",
   "metadata": {
    "ExecuteTime": {
     "end_time": "2024-11-17T21:26:06.096408Z",
     "start_time": "2024-11-17T21:26:05.958575Z"
    }
   },
   "source": [
    "# Miejsce na potrzebne funkcje\n",
    "model_pl_15 = make_pipeline(PolynomialFeatures(degree=15),StandardScaler(), Lasso(alpha=0.01, max_iter=100000,tol=0.001))\n",
    "model_pl_5 = make_pipeline(PolynomialFeatures(degree=5),StandardScaler(), Lasso(alpha=0.01, max_iter=100000,tol=0.001))\n",
    "rmse_pl_15 = np.sqrt(np.mean((model_pl_15.predict(x_test.reshape(-1,1)) - y_test) ** 2))\n",
    "rmse_pl_5 = np.sqrt(np.mean((model_pl_5.predict(x_test.reshape(-1,1)) - y_test) ** 2))\n"
   ],
   "outputs": [
    {
     "ename": "NameError",
     "evalue": "name 'make_pipeline' is not defined",
     "output_type": "error",
     "traceback": [
      "\u001B[0;31m---------------------------------------------------------------------------\u001B[0m",
      "\u001B[0;31mNameError\u001B[0m                                 Traceback (most recent call last)",
      "Cell \u001B[0;32mIn[1], line 2\u001B[0m\n\u001B[1;32m      1\u001B[0m \u001B[38;5;66;03m# Miejsce na potrzebne funkcje\u001B[39;00m\n\u001B[0;32m----> 2\u001B[0m model_pl_15 \u001B[38;5;241m=\u001B[39m \u001B[43mmake_pipeline\u001B[49m(PolynomialFeatures(degree\u001B[38;5;241m=\u001B[39m\u001B[38;5;241m15\u001B[39m),StandardScaler(), Lasso(alpha\u001B[38;5;241m=\u001B[39m\u001B[38;5;241m0.01\u001B[39m, max_iter\u001B[38;5;241m=\u001B[39m\u001B[38;5;241m100000\u001B[39m,tol\u001B[38;5;241m=\u001B[39m\u001B[38;5;241m0.001\u001B[39m))\n\u001B[1;32m      3\u001B[0m model_pl_5 \u001B[38;5;241m=\u001B[39m make_pipeline(PolynomialFeatures(degree\u001B[38;5;241m=\u001B[39m\u001B[38;5;241m5\u001B[39m),StandardScaler(), Lasso(alpha\u001B[38;5;241m=\u001B[39m\u001B[38;5;241m0.01\u001B[39m, max_iter\u001B[38;5;241m=\u001B[39m\u001B[38;5;241m100000\u001B[39m,tol\u001B[38;5;241m=\u001B[39m\u001B[38;5;241m0.001\u001B[39m))\n\u001B[1;32m      4\u001B[0m rmse_pl_15 \u001B[38;5;241m=\u001B[39m np\u001B[38;5;241m.\u001B[39msqrt(np\u001B[38;5;241m.\u001B[39mmean((model_pl_15\u001B[38;5;241m.\u001B[39mpredict(x_test\u001B[38;5;241m.\u001B[39mreshape(\u001B[38;5;241m-\u001B[39m\u001B[38;5;241m1\u001B[39m,\u001B[38;5;241m1\u001B[39m)) \u001B[38;5;241m-\u001B[39m y_test) \u001B[38;5;241m*\u001B[39m\u001B[38;5;241m*\u001B[39m \u001B[38;5;241m2\u001B[39m))\n",
      "\u001B[0;31mNameError\u001B[0m: name 'make_pipeline' is not defined"
     ]
    }
   ],
   "execution_count": 1
  },
  {
   "cell_type": "markdown",
   "metadata": {},
   "source": [
    "### Zadanie 2:\n",
    "Dla wielomian stopnia = 10 proszę namalować wykres przedstawiający zmianę wartości parametrów modelu (wag) w funkcji lambda."
   ]
  },
  {
   "cell_type": "code",
   "execution_count": null,
   "metadata": {},
   "outputs": [],
   "source": [
    "# Miejsce na rozwiązanie\n"
   ]
  },
  {
   "cell_type": "markdown",
   "metadata": {},
   "source": [
    "## Metoda doboru cech modelu"
   ]
  },
  {
   "cell_type": "code",
   "execution_count": null,
   "metadata": {},
   "outputs": [],
   "source": [
    "# Wczytanie danych\n",
    "import pandas as pd\n",
    "\n",
    "dtype_dict = {'bathrooms':float, 'waterfront':int, 'sqft_above':int, 'sqft_living15':float, 'grade':int, 'yr_renovated':int, 'price':float, 'bedrooms':float, 'zipcode':str, 'long':float, 'sqft_lot15':float, 'sqft_living':float, 'floors':float, 'condition':int, 'lat':float, 'date':str, 'sqft_basement':int, 'yr_built':int, 'id':str, 'sqft_lot':int, 'view':int}\n",
    "\n",
    "sales = pd.read_csv('kc_house_data.csv', dtype=dtype_dict)"
   ]
  },
  {
   "cell_type": "code",
   "execution_count": null,
   "metadata": {},
   "outputs": [],
   "source": [
    "# Utworzenie nowych zmiennych\n",
    "from math import log, sqrt\n",
    "sales['sqft_living_sqrt'] = sales['sqft_living'].apply(sqrt)\n",
    "sales['sqft_lot_sqrt'] = sales['sqft_lot'].apply(sqrt)\n",
    "sales['bedrooms_square'] = sales['bedrooms']*sales['bedrooms']\n",
    "sales['floors_square'] = sales['floors']*sales['floors']"
   ]
  },
  {
   "cell_type": "code",
   "execution_count": null,
   "metadata": {},
   "outputs": [],
   "source": [
    "# Ze zbioru danych wydzielamy zbiór testowy zawierający 20% danych.\n"
   ]
  },
  {
   "cell_type": "markdown",
   "metadata": {},
   "source": [
    "### Zadanie 3 - Metoda Lasso dla regresji ceny nieruchomości\n",
    "\n",
    "W metodzie LASSO (Least Absolute Shrinkage and Selection Operator) wykorzystujemy normę L1 do wygaszenia cech, które nia mają znaczącego wpływu na model. W przypadku tej metody funkcja kosztu $J_{lasso}(\\omega)$ ma następującą postać:\n",
    "\n",
    "$$J_{lasso}(\\omega)=\\sum_{i=1}^{m}\\left(\\hat{f}(x_i)−y_i\\right)^2+\\lambda \\sum_{j=1}^n{|\\omega_j|},$$\n",
    "\n",
    "W przypadku regularyzacji metodą Lasso dokonuje się normalizacji zmiennych opisujących. \n",
    "\n",
    "Poniżej przykładowy kod."
   ]
  },
  {
   "cell_type": "code",
   "execution_count": null,
   "metadata": {},
   "outputs": [],
   "source": [
    "from sklearn import linear_model  # using scikit-learn\n",
    "\n",
    "all_features = ['bedrooms', 'bedrooms_square',\n",
    "            'bathrooms',\n",
    "            'sqft_living', 'sqft_living_sqrt',\n",
    "            'sqft_lot', 'sqft_lot_sqrt',\n",
    "            'floors', 'floors_square',\n",
    "            'waterfront', 'view', 'condition', 'grade',\n",
    "            'sqft_above',\n",
    "            'sqft_basement',\n",
    "            'yr_built', 'yr_renovated']\n",
    "\n",
    "model_all = linear_model.Lasso(alpha=5e2, normalize=True) # set parameters\n",
    "model_all.fit(sales[all_features], sales['price']) # learn weights"
   ]
  },
  {
   "cell_type": "markdown",
   "metadata": {},
   "source": [
    "**Na podstawie wyników powyższego kodu określ, które cechy zostały wybrane przez algorytm.**"
   ]
  },
  {
   "cell_type": "markdown",
   "metadata": {},
   "source": [
    "Tak samo jak działaliśmy w przypadku regularyzacji grzbietowej, wydziel 20% zbiór testowy, a następnie przy pomocy CV na zbiorze zbiorze uczącym i powyższego kodu, dokonaj doboru współczynnika alpha. Wykreś RMSE oraz współczynniki poszczególnych cech w funkcji zmiany parametru $\\lambda$."
   ]
  },
  {
   "cell_type": "code",
   "execution_count": null,
   "metadata": {},
   "outputs": [],
   "source": [
    "# Miejsce na kod\n"
   ]
  },
  {
   "cell_type": "markdown",
   "metadata": {},
   "source": [
    "**Pytania:**\n",
    "1. Jaką wartość parametru $\\lambda$ należy wybrać dla naszego modelu ?\n",
    "2. Które z cech, dla ustalonej wartości parametru $\\lambda$ wchodzą w skład modelu - podaj w kolejności od najbardziej znaczących cech ?"
   ]
  },
  {
   "cell_type": "code",
   "execution_count": null,
   "metadata": {},
   "outputs": [],
   "source": [
    "# Miejsce na kod\n"
   ]
  },
  {
   "cell_type": "markdown",
   "metadata": {},
   "source": [
    "### Zadanie 4 - Metoda spadku względem współrzędnych (ang. coordinate descent)\n",
    "\n",
    "Celem zadania jest napisanie metody spadku względem współrzędnych przetesowanie jej dla problemu regresji wielomianowej dla wielomianu stopnia 20:\n",
    "1. Bez regularyzacji.\n",
    "2. Z regularyzacją Lasso.\n",
    "Podaną poniżej funkcję należy podzielić na zbiór treningowy i testowy i dokonać jej estymacji."
   ]
  },
  {
   "cell_type": "code",
   "execution_count": null,
   "metadata": {},
   "outputs": [],
   "source": [
    "np.random.seed(10)\n",
    "x = 2 - 3 * np.random.normal(0, 0.5, 50)\n",
    "y = 30 + x - 5 * (x ** 2) - 2 * (x ** 3)+ 0.15 * (x ** 5)  + np.random.normal(-3, 5, 50)\n",
    "plt.scatter(x,y, s=10)\n",
    "plt.show()"
   ]
  },
  {
   "cell_type": "markdown",
   "metadata": {},
   "source": [
    "## Metoda spadku względem współrzędnych (z normalizacją cech)\n"
   ]
  },
  {
   "cell_type": "markdown",
   "metadata": {},
   "source": [
    "### Normalizacja cech\n",
    "Posiadając zbiór uczący i testowy dokonaj normalizację każdej cechy. Do tego celu należy posłużyć się wartościami normalizującymi wyznaczonymi na **zbiorze uczącym**. Wartość tę wyznaczamy ze wzoru:\n",
    "$$ normalizator = \\sqrt{\\sum_{i=1}^Nh_j(x_i)^2} $$\n",
    "\n",
    "Następnie wykorzysując ją dokonujemy normalizacji cech zbioru uczącego i testowego:\n",
    "\n",
    "$$ \\underline{h}_j(x_k) = \\frac{h_j(x_k)}{normalizator}, $$\n",
    "\n",
    "gdzie $\\underline{h}_j(x_k)$ - jest wartością normalizowanej cechy.\n"
   ]
  },
  {
   "cell_type": "markdown",
   "metadata": {},
   "source": [
    "### Zadanie 5 - Napisz funkcję normalizującą cechy\n"
   ]
  },
  {
   "cell_type": "code",
   "execution_count": null,
   "metadata": {},
   "outputs": [],
   "source": [
    "def norm_feature(train_x, test_x):\n",
    "# Miejsce na kod\n",
    "\n",
    "    return norm_train_x, norm_test_x"
   ]
  },
  {
   "cell_type": "markdown",
   "metadata": {},
   "source": [
    "### Metoda spadku względem współrzędnych dla regresji bez regularyzacji\n",
    "\n",
    "1. Dokonaj inicjacji wag: $ \\hat{w} = 0 $ (lub mądrzej)\n",
    "\n",
    "2. Do osiągnięcia zbieżności:\n",
    "\n",
    "   Dla $ j=0,1,... , M $:\n",
    "           \n",
    "     wyznacz: $ \\rho_j = \\sum_{i=1}^N\\underline{h}_j(x_i) (y_i - \\hat{y}_i(\\hat{w}_{-j})) $, gdzie $\\underline{h}_j(x_i)$ jest znormalizowaną $j$-tą cechą, a $\\hat{y}_i(\\hat{w}_{-j})$ jest predykcją wartości dla modelu bez $j$-tej cechy \n",
    "    \n",
    "     ustaw $ \\hat{w}_j = \\rho_j $"
   ]
  },
  {
   "cell_type": "markdown",
   "metadata": {},
   "source": [
    "### Zadanie 6 - wyznaczenie współczynników regresji metodą spadku koordynatów\n",
    "\n",
    "Napisz metodę spadku koordynatów bez regularyzacji, wyznacz wartości współrzędnych tą metodą dla wielomianu 5 stopnia i porównaj otrzymane wartości z wynikami otrzymanymi z pseudoowrtoności. (Wykorzystaj wcześniejsze kody lub pakiety scikit-learn)."
   ]
  },
  {
   "cell_type": "code",
   "execution_count": null,
   "metadata": {},
   "outputs": [],
   "source": [
    "# Miejsce na kod"
   ]
  },
  {
   "cell_type": "markdown",
   "metadata": {},
   "source": [
    "### Metoda spadku względem współrzędnych dla LASSO\n",
    "\n",
    "1. Dokonaj inicjacji wag: $ \\hat{w} = 0 $ (lub mądrzej)\n",
    "\n",
    "2. Do osiągnięcia zbieżności:\n",
    "\n",
    "   Dla $ j=0,1,... , M $:\n",
    "           \n",
    "     wyznacz: \n",
    "     $ \\rho_j = \\sum_{i=1}^N\\underline{h}_j(x_i) \\left(y_i - \\hat{y}_i(\\hat{w}_{-j})\\right) $, gdzie \n",
    "     \n",
    "   * $\\underline{h}_j(x_i)$ jest znormalizowaną $j$-tą cechą, \n",
    "   \n",
    "   * $\\hat{y}_i(\\hat{w}_{-j})$ jest predykcją wartości dla modelu bez $j$-tej cechy. \n",
    "    \n",
    "     Następnie ustaw:\n",
    "     \n",
    "     $\\hat{w}_j = \\begin{cases}\n",
    "     \\rho_j + \\frac{\\lambda}{2} \\mbox{, jeśli } \\rho_j < -\\frac{\\lambda}{2}, \\\\\n",
    "     0 \\mbox{, jeśli } \\rho_j \\in \\left< -\\frac{\\lambda}{2},\\frac{\\lambda}{2}\\right>, \\\\\n",
    "     \\rho_j - \\frac{\\lambda}{2} \\mbox{, jeśli } \\rho_j > \\frac{\\lambda}{2}\n",
    "     \\end{cases}$"
   ]
  },
  {
   "cell_type": "markdown",
   "metadata": {},
   "source": [
    "### Zadanie 7 - wyznaczenie współczynników metody Lasso metodą spadku koordynatów\n",
    "\n",
    "Napisz metodę spadku koordynatów z regularyzacją lasso dla znormalizowanych cech, wyznacz wartości współrzędnych tą metodą dla wielomianu 5 stopnia i porównaj otrzymane wartości z wynikami otrzymanymi z pseudoowrtoności. (Wykorzystaj wcześniejsze kody lub pakiety scikit-learn)"
   ]
  },
  {
   "cell_type": "code",
   "execution_count": null,
   "metadata": {},
   "outputs": [],
   "source": [
    "# Miejsce na kod"
   ]
  }
 ],
 "metadata": {
  "kernelspec": {
   "display_name": "Python 3",
   "language": "python",
   "name": "python3"
  },
  "language_info": {
   "codemirror_mode": {
    "name": "ipython",
    "version": 3
   },
   "file_extension": ".py",
   "mimetype": "text/x-python",
   "name": "python",
   "nbconvert_exporter": "python",
   "pygments_lexer": "ipython3",
   "version": "3.7.10"
  }
 },
 "nbformat": 4,
 "nbformat_minor": 4
}
