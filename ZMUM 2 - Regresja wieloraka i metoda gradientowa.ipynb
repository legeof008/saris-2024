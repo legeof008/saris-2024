{
 "cells": [
  {
   "cell_type": "markdown",
   "metadata": {},
   "source": [
    "# ZMUM 2: Regresja wieloraka"
   ]
  },
  {
   "cell_type": "markdown",
   "metadata": {},
   "source": [
    "Prognozowanie cen domów (wiele zmiennych)\n",
    "\n",
    "W tym notatniku wykorzystamy dane dotyczące sprzedaży domów. Przewidywanie ich ceny zostanie dokonane przy pomocy regresji wielorakiej. Pierwsze zadanie dotyczy eksploracji regresji wielorakiej poprzez opracowanie nowych cech i pomiar błędu. W drugim zadaniu zaimplementować należy algorytm spadku gradientu.\n",
    "\n",
    "     Użyj wbudowanych funkcji, aby obliczyć współczynniki (wagi) regresji\n",
    "     Biorąc pod uwagę współczynniki, predyktor i wynik napisz funkcję obliczającą resztkową sumę kwadratów (RSS)\n",
    "     Spójrz na współczynniki i zinterpretuj ich znaczenie\n",
    "     Oceń wiele modeli za pomocą RSS"
   ]
  },
  {
   "cell_type": "markdown",
   "metadata": {},
   "source": [
    "# Potrzebne biblioteki"
   ]
  },
  {
   "cell_type": "code",
   "execution_count": 104,
   "metadata": {
    "ExecuteTime": {
     "end_time": "2024-11-03T15:56:52.296242551Z",
     "start_time": "2024-11-03T15:56:52.069333050Z"
    }
   },
   "outputs": [],
   "source": [
    "import matplotlib.pyplot as plt\n",
    "import pandas as pd\n",
    "import numpy as np\n",
    "from sklearn.preprocessing import StandardScaler\n"
   ]
  },
  {
   "cell_type": "markdown",
   "metadata": {},
   "source": [
    "# Wczytanie danych ceny domów \n",
    "\n",
    "Zestaw danych pochodzi ze sprzedaży domów w King County, regionie, w którym znajduje się miasto Seattle w stanie Waszyngton."
   ]
  },
  {
   "cell_type": "code",
   "execution_count": 105,
   "metadata": {
    "scrolled": true,
    "ExecuteTime": {
     "end_time": "2024-11-03T15:56:52.435507799Z",
     "start_time": "2024-11-03T15:56:52.073640523Z"
    }
   },
   "outputs": [],
   "source": [
    "dtype_dict = {'bathrooms': float, 'waterfront': int, 'sqft_above': int, 'sqft_living15': float, 'grade': int,\n",
    "              'yr_renovated': int, 'price': float, 'bedrooms': float, 'zipcode': str, 'long': float,\n",
    "              'sqft_lot15': float, 'sqft_living': float, 'floors': str, 'condition': int, 'lat': float, 'date': str,\n",
    "              'sqft_basement': int, 'yr_built': int, 'id': str, 'sqft_lot': int, 'view': int}\n",
    "domy = pd.read_csv('kc_house_data.csv', sep=',', dtype=dtype_dict)"
   ]
  },
  {
   "cell_type": "code",
   "execution_count": 106,
   "metadata": {
    "ExecuteTime": {
     "end_time": "2024-11-03T15:56:52.462501802Z",
     "start_time": "2024-11-03T15:56:52.114345917Z"
    }
   },
   "outputs": [
    {
     "data": {
      "text/plain": "           id             date     price  bedrooms  bathrooms  sqft_living  \\\n0  7129300520  20141013T000000  221900.0       3.0       1.00       1180.0   \n1  6414100192  20141209T000000  538000.0       3.0       2.25       2570.0   \n2  5631500400  20150225T000000  180000.0       2.0       1.00        770.0   \n3  2487200875  20141209T000000  604000.0       4.0       3.00       1960.0   \n4  1954400510  20150218T000000  510000.0       3.0       2.00       1680.0   \n\n   sqft_lot floors  waterfront  view  ...  grade  sqft_above  sqft_basement  \\\n0      5650      1           0     0  ...      7        1180              0   \n1      7242      2           0     0  ...      7        2170            400   \n2     10000      1           0     0  ...      6         770              0   \n3      5000      1           0     0  ...      7        1050            910   \n4      8080      1           0     0  ...      8        1680              0   \n\n   yr_built  yr_renovated  zipcode      lat     long  sqft_living15  \\\n0      1955             0    98178  47.5112 -122.257         1340.0   \n1      1951          1991    98125  47.7210 -122.319         1690.0   \n2      1933             0    98028  47.7379 -122.233         2720.0   \n3      1965             0    98136  47.5208 -122.393         1360.0   \n4      1987             0    98074  47.6168 -122.045         1800.0   \n\n   sqft_lot15  \n0      5650.0  \n1      7639.0  \n2      8062.0  \n3      5000.0  \n4      7503.0  \n\n[5 rows x 21 columns]",
      "text/html": "<div>\n<style scoped>\n    .dataframe tbody tr th:only-of-type {\n        vertical-align: middle;\n    }\n\n    .dataframe tbody tr th {\n        vertical-align: top;\n    }\n\n    .dataframe thead th {\n        text-align: right;\n    }\n</style>\n<table border=\"1\" class=\"dataframe\">\n  <thead>\n    <tr style=\"text-align: right;\">\n      <th></th>\n      <th>id</th>\n      <th>date</th>\n      <th>price</th>\n      <th>bedrooms</th>\n      <th>bathrooms</th>\n      <th>sqft_living</th>\n      <th>sqft_lot</th>\n      <th>floors</th>\n      <th>waterfront</th>\n      <th>view</th>\n      <th>...</th>\n      <th>grade</th>\n      <th>sqft_above</th>\n      <th>sqft_basement</th>\n      <th>yr_built</th>\n      <th>yr_renovated</th>\n      <th>zipcode</th>\n      <th>lat</th>\n      <th>long</th>\n      <th>sqft_living15</th>\n      <th>sqft_lot15</th>\n    </tr>\n  </thead>\n  <tbody>\n    <tr>\n      <th>0</th>\n      <td>7129300520</td>\n      <td>20141013T000000</td>\n      <td>221900.0</td>\n      <td>3.0</td>\n      <td>1.00</td>\n      <td>1180.0</td>\n      <td>5650</td>\n      <td>1</td>\n      <td>0</td>\n      <td>0</td>\n      <td>...</td>\n      <td>7</td>\n      <td>1180</td>\n      <td>0</td>\n      <td>1955</td>\n      <td>0</td>\n      <td>98178</td>\n      <td>47.5112</td>\n      <td>-122.257</td>\n      <td>1340.0</td>\n      <td>5650.0</td>\n    </tr>\n    <tr>\n      <th>1</th>\n      <td>6414100192</td>\n      <td>20141209T000000</td>\n      <td>538000.0</td>\n      <td>3.0</td>\n      <td>2.25</td>\n      <td>2570.0</td>\n      <td>7242</td>\n      <td>2</td>\n      <td>0</td>\n      <td>0</td>\n      <td>...</td>\n      <td>7</td>\n      <td>2170</td>\n      <td>400</td>\n      <td>1951</td>\n      <td>1991</td>\n      <td>98125</td>\n      <td>47.7210</td>\n      <td>-122.319</td>\n      <td>1690.0</td>\n      <td>7639.0</td>\n    </tr>\n    <tr>\n      <th>2</th>\n      <td>5631500400</td>\n      <td>20150225T000000</td>\n      <td>180000.0</td>\n      <td>2.0</td>\n      <td>1.00</td>\n      <td>770.0</td>\n      <td>10000</td>\n      <td>1</td>\n      <td>0</td>\n      <td>0</td>\n      <td>...</td>\n      <td>6</td>\n      <td>770</td>\n      <td>0</td>\n      <td>1933</td>\n      <td>0</td>\n      <td>98028</td>\n      <td>47.7379</td>\n      <td>-122.233</td>\n      <td>2720.0</td>\n      <td>8062.0</td>\n    </tr>\n    <tr>\n      <th>3</th>\n      <td>2487200875</td>\n      <td>20141209T000000</td>\n      <td>604000.0</td>\n      <td>4.0</td>\n      <td>3.00</td>\n      <td>1960.0</td>\n      <td>5000</td>\n      <td>1</td>\n      <td>0</td>\n      <td>0</td>\n      <td>...</td>\n      <td>7</td>\n      <td>1050</td>\n      <td>910</td>\n      <td>1965</td>\n      <td>0</td>\n      <td>98136</td>\n      <td>47.5208</td>\n      <td>-122.393</td>\n      <td>1360.0</td>\n      <td>5000.0</td>\n    </tr>\n    <tr>\n      <th>4</th>\n      <td>1954400510</td>\n      <td>20150218T000000</td>\n      <td>510000.0</td>\n      <td>3.0</td>\n      <td>2.00</td>\n      <td>1680.0</td>\n      <td>8080</td>\n      <td>1</td>\n      <td>0</td>\n      <td>0</td>\n      <td>...</td>\n      <td>8</td>\n      <td>1680</td>\n      <td>0</td>\n      <td>1987</td>\n      <td>0</td>\n      <td>98074</td>\n      <td>47.6168</td>\n      <td>-122.045</td>\n      <td>1800.0</td>\n      <td>7503.0</td>\n    </tr>\n  </tbody>\n</table>\n<p>5 rows × 21 columns</p>\n</div>"
     },
     "execution_count": 106,
     "metadata": {},
     "output_type": "execute_result"
    }
   ],
   "source": [
    "domy.head(5)"
   ]
  },
  {
   "cell_type": "markdown",
   "metadata": {},
   "source": [
    "# Podziel dane na uczące i testowe.\n",
    "Używamy seed = 0, aby każdy, kto korzysta z tego notebooka, uzyskał te same wyniki. W praktyce możesz ustawić losowy podział."
   ]
  },
  {
   "cell_type": "code",
   "execution_count": 107,
   "metadata": {
    "ExecuteTime": {
     "end_time": "2024-11-03T15:56:52.462801285Z",
     "start_time": "2024-11-03T15:56:52.126471196Z"
    }
   },
   "outputs": [
    {
     "data": {
      "text/plain": "array(['id', 'date', 'bedrooms', 'bathrooms', 'sqft_living', 'sqft_lot',\n       'floors', 'waterfront', 'view', 'condition', 'grade', 'sqft_above',\n       'sqft_basement', 'yr_built', 'yr_renovated', 'zipcode', 'lat',\n       'long', 'sqft_living15', 'sqft_lot15'], dtype=object)"
     },
     "execution_count": 107,
     "metadata": {},
     "output_type": "execute_result"
    }
   ],
   "source": [
    "y = domy['price']\n",
    "X = domy.drop(['price'], axis=1)\n",
    "features = X.columns.values\n",
    "features"
   ]
  },
  {
   "cell_type": "code",
   "execution_count": 108,
   "metadata": {
    "ExecuteTime": {
     "end_time": "2024-11-03T15:56:52.462919079Z",
     "start_time": "2024-11-03T15:56:52.126636384Z"
    }
   },
   "outputs": [],
   "source": [
    "from sklearn.model_selection import train_test_split\n",
    "\n",
    "X_train, X_test, y_train, y_test = train_test_split(X, y, test_size=0.2, random_state=0)"
   ]
  },
  {
   "cell_type": "markdown",
   "metadata": {},
   "source": [
    "# Nauka modelu regresji wielorakiej"
   ]
  },
  {
   "cell_type": "markdown",
   "metadata": {},
   "source": [
    "Uczymy nasz mode wykorzystując cechy 'sqft_living', 'bedrooms', 'bathrooms'."
   ]
  },
  {
   "cell_type": "code",
   "execution_count": 109,
   "metadata": {
    "ExecuteTime": {
     "end_time": "2024-11-03T15:56:52.467664606Z",
     "start_time": "2024-11-03T15:56:52.131136941Z"
    }
   },
   "outputs": [],
   "source": [
    "example_features = ['sqft_living', 'bedrooms', 'bathrooms']\n",
    "pinw = np.linalg.pinv(X_train[example_features])\n",
    "w = np.dot(pinw, y_train)"
   ]
  },
  {
   "cell_type": "markdown",
   "metadata": {},
   "source": [
    "Po dopasowaniu modelu możemy wyodrębnić współczynniki (wagi) modelu regresji:"
   ]
  },
  {
   "cell_type": "code",
   "execution_count": 110,
   "metadata": {
    "ExecuteTime": {
     "end_time": "2024-11-03T15:56:52.469947555Z",
     "start_time": "2024-11-03T15:56:52.131260470Z"
    }
   },
   "outputs": [
    {
     "name": "stdout",
     "output_type": "stream",
     "text": [
      "Otrzymane współczynniki: [   308.54966331 -41754.38204544  17354.12106635]\n"
     ]
    }
   ],
   "source": [
    "print('Otrzymane współczynniki:', w)\n"
   ]
  },
  {
   "cell_type": "markdown",
   "metadata": {},
   "source": [
    "# Przewidywanie wartości modelu\n",
    "\n",
    "Mając wyliczone parametry modelu napisz funkcję do przewidywania wartości dla zadanego modelu"
   ]
  },
  {
   "cell_type": "code",
   "execution_count": 111,
   "metadata": {
    "ExecuteTime": {
     "end_time": "2024-11-03T15:56:52.470058745Z",
     "start_time": "2024-11-03T15:56:52.139836857Z"
    }
   },
   "outputs": [],
   "source": [
    "def predict_output(data, w):\n",
    "    res = np.dot(data, w)\n",
    "    return res"
   ]
  },
  {
   "cell_type": "code",
   "execution_count": 112,
   "metadata": {
    "ExecuteTime": {
     "end_time": "2024-11-03T15:56:52.482227250Z",
     "start_time": "2024-11-03T15:56:52.139940111Z"
    }
   },
   "outputs": [
    {
     "data": {
      "text/plain": "array([ 383748.43603868, 1330310.29293091,  373818.34187199, ...,\n        337749.69862805,  185213.15507236,  419805.07408762])"
     },
     "execution_count": 112,
     "metadata": {},
     "output_type": "execute_result"
    }
   ],
   "source": [
    "predict_output(X_test[example_features], w)"
   ]
  },
  {
   "cell_type": "markdown",
   "metadata": {},
   "source": [
    "# Wyliczamy błąd (SSE -  sum of squared estimate of errors)"
   ]
  },
  {
   "cell_type": "markdown",
   "metadata": {},
   "source": [
    "Teraz, gdy możemy wykonać przewidywanie na podstawie modelu, napiszmy funkcję obliczającą RSS modelu. Wykonaj poniższą funkcję, aby obliczy sumę kwadratów błędu estymacji (SSE) na podstawie modelu, danych i wyniku."
   ]
  },
  {
   "cell_type": "code",
   "execution_count": 113,
   "metadata": {
    "ExecuteTime": {
     "end_time": "2024-11-03T15:56:52.486531674Z",
     "start_time": "2024-11-03T15:56:52.148861404Z"
    }
   },
   "outputs": [],
   "source": [
    "def policz_SSE(model, data, outcome):\n",
    "    # Wylicz przewidywaną wartość\n",
    "    y = np.dot(data, model)\n",
    "    # Policz błąd bezwzglęny\n",
    "    e = np.subtract(y, outcome);\n",
    "    # Podnieś błędy do kwadratu i zsumuj je\n",
    "    SSE = np.sum(np.power(e, 2))\n",
    "    return (SSE)"
   ]
  },
  {
   "cell_type": "markdown",
   "metadata": {},
   "source": [
    "Przetestuj swoją funkcję obliczając błąd SSE dla danych TEST dla przykładowego modelu:"
   ]
  },
  {
   "cell_type": "code",
   "execution_count": 114,
   "metadata": {
    "ExecuteTime": {
     "end_time": "2024-11-03T15:56:52.488179671Z",
     "start_time": "2024-11-03T15:56:52.153466549Z"
    }
   },
   "outputs": [
    {
     "name": "stdout",
     "output_type": "stream",
     "text": [
      "261738485259246.84\n"
     ]
    }
   ],
   "source": [
    "przykladowe_rss = policz_SSE(w, X_test[example_features], y_test)\n",
    "print(przykladowe_rss)"
   ]
  },
  {
   "cell_type": "markdown",
   "metadata": {},
   "source": [
    "# Utwórz nowe cechy"
   ]
  },
  {
   "cell_type": "markdown",
   "metadata": {},
   "source": [
    "Mimo iż nasz model regresji wielorakiej obejmuje wiele różnych cech (np. ilosc_sypiani, powierzchnia i ilosc_lazienek) możemy również rozważyć przekształcenie istniejących cech, np. log(powierzchnia) czy nawet mnożenie ilości sypialni i łazienek."
   ]
  },
  {
   "cell_type": "markdown",
   "metadata": {},
   "source": [
    "Użyjemy funkcji logarytmu, aby utworzyć nowe cechy, więc najpierw należy wczytać odpowiedni pakiet z biblioteki matematycznej."
   ]
  },
  {
   "cell_type": "code",
   "execution_count": 115,
   "metadata": {
    "ExecuteTime": {
     "end_time": "2024-11-03T15:56:52.491308151Z",
     "start_time": "2024-11-03T15:56:52.154070500Z"
    }
   },
   "outputs": [],
   "source": [
    "from math import log"
   ]
  },
  {
   "cell_type": "markdown",
   "metadata": {},
   "source": [
    "Następnie utwórz następujące 4 nowe cechy jako kolumny w danych TRENINGOWYCH i TESTOWYCH:\n",
    "* bedrooms_squared = bedrooms\\*bedrooms\n",
    "* bed_bath_rooms = bedrooms\\*bathrooms\n",
    "* log_sqft_living = log(sqft_living)\n",
    "* lat_plus_long = lat + long \n",
    "\n",
    "Jako przykład oto pierwsza:"
   ]
  },
  {
   "cell_type": "code",
   "execution_count": 116,
   "metadata": {
    "ExecuteTime": {
     "end_time": "2024-11-03T15:56:52.491408932Z",
     "start_time": "2024-11-03T15:56:52.168167762Z"
    }
   },
   "outputs": [],
   "source": [
    "X_train['bedrooms_squared'] = X_train['bedrooms'].apply(lambda x: x ** 2)\n",
    "X_test['bedrooms_squared'] = X_test['bedrooms'].apply(lambda x: x ** 2)"
   ]
  },
  {
   "cell_type": "code",
   "execution_count": 117,
   "metadata": {
    "ExecuteTime": {
     "end_time": "2024-11-03T15:56:52.511145324Z",
     "start_time": "2024-11-03T15:56:52.168358386Z"
    }
   },
   "outputs": [
    {
     "data": {
      "text/plain": "               id             date  bedrooms  bathrooms  sqft_living  \\\n5268   5100402668  20150218T000000       3.0       1.00       1570.0   \n16909  7856560480  20140808T000000       3.0       2.50       1780.0   \n16123  2872900010  20150414T000000       3.0       1.50       1090.0   \n12181  3216900070  20140617T000000       4.0       2.50       2210.0   \n12617  0976000790  20141020T000000       3.0       2.50       1800.0   \n...           ...              ...       ...        ...          ...   \n13123  2322069010  20141007T000000       5.0       5.00       3960.0   \n19648  2114700368  20141118T000000       2.0       2.50       1400.0   \n9845   5469501200  20140820T000000       3.0       2.25       2360.0   \n10799  3751602797  20140702T000000       4.0       2.00       2370.0   \n2732   4038600260  20140922T000000       4.0       2.25       2380.0   \n\n       sqft_lot floors  waterfront  view  condition  ...  yr_renovated  \\\n5268       5510      1           0     0          4  ...             0   \n16909     11000      1           0     0          4  ...             0   \n16123      9862      1           0     0          3  ...             0   \n12181      7079      2           0     0          3  ...             0   \n12617      4763      2           0     0          3  ...             0   \n...         ...    ...         ...   ...        ...  ...           ...   \n13123     94089      2           0     0          3  ...             0   \n19648      1262      2           0     0          3  ...             0   \n9845      14950      1           0     0          4  ...             0   \n10799     76665      2           0     0          4  ...             0   \n2732      16236      1           0     0          3  ...             0   \n\n       zipcode      lat     long  sqft_living15 sqft_lot15  bedrooms_squared  \\\n5268     98115  47.6942 -122.319         1770.0     6380.0               9.0   \n16909    98006  47.5574 -122.149         2310.0     9700.0               9.0   \n16123    98074  47.6256 -122.036         1710.0     9862.0               9.0   \n12181    98031  47.4206 -122.183         1970.0     7000.0              16.0   \n12617    98119  47.6460 -122.362         1790.0     4763.0               9.0   \n...        ...      ...      ...            ...        ...               ...   \n13123    98038  47.3800 -122.011         2240.0    64468.0              25.0   \n19648    98106  47.5342 -122.349         1060.0     1524.0               4.0   \n9845     98042  47.3856 -122.158         2720.0    14388.0               9.0   \n10799    98001  47.2831 -122.279         2110.0    19334.0              16.0   \n2732     98008  47.6126 -122.120         2230.0     8925.0              16.0   \n\n       log_sqft_living  bed_bath_rooms  lat_plus_long  \n5268          7.358831            3.00       -74.6248  \n16909         7.484369            7.50       -74.5916  \n16123         6.993933            4.50       -74.4104  \n12181         7.700748           10.00       -74.7624  \n12617         7.495542            7.50       -74.7160  \n...                ...             ...            ...  \n13123         8.283999           25.00       -74.6310  \n19648         7.244228            5.00       -74.8148  \n9845          7.766417            6.75       -74.7724  \n10799         7.770645            8.00       -74.9959  \n2732          7.774856            9.00       -74.5074  \n\n[17290 rows x 24 columns]",
      "text/html": "<div>\n<style scoped>\n    .dataframe tbody tr th:only-of-type {\n        vertical-align: middle;\n    }\n\n    .dataframe tbody tr th {\n        vertical-align: top;\n    }\n\n    .dataframe thead th {\n        text-align: right;\n    }\n</style>\n<table border=\"1\" class=\"dataframe\">\n  <thead>\n    <tr style=\"text-align: right;\">\n      <th></th>\n      <th>id</th>\n      <th>date</th>\n      <th>bedrooms</th>\n      <th>bathrooms</th>\n      <th>sqft_living</th>\n      <th>sqft_lot</th>\n      <th>floors</th>\n      <th>waterfront</th>\n      <th>view</th>\n      <th>condition</th>\n      <th>...</th>\n      <th>yr_renovated</th>\n      <th>zipcode</th>\n      <th>lat</th>\n      <th>long</th>\n      <th>sqft_living15</th>\n      <th>sqft_lot15</th>\n      <th>bedrooms_squared</th>\n      <th>log_sqft_living</th>\n      <th>bed_bath_rooms</th>\n      <th>lat_plus_long</th>\n    </tr>\n  </thead>\n  <tbody>\n    <tr>\n      <th>5268</th>\n      <td>5100402668</td>\n      <td>20150218T000000</td>\n      <td>3.0</td>\n      <td>1.00</td>\n      <td>1570.0</td>\n      <td>5510</td>\n      <td>1</td>\n      <td>0</td>\n      <td>0</td>\n      <td>4</td>\n      <td>...</td>\n      <td>0</td>\n      <td>98115</td>\n      <td>47.6942</td>\n      <td>-122.319</td>\n      <td>1770.0</td>\n      <td>6380.0</td>\n      <td>9.0</td>\n      <td>7.358831</td>\n      <td>3.00</td>\n      <td>-74.6248</td>\n    </tr>\n    <tr>\n      <th>16909</th>\n      <td>7856560480</td>\n      <td>20140808T000000</td>\n      <td>3.0</td>\n      <td>2.50</td>\n      <td>1780.0</td>\n      <td>11000</td>\n      <td>1</td>\n      <td>0</td>\n      <td>0</td>\n      <td>4</td>\n      <td>...</td>\n      <td>0</td>\n      <td>98006</td>\n      <td>47.5574</td>\n      <td>-122.149</td>\n      <td>2310.0</td>\n      <td>9700.0</td>\n      <td>9.0</td>\n      <td>7.484369</td>\n      <td>7.50</td>\n      <td>-74.5916</td>\n    </tr>\n    <tr>\n      <th>16123</th>\n      <td>2872900010</td>\n      <td>20150414T000000</td>\n      <td>3.0</td>\n      <td>1.50</td>\n      <td>1090.0</td>\n      <td>9862</td>\n      <td>1</td>\n      <td>0</td>\n      <td>0</td>\n      <td>3</td>\n      <td>...</td>\n      <td>0</td>\n      <td>98074</td>\n      <td>47.6256</td>\n      <td>-122.036</td>\n      <td>1710.0</td>\n      <td>9862.0</td>\n      <td>9.0</td>\n      <td>6.993933</td>\n      <td>4.50</td>\n      <td>-74.4104</td>\n    </tr>\n    <tr>\n      <th>12181</th>\n      <td>3216900070</td>\n      <td>20140617T000000</td>\n      <td>4.0</td>\n      <td>2.50</td>\n      <td>2210.0</td>\n      <td>7079</td>\n      <td>2</td>\n      <td>0</td>\n      <td>0</td>\n      <td>3</td>\n      <td>...</td>\n      <td>0</td>\n      <td>98031</td>\n      <td>47.4206</td>\n      <td>-122.183</td>\n      <td>1970.0</td>\n      <td>7000.0</td>\n      <td>16.0</td>\n      <td>7.700748</td>\n      <td>10.00</td>\n      <td>-74.7624</td>\n    </tr>\n    <tr>\n      <th>12617</th>\n      <td>0976000790</td>\n      <td>20141020T000000</td>\n      <td>3.0</td>\n      <td>2.50</td>\n      <td>1800.0</td>\n      <td>4763</td>\n      <td>2</td>\n      <td>0</td>\n      <td>0</td>\n      <td>3</td>\n      <td>...</td>\n      <td>0</td>\n      <td>98119</td>\n      <td>47.6460</td>\n      <td>-122.362</td>\n      <td>1790.0</td>\n      <td>4763.0</td>\n      <td>9.0</td>\n      <td>7.495542</td>\n      <td>7.50</td>\n      <td>-74.7160</td>\n    </tr>\n    <tr>\n      <th>...</th>\n      <td>...</td>\n      <td>...</td>\n      <td>...</td>\n      <td>...</td>\n      <td>...</td>\n      <td>...</td>\n      <td>...</td>\n      <td>...</td>\n      <td>...</td>\n      <td>...</td>\n      <td>...</td>\n      <td>...</td>\n      <td>...</td>\n      <td>...</td>\n      <td>...</td>\n      <td>...</td>\n      <td>...</td>\n      <td>...</td>\n      <td>...</td>\n      <td>...</td>\n      <td>...</td>\n    </tr>\n    <tr>\n      <th>13123</th>\n      <td>2322069010</td>\n      <td>20141007T000000</td>\n      <td>5.0</td>\n      <td>5.00</td>\n      <td>3960.0</td>\n      <td>94089</td>\n      <td>2</td>\n      <td>0</td>\n      <td>0</td>\n      <td>3</td>\n      <td>...</td>\n      <td>0</td>\n      <td>98038</td>\n      <td>47.3800</td>\n      <td>-122.011</td>\n      <td>2240.0</td>\n      <td>64468.0</td>\n      <td>25.0</td>\n      <td>8.283999</td>\n      <td>25.00</td>\n      <td>-74.6310</td>\n    </tr>\n    <tr>\n      <th>19648</th>\n      <td>2114700368</td>\n      <td>20141118T000000</td>\n      <td>2.0</td>\n      <td>2.50</td>\n      <td>1400.0</td>\n      <td>1262</td>\n      <td>2</td>\n      <td>0</td>\n      <td>0</td>\n      <td>3</td>\n      <td>...</td>\n      <td>0</td>\n      <td>98106</td>\n      <td>47.5342</td>\n      <td>-122.349</td>\n      <td>1060.0</td>\n      <td>1524.0</td>\n      <td>4.0</td>\n      <td>7.244228</td>\n      <td>5.00</td>\n      <td>-74.8148</td>\n    </tr>\n    <tr>\n      <th>9845</th>\n      <td>5469501200</td>\n      <td>20140820T000000</td>\n      <td>3.0</td>\n      <td>2.25</td>\n      <td>2360.0</td>\n      <td>14950</td>\n      <td>1</td>\n      <td>0</td>\n      <td>0</td>\n      <td>4</td>\n      <td>...</td>\n      <td>0</td>\n      <td>98042</td>\n      <td>47.3856</td>\n      <td>-122.158</td>\n      <td>2720.0</td>\n      <td>14388.0</td>\n      <td>9.0</td>\n      <td>7.766417</td>\n      <td>6.75</td>\n      <td>-74.7724</td>\n    </tr>\n    <tr>\n      <th>10799</th>\n      <td>3751602797</td>\n      <td>20140702T000000</td>\n      <td>4.0</td>\n      <td>2.00</td>\n      <td>2370.0</td>\n      <td>76665</td>\n      <td>2</td>\n      <td>0</td>\n      <td>0</td>\n      <td>4</td>\n      <td>...</td>\n      <td>0</td>\n      <td>98001</td>\n      <td>47.2831</td>\n      <td>-122.279</td>\n      <td>2110.0</td>\n      <td>19334.0</td>\n      <td>16.0</td>\n      <td>7.770645</td>\n      <td>8.00</td>\n      <td>-74.9959</td>\n    </tr>\n    <tr>\n      <th>2732</th>\n      <td>4038600260</td>\n      <td>20140922T000000</td>\n      <td>4.0</td>\n      <td>2.25</td>\n      <td>2380.0</td>\n      <td>16236</td>\n      <td>1</td>\n      <td>0</td>\n      <td>0</td>\n      <td>3</td>\n      <td>...</td>\n      <td>0</td>\n      <td>98008</td>\n      <td>47.6126</td>\n      <td>-122.120</td>\n      <td>2230.0</td>\n      <td>8925.0</td>\n      <td>16.0</td>\n      <td>7.774856</td>\n      <td>9.00</td>\n      <td>-74.5074</td>\n    </tr>\n  </tbody>\n</table>\n<p>17290 rows × 24 columns</p>\n</div>"
     },
     "execution_count": 117,
     "metadata": {},
     "output_type": "execute_result"
    }
   ],
   "source": [
    "# utwórz pozostałe 3 funkcje zarówno w danych TRENINGOWYCH, jak i TESTOWYCH\n",
    "X_train['log_sqft_living'] = X_train['sqft_living'].apply(lambda x: log(x))\n",
    "X_test['log_sqft_living'] = X_test['sqft_living'].apply(lambda x: log(x))\n",
    "\n",
    "X_train['bed_bath_rooms'] = np.multiply(X_train['bathrooms'], X_train['bedrooms'])\n",
    "X_test['bed_bath_rooms'] = np.multiply(X_test['bathrooms'], X_test['bedrooms'])\n",
    "\n",
    "X_train['lat_plus_long'] = np.add(X_train['lat'], X_train['long'])\n",
    "X_test['lat_plus_long'] = np.add(X_test['lat'], X_test['long'])\n",
    "\n",
    "X_train"
   ]
  },
  {
   "cell_type": "markdown",
   "metadata": {},
   "source": [
    "* Kwadrat sypialni zwiększa separację między nielicznymi sypialniami (np. 1) i wieloma sypialniami (np. 4), ponieważ 1 ^ 2 = 1, ale 4 ^ 2 = 16. W konsekwencji ta funkcja będzie miała wpływ głównie na domy z wieloma sypialniami.\n",
    "* Sypialnia razy łazienka daje tak zwaną funkcję „interakcji”. Wynik jest wysoki, gdy  wartości *obu* cech są duże.\n",
    "* Przejęcie logarytmu stóp kwadratowych powoduje zbliżenie dużych wartości i rozłożenie małych wartości. Wynika to z reguły prawoskośności posiadanych danych/posiadanego atrybutu.\n",
    "* Dodawanie szerokości do długości geograficznej jest wydaje się całkowicie bezsensowne, ale i tak to zrobimy (zobaczymy później dlaczego)"
   ]
  },
  {
   "cell_type": "markdown",
   "metadata": {},
   "source": [
    "**Pytanie quizu: Jakie są średnie (średnia arytmetyczna) twoich 4 nowych atrybutów w danych TEST? (w zaokrągleniu do 2 cyfr)**"
   ]
  },
  {
   "cell_type": "code",
   "execution_count": 118,
   "metadata": {
    "ExecuteTime": {
     "end_time": "2024-11-03T15:56:52.511382999Z",
     "start_time": "2024-11-03T15:56:52.189916685Z"
    }
   },
   "outputs": [
    {
     "name": "stdout",
     "output_type": "stream",
     "text": [
      "bedrooms_squared:  12.210501966227158\n",
      "log_sqft_living:  7.5502394677947615\n",
      "bed_bath_rooms:  7.447721489706223\n",
      "lat_plus_long:  -74.65426069858893\n"
     ]
    }
   ],
   "source": [
    "print(\"bedrooms_squared: \", np.mean(X_test['bedrooms_squared']))\n",
    "print(\"log_sqft_living: \", np.mean(X_test['log_sqft_living']))\n",
    "\n",
    "print(\"bed_bath_rooms: \", np.mean(X_test['bed_bath_rooms']))\n",
    "print(\"lat_plus_long: \", np.mean(X_test['lat_plus_long']))\n"
   ]
  },
  {
   "cell_type": "markdown",
   "metadata": {},
   "source": [
    "# Uczenie wielu modeli"
   ]
  },
  {
   "cell_type": "markdown",
   "metadata": {},
   "source": [
    "Teraz poznamy wagi trzech (zagnieżdżonych) modeli do przewidywania cen domów. Pierwszy model będzie miał najmniej cech, drugi model powiększymy o jedną cechę, a trzeci doda jeszcze kilka:\n",
    "* Model 1: squarefeet, # bedrooms, # bathrooms, latitude & longitude\n",
    "* Model 2: + bedrooms\\*bathrooms\n",
    "* Model 3: + log squarefeet, bedrooms squared, i (bezsensowne) latitude + longitude"
   ]
  },
  {
   "cell_type": "code",
   "execution_count": 119,
   "metadata": {
    "ExecuteTime": {
     "end_time": "2024-11-03T15:56:52.511481100Z",
     "start_time": "2024-11-03T15:56:52.190029395Z"
    }
   },
   "outputs": [],
   "source": [
    "model_1_features = ['sqft_living', 'bedrooms', 'bathrooms', 'lat', 'long']\n",
    "model_2_features = model_1_features + ['bed_bath_rooms']\n",
    "model_3_features = model_2_features + ['bedrooms_squared', 'log_sqft_living', 'lat_plus_long']"
   ]
  },
  {
   "cell_type": "markdown",
   "metadata": {},
   "source": [
    "Teraz, gdy mamy już cechy, poznaj wagi trzech różnych modeli do przewidywania docelowej „ceny” za pomocą funkcji model_train i spójrz na wartość wag/współczynników:"
   ]
  },
  {
   "cell_type": "code",
   "execution_count": 120,
   "metadata": {
    "ExecuteTime": {
     "end_time": "2024-11-03T15:56:52.530095800Z",
     "start_time": "2024-11-03T15:56:52.190081536Z"
    }
   },
   "outputs": [],
   "source": [
    "# Funkcja szukająca współczynników modelu\n",
    "def model_train(X_train, Y_train):\n",
    "    # Wylicz współczynniki modelu wykorzystując pseudoodwrotność\n",
    "    pinw = np.linalg.pinv(X_train)\n",
    "    model = np.dot(pinw, Y_train)\n",
    "    return (model)"
   ]
  },
  {
   "cell_type": "code",
   "execution_count": 121,
   "metadata": {
    "ExecuteTime": {
     "end_time": "2024-11-03T15:56:52.531661702Z",
     "start_time": "2024-11-03T15:56:52.207801360Z"
    }
   },
   "outputs": [],
   "source": [
    "# Wyucz 3 modele:\n",
    "m1 = model_train(X_train[model_1_features], y_train)\n",
    "m2 = model_train(X_train[model_2_features], y_train)\n",
    "m3 = model_train(X_train[model_3_features], y_train)\n"
   ]
  },
  {
   "cell_type": "code",
   "execution_count": 122,
   "metadata": {
    "ExecuteTime": {
     "end_time": "2024-11-03T15:56:52.532539299Z",
     "start_time": "2024-11-03T15:56:52.207939621Z"
    }
   },
   "outputs": [
    {
     "name": "stdout",
     "output_type": "stream",
     "text": [
      "m1:  [ 3.00159310e+02 -5.23689819e+04  4.58247068e+03  5.29238529e+05\n",
      "  2.05262847e+05]\n",
      "m2:  [ 2.92464746e+02 -1.21761358e+05 -1.09383881e+05  5.30036632e+05\n",
      "  2.03619080e+05  3.35897011e+04]\n",
      "m3:  [ 5.55032435e+02  1.34221113e+03  8.84250144e+04  3.03201909e+05\n",
      " -6.29628448e+04 -1.60202196e+04  8.18714827e+02 -6.45602857e+05\n",
      "  2.40239065e+05]\n"
     ]
    }
   ],
   "source": [
    "# Wyświetl wagi współczynników modelu:\n",
    "print(\"m1: \", m1)\n",
    "print(\"m2: \", m2)\n",
    "print(\"m3: \", m3)\n"
   ]
  },
  {
   "cell_type": "markdown",
   "metadata": {},
   "source": [
    "**Quiz: Jaki jest znak (dodatni lub ujemny) dla współczynnika/wagi dla „łazienek” w modelu 1?**\n",
    "\n",
    "**Quiz: Jaki jest znak (dodatni lub ujemny) dla współczynnika/wagi dla „łazienek” w modelu 2?**\n",
    "\n",
    "Zastanów się, co to znaczy."
   ]
  },
  {
   "cell_type": "markdown",
   "metadata": {},
   "source": [
    "# Porównywanie wielu modeli\n",
    "\n",
    "Teraz, gdy otrzymaliśmy trzy modele i wyodrębniliśmy wagi modeli, chcemy ocenić, który model jest najlepszy."
   ]
  },
  {
   "cell_type": "markdown",
   "metadata": {},
   "source": [
    "Używając wcześniej opisanych funkcji obliczy SSE dla danych uczących dla każdego z trzech modeli."
   ]
  },
  {
   "cell_type": "code",
   "execution_count": 123,
   "metadata": {
    "ExecuteTime": {
     "end_time": "2024-11-03T15:56:52.532703636Z",
     "start_time": "2024-11-03T15:56:52.208031010Z"
    }
   },
   "outputs": [
    {
     "name": "stdout",
     "output_type": "stream",
     "text": [
      "m1: 1082381909711003.2\n",
      "m2: 1065791753438925.9\n",
      "m3: 991825573399600.0\n"
     ]
    }
   ],
   "source": [
    "# Policz SSE na danych TRENINGOWYCH dla każdeg z 3 modeli i zapisz wartości:\n",
    "print(\"m1:\", policz_SSE(m1, X_train[model_1_features], y_train))\n",
    "print(\"m2:\", policz_SSE(m2, X_train[model_2_features], y_train))\n",
    "print(\"m3:\", policz_SSE(m3, X_train[model_3_features], y_train))"
   ]
  },
  {
   "cell_type": "markdown",
   "metadata": {},
   "source": [
    "**Quiz: Który model (1, 2 lub 3) ma najniższy poziom SSE na danych TRENINGOWYCH?** Czy tego się spodziewałeś/-łaś?"
   ]
  },
  {
   "cell_type": "markdown",
   "metadata": {},
   "source": [
    "Teraz obliczyć SSE na danych TEST dla każdego z trzech modeli."
   ]
  },
  {
   "cell_type": "code",
   "execution_count": 124,
   "metadata": {
    "ExecuteTime": {
     "end_time": "2024-11-03T15:56:52.538772010Z",
     "start_time": "2024-11-03T15:56:52.229241957Z"
    }
   },
   "outputs": [
    {
     "name": "stdout",
     "output_type": "stream",
     "text": [
      "m1: 233700269953884.75\n",
      "m2: 229575356886062.44\n",
      "m3: 221041949402646.47\n"
     ]
    }
   ],
   "source": [
    "# Teraz obliczyć SSE na danych TEST dla każdego z trzech modeli i zapisz wartości:\n",
    "print(\"m1:\", policz_SSE(m1, X_test[model_1_features], y_test))\n",
    "print(\"m2:\", policz_SSE(m2, X_test[model_2_features], y_test))\n",
    "print(\"m3:\", policz_SSE(m3, X_test[model_3_features], y_test))"
   ]
  },
  {
   "cell_type": "markdown",
   "metadata": {},
   "source": [
    "**Quiz: Który model (1, 2 lub 3) ma najniższy poziom SSE na danych TESTOWYCH?** Czy tego się spodziewałeś/-łaś? Pomyśl o cechach, które zostały dodane do każdego z modeli."
   ]
  },
  {
   "cell_type": "markdown",
   "metadata": {
    "collapsed": true
   },
   "source": [
    "# Policz pochodną"
   ]
  },
  {
   "cell_type": "markdown",
   "metadata": {},
   "source": [
    "Przejdziemy teraz do obliczania pochodnej funkcji kosztu regresji. Przypomnij sobie, że funkcja kosztu jest sumą kwadratów różnic między punktami danych a przewidywanym wynikiem.\n",
    "\n",
    "Ponieważ pochodna sumy jest sumą pochodnych, możemy obliczyć pochodną dla pojedynczego punktu danych, a następnie wyznaczyć sumę na podstawie punktów danych. Możemy zapisać kwadrat różnicy między obserwowanym a przewidywanym wynikiem dla pojedynczego punktu w następujący sposób:\n",
    "\n",
    "(w[0]\\*[CONSTANT] + w[1]\\*[cecha_1] + ... + w[i] \\*[cecha_i] + ... +  w[k]\\*[cecha_k] - output)^2\n",
    "\n",
    "Gdzie mamy *k* cech i stałą. Tak więc pochodną w odniesieniu do wagi w[i] według reguły łańcucha jest:\n",
    "\n",
    "2\\*(w[0]\\*[CONSTANT] + w[1]\\*[cecha_1] + ... + w[i] \\*[cecha_i] + ... +  w[k]\\*[cecha_k] - output)\\* [cecha_i]\n",
    "\n",
    "Pojęcie w nawiasach to tylko błąd (różnica między prognozowaniem a wyjściem). Możemy więc ponownie napisać to jako:\n",
    "\n",
    "2\\*error\\*[cecha_i]\n",
    "\n",
    "Oznacza to, że pochodną wagi cechy *i-tej* jest suma (ponad punkty danych) 2-krotności iloczynu błędu i samej cechy. W przypadku stałej jest to tylko dwukrotność sumy błędów!\n",
    "\n",
    "Przypomnijmy, że dwukrotność sumy iloczynu dwóch wektorów jest tylko dwukrotnością iloczynu dwóch wektorów. Dlatego pochodna wagi dla *cechy_i* jest tylko dwukrotnością iloczynu między wartościami *cechy_i* a bieżącymi błędami.\n",
    "\n",
    "Mając to na uwadze, należy wyznaczyć funkcję, która oblicza pochodną współczynnika na podstawie wartości cechy (we wszystkich punktach danych) i błędów (we wszystkich punktach danych)."
   ]
  },
  {
   "cell_type": "code",
   "execution_count": 125,
   "metadata": {
    "ExecuteTime": {
     "end_time": "2024-11-03T15:56:52.539689189Z",
     "start_time": "2024-11-03T15:56:52.229398805Z"
    }
   },
   "outputs": [],
   "source": [
    "def feature_derivative(errors, feature):\n",
    "    # Oblicz podwojony iloczyn cech i błędów, a następnie zwróć otrzymną wartość\n",
    "    derivative = 2 * np.dot(errors, feature)\n",
    "    return (derivative)"
   ]
  },
  {
   "cell_type": "markdown",
   "source": [],
   "metadata": {
    "collapsed": false
   }
  },
  {
   "cell_type": "markdown",
   "metadata": {},
   "source": [
    "# Metoda spadku gradientu / gradientu prostego (Gradient Descent)"
   ]
  },
  {
   "cell_type": "markdown",
   "metadata": {},
   "source": [
    "Teraz napiszemy funkcję, która wykonuje spadek gradientu. Podstawową przesłanką jest prosta. Biorąc pod uwagę punkt początkowy, aktualizujemy bieżące wagi, przesuwając się w kierunku ujemnego gradientu. Przypomnijmy, że gradient jest kierunkiem *wzrostu*, a zatem gradient ujemny jest kierunkiem *spadku* i staramy się *zminimalizować* funkcję kosztu.\n",
    "\n",
    "Współczynnik, z jakim poruszamy się w kierunku gradientu ujemnego, nazywa się „rozmiarem kroku” - $\\alpha$. Zatrzymujemy się, gdy jesteśmy „wystarczająco blisko” rozwiązania optymalnego. Definiujemy to, wymagając, aby wielkość gradientu była mniejsza niż stała „tolerancja” - $\\epsilon$.\n",
    "\n",
    "Mając to na uwadze, wykonaj funkcję spadku gradientu poniżej, używając funkcji pochodnej. Dla każdego kroku zejścia gradientu aktualizujemy wagę każdego współczynnika przed obliczeniem naszych kryteriów zatrzymania."
   ]
  },
  {
   "cell_type": "code",
   "execution_count": 126,
   "metadata": {
    "ExecuteTime": {
     "end_time": "2024-11-03T15:56:52.539798804Z",
     "start_time": "2024-11-03T15:56:52.229490405Z"
    }
   },
   "outputs": [],
   "source": [
    "from math import sqrt  # wywołanie funkcji na wektorze [g[0], g[1], g[2]] daje sqrt(g[0]^2 + g[1]^2 + g[2]^2)"
   ]
  },
  {
   "cell_type": "code",
   "execution_count": 127,
   "metadata": {
    "ExecuteTime": {
     "end_time": "2024-11-03T15:56:52.539887599Z",
     "start_time": "2024-11-03T15:56:52.229542125Z"
    }
   },
   "outputs": [],
   "source": [
    "import numpy as np"
   ]
  },
  {
   "cell_type": "code",
   "execution_count": 128,
   "metadata": {
    "ExecuteTime": {
     "end_time": "2024-11-03T15:56:52.561082162Z",
     "start_time": "2024-11-03T15:56:52.271635998Z"
    }
   },
   "outputs": [],
   "source": [
    "def regression_gradient_descent(feature_matrix, output, initial_weights, step_size, tolerance):\n",
    "    converged = False\n",
    "    weights = np.array(initial_weights)  # miej pewność, że wagi są typu numpy array\n",
    "    while not converged:\n",
    "        # obliczyć prognozy na podstawie feature_matrix i wag za pomocą funkcji predict_output()\n",
    "        prognosis = predict_output(feature_matrix, weights)\n",
    "        # wylicz błąd predykcji jako: predict_output - output\n",
    "        Err_pred = np.subtract(prognosis, output)\n",
    "        gradient_sum_squares = 0  # inicjuj sumę pierwiastków gradientów\n",
    "        # chociaż nie osiągnęliśmy jeszcze tolerancji, zaktualizuj wagę każdej funkcji\n",
    "        for i in range(len(weights)):  # zapętlenie każdej wagi\n",
    "            # Przypomnij sobie, że feature_matrix [:, i] to kolumna cech powiązana z wagami[i]\n",
    "            # obliczyć pochodną dla wagi[i]:\n",
    "            dEdf = feature_derivative(Err_pred, feature_matrix[:, i])\n",
    "            # dodaj kwadrat wartości pochodnej do sumy kwadratów gradientów (ocena zbieżności) \n",
    "            gradient_sum_squares = gradient_sum_squares + dEdf ** 2\n",
    "            # odejmij wielkość kroku pomnożoną przez pochodną od bieżącej wagi\n",
    "            weights[i] = weights[i] - step_size * dEdf\n",
    "        # oblicz pierwiastek kwadratowy z sumy gradientów kwadratów, aby uzyskać wielkość gradientu:\n",
    "        gradient_magnitude = sqrt(gradient_sum_squares)\n",
    "        if gradient_magnitude < tolerance:\n",
    "            converged = True"
   ]
  },
  {
   "cell_type": "markdown",
   "metadata": {},
   "source": [
    "Kilka rzeczy, na które należy zwrócić uwagę, zanim zaczniemy korzystać z metody spadku gradientu. Ponieważ gradient jest sumą wszystkich punktów danych i obejmuje iloczyn błędu i wartości cechy, sam gradient będzie bardzo duży, ponieważ cechy są duże (stopy kwadratowe), a wynik jest duży (ceny). Tak więc, chociaż można oczekiwać, że „tolerancja” będzie niewielka, mała jest jedynie zależna od wielkości cechy.\n",
    "\n",
    "Z podobnych powodów rozmiar kroku będzie znacznie mniejszy niż można się spodziewać, ale dzieje się tak, ponieważ gradient ma tak duże wartości."
   ]
  },
  {
   "cell_type": "markdown",
   "metadata": {},
   "source": [
    "# Uruchamianie spadku gradientu jako prostej regresji"
   ]
  },
  {
   "cell_type": "markdown",
   "metadata": {},
   "source": [
    "Chociaż opadanie gradientu jest zaprojektowane dla regresji wielorakiej, ponieważ stała jest teraz funkcją, możemy użyć funkcji spadku gradientu do oszacowania parametrów prostej regresji na \"squarefeet\". Następująca komórka ustawia funkcję parametr_macierz, wynik, wagi początkowe i rozmiar kroku dla pierwszego modelu:"
   ]
  },
  {
   "cell_type": "code",
   "execution_count": null,
   "metadata": {
    "ExecuteTime": {
     "start_time": "2024-11-03T16:06:10.601714923Z"
    }
   },
   "outputs": [],
   "source": [
    "# Napisz funkcję get_numpy_data(train_data, simple_features, my_output) tworzącą zbiory treningowe X_train i y_train\n",
    "def get_numpy_data(train_data, simple_features, my_output):\n",
    "    # Napisz funkcję\n",
    "    #Standaryzacja\n",
    "    scaler = StandardScaler()\n",
    "    Y = train_data[my_output]\n",
    "    scaledY = scaler.fit_transform(Y)    \n",
    "    \n",
    "    X = train_data.drop([my_output], axis=1)\n",
    "    scaledX = scaler.fit_transform(X)\n",
    "    \n",
    "    ones = np.ones((train_data.shape[0], 1))\n",
    "    feature_matrix = scaledX[simple_features].to_numpy()\n",
    "    simple_feature_matrix = np.hstack((ones, feature_matrix))\n",
    "    output = scaledY\n",
    "    return simple_feature_matrix, output"
   ]
  },
  {
   "cell_type": "code",
   "execution_count": 156,
   "metadata": {
    "ExecuteTime": {
     "end_time": "2024-11-03T16:26:09.211524559Z",
     "start_time": "2024-11-03T16:26:09.197844832Z"
    }
   },
   "outputs": [],
   "source": [
    "from sklearn.preprocessing import MinMaxScaler\n",
    "\n",
    "\n",
    "# Napisz funkcję get_numpy_data(train_data, simple_features, my_output) tworzącą zbiory treningowe X_train i y_train\n",
    "def get_numpy_data(train_data, simple_features, my_output):\n",
    "    # Napisz funkcję\n",
    "    #Standaryzacja\n",
    "    scaler = MinMaxScaler()\n",
    "    Y = train_data[my_output]\n",
    "    scaledY = scaler.fit_transform(Y.values.reshape(-1,1)).flatten() \n",
    "    \n",
    "    X = train_data.drop([my_output], axis=1)\n",
    "    scaledX = scaler.fit_transform(X[simple_features])\n",
    "    \n",
    "    ones = np.ones((train_data.shape[0], 1))\n",
    "    feature_matrix = scaledX\n",
    "    simple_feature_matrix = np.hstack((ones, feature_matrix))\n",
    "    output = scaledY\n",
    "    return simple_feature_matrix, output\n",
    "train_data = domy\n",
    "# test spadku gradientów\n",
    "simple_features = ['sqft_living']\n",
    "my_output = 'price'\n",
    "(simple_feature_matrix, output) = get_numpy_data(train_data, simple_features, my_output)\n",
    "initial_weights = np.array([-.06, 1.])\n",
    "step_size = 7e-12\n",
    "tolerance = 2.5e7"
   ]
  },
  {
   "cell_type": "code",
   "execution_count": 152,
   "outputs": [
    {
     "data": {
      "text/plain": "array([[1.        , 0.06716981],\n       [1.        , 0.17207547],\n       [1.        , 0.03622642],\n       ...,\n       [1.        , 0.05509434],\n       [1.        , 0.09886792],\n       [1.        , 0.05509434]])"
     },
     "execution_count": 152,
     "metadata": {},
     "output_type": "execute_result"
    }
   ],
   "source": [
    "simple_feature_matrix"
   ],
   "metadata": {
    "collapsed": false,
    "ExecuteTime": {
     "end_time": "2024-11-03T16:19:43.195203979Z",
     "start_time": "2024-11-03T16:19:43.151847745Z"
    }
   }
  },
  {
   "cell_type": "markdown",
   "metadata": {},
   "source": [
    "Następnie uruchom gradient z powyższymi parametrami."
   ]
  },
  {
   "cell_type": "code",
   "execution_count": 157,
   "metadata": {
    "ExecuteTime": {
     "end_time": "2024-11-03T16:26:15.539803368Z",
     "start_time": "2024-11-03T16:26:15.490329214Z"
    }
   },
   "outputs": [],
   "source": [
    "def regression_gradient_descent(feature_matrix, output, initial_weights, step_size, tolerance):\n",
    "    converged = False\n",
    "    weights = np.array(initial_weights)  # miej pewność, że wagi są typu numpy array\n",
    "    while not converged:\n",
    "        # obliczyć prognozy na podstawie feature_matrix i wag za pomocą funkcji predict_output()\n",
    "        prognosis = predict_output(feature_matrix, weights)\n",
    "        # wylicz błąd predykcji jako: predict_output - output\n",
    "        Err_pred = np.subtract(prognosis, output)\n",
    "        gradient_sum_squares = 0  # inicjuj sumę pierwiastków gradientów\n",
    "        # chociaż nie osiągnęliśmy jeszcze tolerancji, zaktualizuj wagę każdej funkcji\n",
    "        for i in range(len(weights)):  # zapętlenie każdej wagi\n",
    "            # Przypomnij sobie, że feature_matrix [:, i] to kolumna cech powiązana z wagami[i]\n",
    "            # obliczyć pochodną dla wagi[i]:\n",
    "            dEdf = feature_derivative(Err_pred, feature_matrix[:, i])\n",
    "            # dodaj kwadrat wartości pochodnej do sumy kwadratów gradientów (ocena zbieżności) \n",
    "            gradient_sum_squares = gradient_sum_squares + dEdf ** 2\n",
    "            # odejmij wielkość kroku pomnożoną przez pochodną od bieżącej wagi\n",
    "            weights[i] = weights[i] - step_size * dEdf\n",
    "        # oblicz pierwiastek kwadratowy z sumy gradientów kwadratów, aby uzyskać wielkość gradientu:\n",
    "        gradient_magnitude = sqrt(gradient_sum_squares)\n",
    "        if gradient_magnitude < tolerance:\n",
    "            converged = True\n",
    "    return (weights)\n",
    "a = regression_gradient_descent(simple_feature_matrix, output, initial_weights, step_size, tolerance)"
   ]
  },
  {
   "cell_type": "markdown",
   "metadata": {},
   "source": [
    "Porównaj wagi do tych uzyskanych przy pomocy pseudoodwrotności?\n",
    "\n",
    "**Pytanie quizu: Jaka jest waga sqft_living - drugi element „simple_weights” (w zaokrągleniu do 1 miejsca po przecinku)?**"
   ]
  },
  {
   "cell_type": "code",
   "execution_count": 158,
   "metadata": {
    "ExecuteTime": {
     "end_time": "2024-11-03T16:26:19.269900259Z",
     "start_time": "2024-11-03T16:26:19.265480355Z"
    }
   },
   "outputs": [
    {
     "name": "stdout",
     "output_type": "stream",
     "text": [
      "1.0\n"
     ]
    }
   ],
   "source": [
    "print(f\"{a[1]:.1f}\") "
   ]
  },
  {
   "cell_type": "markdown",
   "metadata": {},
   "source": [
    "Zobacz jak się zachowuje metoda gradientowa po przeskalowaniu wartości cech:"
   ]
  },
  {
   "cell_type": "raw",
   "source": [
    "Zapętla się w nieskończoność bo początkowe wagi są za duże\n"
   ],
   "metadata": {
    "collapsed": false
   }
  }
 ],
 "metadata": {
  "kernelspec": {
   "display_name": "Python 3",
   "language": "python",
   "name": "python3"
  },
  "language_info": {
   "codemirror_mode": {
    "name": "ipython",
    "version": 3
   },
   "file_extension": ".py",
   "mimetype": "text/x-python",
   "name": "python",
   "nbconvert_exporter": "python",
   "pygments_lexer": "ipython3",
   "version": "3.7.10"
  }
 },
 "nbformat": 4,
 "nbformat_minor": 1
}
